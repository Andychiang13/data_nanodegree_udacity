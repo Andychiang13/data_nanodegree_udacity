{
 "cells": [
  {
   "cell_type": "markdown",
   "metadata": {},
   "source": [
    "## Data Gathering"
   ]
  },
  {
   "cell_type": "markdown",
   "metadata": {},
   "source": [
    "This code is used for gathering tweets from twitter using tweepy api."
   ]
  },
  {
   "cell_type": "markdown",
   "metadata": {},
   "source": [
    "import tweepy\n",
    "\n",
    "consumer_key = 'l1gLDXU3GYZQjRGnEA4Ma8gU3'\n",
    "consumer_secret = 'khk81htq2upjqVJ6IyjUz4QQasVIFlA1iHzy0z2qTN0LKFBQBY'\n",
    "access_token = '895327996239904769-KdcIVs0jKnDTwMUmcLXPQOQzwpxHr0B'\n",
    "access_secret = 'XudQcaLkQYWLSvF8uCE7fjSAASNnwx1zo31MGrVk0yvPy'\n",
    "\n",
    "auth = tweepy.OAuthHandler(consumer_key, consumer_secret)\n",
    "auth.set_access_token(access_token, access_secret)\n",
    "\n",
    "api = tweepy.API(auth, wait_on_rate_limit=True)\n",
    "\n",
    "count = 0\n",
    "fails_dict = {}\n",
    "start = timer()\n",
    "# Save each tweet's returned JSON as a new line in a .txt file\n",
    "with open('tweet_json.txt', 'w') as outfile:\n",
    "    # This loop will likely take 20-30 minutes to run because of Twitter's rate limit\n",
    "    for tweet_id in tweet_ids:\n",
    "        count += 1\n",
    "        print(str(count) + \": \" + str(tweet_id))\n",
    "        try:\n",
    "            tweet = api.get_status(tweet_id, tweet_mode='extended')\n",
    "            print(\"Success\")\n",
    "            json.dump(tweet._json, outfile)\n",
    "            outfile.write('\\n')\n",
    "        except tweepy.TweepError as e:\n",
    "            print(\"Fail\")\n",
    "            fails_dict[tweet_id] = e\n",
    "            pass\n",
    "end = timer()\n",
    "print(end - start)\n",
    "print(fails_dict)"
   ]
  },
  {
   "cell_type": "code",
   "execution_count": 1,
   "metadata": {
    "scrolled": true
   },
   "outputs": [],
   "source": [
    "import pandas as pd\n",
    "df = pd.read_csv('twitter-archive-enhanced.csv')"
   ]
  },
  {
   "cell_type": "markdown",
   "metadata": {},
   "source": [
    "Import image prediction data"
   ]
  },
  {
   "cell_type": "code",
   "execution_count": 2,
   "metadata": {},
   "outputs": [],
   "source": [
    "image=pd.read_csv('image-predictions.tsv',sep='\\t')"
   ]
  },
  {
   "cell_type": "markdown",
   "metadata": {},
   "source": [
    "Gather the useful information from original txt file for each tweet. Here I gatherd *tweet_id*, *retweet_count*, and *favorite_count*."
   ]
  },
  {
   "cell_type": "code",
   "execution_count": 3,
   "metadata": {
    "scrolled": false
   },
   "outputs": [],
   "source": [
    "import re\n",
    "fh = open('tweet-json.txt')\n",
    "dict_tweet = {}\n",
    "for line in fh:\n",
    "    idd = re.search('\"id\": \\d+',line).group().split(' ')[1]\n",
    "    retweet = re.search('\"retweet_count\": \\d+',line).group().split(' ')[1]\n",
    "    fav = re.search('\"favorite_count\": \\d+',line).group().split(' ')[1]\n",
    "    dict_tweet[idd]=[retweet,fav]\n",
    "fh.close()"
   ]
  },
  {
   "cell_type": "markdown",
   "metadata": {},
   "source": [
    "Change the *retweet_count* values and *favorite_count* values from string type to integer type. Note that I did not change the id to integer."
   ]
  },
  {
   "cell_type": "code",
   "execution_count": 4,
   "metadata": {},
   "outputs": [],
   "source": [
    "df_tweet = pd.DataFrame.from_dict(dict_tweet, orient='index')\n",
    "df_tweet.reset_index(inplace=True)\n",
    "df_tweet.columns = ['tweet_id','retweet_count','favorite_count']\n",
    "df_tweet['retweet_count']=df_tweet['retweet_count'].astype(int)\n",
    "df_tweet['favorite_count']=df_tweet['favorite_count'].astype(int)\n",
    "df_tweet['tweet_id']=df_tweet['tweet_id'].astype(int)"
   ]
  },
  {
   "cell_type": "markdown",
   "metadata": {},
   "source": [
    "Check each dataframe's information."
   ]
  },
  {
   "cell_type": "code",
   "execution_count": 5,
   "metadata": {},
   "outputs": [
    {
     "name": "stdout",
     "output_type": "stream",
     "text": [
      "<class 'pandas.core.frame.DataFrame'>\n",
      "RangeIndex: 2354 entries, 0 to 2353\n",
      "Data columns (total 3 columns):\n",
      "tweet_id          2354 non-null int64\n",
      "retweet_count     2354 non-null int64\n",
      "favorite_count    2354 non-null int64\n",
      "dtypes: int64(3)\n",
      "memory usage: 55.2 KB\n"
     ]
    }
   ],
   "source": [
    "df_tweet.info()"
   ]
  },
  {
   "cell_type": "code",
   "execution_count": 6,
   "metadata": {
    "scrolled": false
   },
   "outputs": [
    {
     "name": "stdout",
     "output_type": "stream",
     "text": [
      "<class 'pandas.core.frame.DataFrame'>\n",
      "RangeIndex: 2075 entries, 0 to 2074\n",
      "Data columns (total 12 columns):\n",
      "tweet_id    2075 non-null int64\n",
      "jpg_url     2075 non-null object\n",
      "img_num     2075 non-null int64\n",
      "p1          2075 non-null object\n",
      "p1_conf     2075 non-null float64\n",
      "p1_dog      2075 non-null bool\n",
      "p2          2075 non-null object\n",
      "p2_conf     2075 non-null float64\n",
      "p2_dog      2075 non-null bool\n",
      "p3          2075 non-null object\n",
      "p3_conf     2075 non-null float64\n",
      "p3_dog      2075 non-null bool\n",
      "dtypes: bool(3), float64(3), int64(2), object(4)\n",
      "memory usage: 152.1+ KB\n"
     ]
    }
   ],
   "source": [
    "image.info()"
   ]
  },
  {
   "cell_type": "code",
   "execution_count": 7,
   "metadata": {
    "scrolled": true
   },
   "outputs": [
    {
     "name": "stdout",
     "output_type": "stream",
     "text": [
      "<class 'pandas.core.frame.DataFrame'>\n",
      "RangeIndex: 2356 entries, 0 to 2355\n",
      "Data columns (total 17 columns):\n",
      "tweet_id                      2356 non-null int64\n",
      "in_reply_to_status_id         78 non-null float64\n",
      "in_reply_to_user_id           78 non-null float64\n",
      "timestamp                     2356 non-null object\n",
      "source                        2356 non-null object\n",
      "text                          2356 non-null object\n",
      "retweeted_status_id           181 non-null float64\n",
      "retweeted_status_user_id      181 non-null float64\n",
      "retweeted_status_timestamp    181 non-null object\n",
      "expanded_urls                 2297 non-null object\n",
      "rating_numerator              2356 non-null int64\n",
      "rating_denominator            2356 non-null int64\n",
      "name                          2356 non-null object\n",
      "doggo                         2356 non-null object\n",
      "floofer                       2356 non-null object\n",
      "pupper                        2356 non-null object\n",
      "puppo                         2356 non-null object\n",
      "dtypes: float64(4), int64(3), object(10)\n",
      "memory usage: 313.0+ KB\n"
     ]
    }
   ],
   "source": [
    "df.info()"
   ]
  },
  {
   "cell_type": "markdown",
   "metadata": {},
   "source": [
    "Write dataframe to twitter_json_data as data obtained directly from api."
   ]
  },
  {
   "cell_type": "code",
   "execution_count": 8,
   "metadata": {},
   "outputs": [],
   "source": [
    "df_tweet.to_csv('twitter_json_data.csv')"
   ]
  },
  {
   "cell_type": "markdown",
   "metadata": {},
   "source": [
    "## Assessment ##\n",
    "\n",
    "Start to check issues in tables\n",
    "\n",
    "### Quality issues:###"
   ]
  },
  {
   "cell_type": "markdown",
   "metadata": {},
   "source": [
    "> 1. Incorrect *rating_numerator* for row 45. Should be 13.5 instead of 5. Might happen because of incorrect digit segmentation to the rating filter."
   ]
  },
  {
   "cell_type": "code",
   "execution_count": 9,
   "metadata": {},
   "outputs": [
    {
     "name": "stdout",
     "output_type": "stream",
     "text": [
      "This is Bella. She hopes her smile made you smile. If not, she is also offering you her favorite monkey. 13.5/10 https://t.co/qjrljjt948\n",
      "5\n"
     ]
    }
   ],
   "source": [
    "print(df.text[45])\n",
    "print(df.rating_numerator[45])"
   ]
  },
  {
   "cell_type": "markdown",
   "metadata": {},
   "source": [
    "> 2. Duplicated tweets during retweets. "
   ]
  },
  {
   "cell_type": "code",
   "execution_count": 10,
   "metadata": {},
   "outputs": [
    {
     "name": "stdout",
     "output_type": "stream",
     "text": [
      "RT @dog_rates: This is Emmy. She was adopted today. Massive round of pupplause for Emmy and her new family. 14/10 for all involved https://…\n",
      "This is Emmy. She was adopted today. Massive round of pupplause for Emmy and her new family. 14/10 for all involved https://t.co/cwtWnHMVpe\n"
     ]
    }
   ],
   "source": [
    "print(df.text[68])\n",
    "print(df.text[76])"
   ]
  },
  {
   "cell_type": "markdown",
   "metadata": {},
   "source": [
    "> 3. Multiple website urls in column *expanded_urls*. All the urls are the same in the cell."
   ]
  },
  {
   "cell_type": "code",
   "execution_count": 11,
   "metadata": {},
   "outputs": [
    {
     "data": {
      "text/plain": [
       "'https://twitter.com/dog_rates/status/889638837579907072/photo/1,https://twitter.com/dog_rates/status/889638837579907072/photo/1'"
      ]
     },
     "execution_count": 11,
     "metadata": {},
     "output_type": "execute_result"
    }
   ],
   "source": [
    "df.expanded_urls[13]"
   ]
  },
  {
   "cell_type": "markdown",
   "metadata": {},
   "source": [
    "> 4. Missing dog names."
   ]
  },
  {
   "cell_type": "code",
   "execution_count": 12,
   "metadata": {
    "scrolled": true
   },
   "outputs": [
    {
     "name": "stdout",
     "output_type": "stream",
     "text": [
      "Ladies and gentlemen... I found Pipsy. He may have changed his name to Pablo, but he never changed his love for the sea. Pupgraded to 14/10 https://t.co/lVU5GyNFen\n",
      "None\n"
     ]
    }
   ],
   "source": [
    "print(df.text[149])\n",
    "print(df.name[149])"
   ]
  },
  {
   "cell_type": "markdown",
   "metadata": {},
   "source": [
    "> 5. *None* values in *name*, *doggo*, *floofer*, *pupper* and *puppo* columns are strings instead of **None**."
   ]
  },
  {
   "cell_type": "code",
   "execution_count": 13,
   "metadata": {},
   "outputs": [
    {
     "name": "stdout",
     "output_type": "stream",
     "text": [
      "<class 'pandas.core.series.Series'>\n"
     ]
    }
   ],
   "source": [
    "print(type(df.iloc[7][12:17]))"
   ]
  },
  {
   "cell_type": "markdown",
   "metadata": {},
   "source": [
    "> 6. 23 rows do not have values of 10 in *rating_denominator* column. Most of them are wrong either because extracting wrong rating information or not have a rating at all. Although some are correct."
   ]
  },
  {
   "cell_type": "code",
   "execution_count": 14,
   "metadata": {
    "scrolled": false
   },
   "outputs": [
    {
     "data": {
      "text/plain": [
       "10     2333\n",
       "11        3\n",
       "50        3\n",
       "80        2\n",
       "20        2\n",
       "2         1\n",
       "16        1\n",
       "40        1\n",
       "70        1\n",
       "15        1\n",
       "90        1\n",
       "110       1\n",
       "120       1\n",
       "130       1\n",
       "150       1\n",
       "170       1\n",
       "7         1\n",
       "0         1\n",
       "Name: rating_denominator, dtype: int64"
      ]
     },
     "execution_count": 14,
     "metadata": {},
     "output_type": "execute_result"
    }
   ],
   "source": [
    "df.rating_denominator.value_counts()"
   ]
  },
  {
   "cell_type": "code",
   "execution_count": 15,
   "metadata": {
    "scrolled": true
   },
   "outputs": [
    {
     "data": {
      "text/plain": [
       "313     @jonnysun @Lin_Manuel ok jomny I know you're excited but 960/00 isn't a valid rating, 13/10 is tho                                                                       \n",
       "342     @docmisterio account started on 11/15/15                                                                                                                                 \n",
       "433     The floofs have been released I repeat the floofs have been released. 84/70 https://t.co/NIYC820tmd                                                                      \n",
       "516     Meet Sam. She smiles 24/7 &amp; secretly aspires to be a reindeer. \\nKeep Sam smiling by clicking and sharing this link:\\nhttps://t.co/98tB8y7y7t https://t.co/LouL5vdvxx\n",
       "784     RT @dog_rates: After so many requests, this is Bretagne. She was the last surviving 9/11 search dog, and our second ever 14/10. RIP https:/…                             \n",
       "902     Why does this never happen at my front door... 165/150 https://t.co/HmwrdfEfUE                                                                                           \n",
       "1068    After so many requests, this is Bretagne. She was the last surviving 9/11 search dog, and our second ever 14/10. RIP https://t.co/XAVDNDaVgQ                             \n",
       "1120    Say hello to this unbelievably well behaved squad of doggos. 204/170 would try to pet all at once https://t.co/yGQI3He3xv                                                \n",
       "1165    Happy 4/20 from the squad! 13/10 for all https://t.co/eV1diwds8a                                                                                                         \n",
       "1202    This is Bluebert. He just saw that both #FinalFur match ups are split 50/50. Amazed af. 11/10 https://t.co/Kky1DPG4iq                                                    \n",
       "1228    Happy Saturday here's 9 puppers on a bench. 99/90 good work everybody https://t.co/mpvaVxKmc1                                                                            \n",
       "1254    Here's a brigade of puppers. All look very prepared for whatever happens next. 80/80 https://t.co/0eb7R1Om12                                                             \n",
       "1274    From left to right:\\nCletus, Jerome, Alejandro, Burp, &amp; Titson\\nNone know where camera is. 45/50 would hug all at once https://t.co/sedre1ivTK                       \n",
       "1351    Here is a whole flock of puppers.  60/50 I'll take the lot https://t.co/9dpcw6MdWa                                                                                       \n",
       "1433    Happy Wednesday here's a bucket of pups. 44/40 would pet all at once https://t.co/HppvrYuamZ                                                                             \n",
       "1598    Yes I do realize a rating of 4/20 would've been fitting. However, it would be unjust to give these cooperative pups that low of a rating                                 \n",
       "1634    Two sneaky puppers were not initially seen, moving the rating to 143/130. Please forgive us. Thank you https://t.co/kRK51Y5ac3                                           \n",
       "1635    Someone help the girl is being mugged. Several are distracting her while two steal her shoes. Clever puppers 121/110 https://t.co/1zfnTJLt55                             \n",
       "1662    This is Darrel. He just robbed a 7/11 and is in a high speed police chase. Was just spotted by the helicopter 10/10 https://t.co/7EsP8LmSp5                              \n",
       "1663    I'm aware that I could've said 20/16, but here at WeRateDogs we are very professional. An inconsistent rating scale is simply irresponsible                              \n",
       "1779    IT'S PUPPERGEDDON. Total of 144/120 ...I think https://t.co/ZanVtAtvIq                                                                                                   \n",
       "1843    Here we have an entire platoon of puppers. Total score: 88/80 would pet all at once https://t.co/y93p6FLvVw                                                              \n",
       "2335    This is an Albanian 3 1/2 legged  Episcopalian. Loves well-polished hardwood flooring. Penis on the collar. 9/10 https://t.co/d9NcXFKwLv                                 \n",
       "Name: text, dtype: object"
      ]
     },
     "execution_count": 15,
     "metadata": {},
     "output_type": "execute_result"
    }
   ],
   "source": [
    "pd.set_option('display.max_colwidth', -1)\n",
    "df.text[df.rating_denominator!=10]"
   ]
  },
  {
   "cell_type": "markdown",
   "metadata": {},
   "source": [
    "> 7. Missing dog stages values. For example, row 433, 1228 and 1351. It seems the word filter for stages only contained the exact words but no plural forms or derivatives like *floof*."
   ]
  },
  {
   "cell_type": "code",
   "execution_count": 16,
   "metadata": {
    "scrolled": true
   },
   "outputs": [
    {
     "name": "stdout",
     "output_type": "stream",
     "text": [
      "The floofs have been released I repeat the floofs have been released. 84/70 https://t.co/NIYC820tmd\n",
      "name       None\n",
      "doggo      None\n",
      "floofer    None\n",
      "pupper     None\n",
      "puppo      None\n",
      "Name: 433, dtype: object\n"
     ]
    }
   ],
   "source": [
    "print(df.text[433])\n",
    "print(df.iloc[433][12:17])"
   ]
  },
  {
   "cell_type": "markdown",
   "metadata": {},
   "source": [
    "> 8. Numbers of the rows in three tables are different (2075 for *image_prediction*, 2356 for *twitter_archive_enhanced* and 2354 for *twitter_json_data*), and should be merged based on *image_prediction* table."
   ]
  },
  {
   "cell_type": "code",
   "execution_count": 17,
   "metadata": {
    "scrolled": true
   },
   "outputs": [
    {
     "name": "stdout",
     "output_type": "stream",
     "text": [
      "2075\n",
      "2356\n",
      "2354\n"
     ]
    }
   ],
   "source": [
    "print(image.shape[0])\n",
    "print(df.shape[0])\n",
    "print(df_tweet.shape[0])"
   ]
  },
  {
   "cell_type": "markdown",
   "metadata": {},
   "source": [
    "> 9. In *timestamp* column, the last *'+0000'* are useless. The column should be converted to datetime type instead of current string type."
   ]
  },
  {
   "cell_type": "code",
   "execution_count": 18,
   "metadata": {
    "scrolled": true
   },
   "outputs": [
    {
     "data": {
      "text/plain": [
       "0    2017-08-01 16:23:56 +0000\n",
       "1    2017-08-01 00:17:27 +0000\n",
       "2    2017-07-31 00:18:03 +0000\n",
       "3    2017-07-30 15:58:51 +0000\n",
       "4    2017-07-29 16:00:24 +0000\n",
       "Name: timestamp, dtype: object"
      ]
     },
     "execution_count": 18,
     "metadata": {},
     "output_type": "execute_result"
    }
   ],
   "source": [
    "df.timestamp.head()"
   ]
  },
  {
   "cell_type": "markdown",
   "metadata": {},
   "source": [
    "### Tidiness issues:###\n",
    "\n",
    "> 1. In *twitter_archive_enhanced* table, the columns of *doggo, floofer, pupper* and *puppo* should under one columns *stages*."
   ]
  },
  {
   "cell_type": "code",
   "execution_count": 19,
   "metadata": {
    "scrolled": true
   },
   "outputs": [
    {
     "data": {
      "text/html": [
       "<div>\n",
       "<style scoped>\n",
       "    .dataframe tbody tr th:only-of-type {\n",
       "        vertical-align: middle;\n",
       "    }\n",
       "\n",
       "    .dataframe tbody tr th {\n",
       "        vertical-align: top;\n",
       "    }\n",
       "\n",
       "    .dataframe thead th {\n",
       "        text-align: right;\n",
       "    }\n",
       "</style>\n",
       "<table border=\"1\" class=\"dataframe\">\n",
       "  <thead>\n",
       "    <tr style=\"text-align: right;\">\n",
       "      <th></th>\n",
       "      <th>tweet_id</th>\n",
       "      <th>in_reply_to_status_id</th>\n",
       "      <th>in_reply_to_user_id</th>\n",
       "      <th>timestamp</th>\n",
       "      <th>source</th>\n",
       "      <th>text</th>\n",
       "      <th>retweeted_status_id</th>\n",
       "      <th>retweeted_status_user_id</th>\n",
       "      <th>retweeted_status_timestamp</th>\n",
       "      <th>expanded_urls</th>\n",
       "      <th>rating_numerator</th>\n",
       "      <th>rating_denominator</th>\n",
       "      <th>name</th>\n",
       "      <th>doggo</th>\n",
       "      <th>floofer</th>\n",
       "      <th>pupper</th>\n",
       "      <th>puppo</th>\n",
       "    </tr>\n",
       "  </thead>\n",
       "  <tbody>\n",
       "    <tr>\n",
       "      <th>0</th>\n",
       "      <td>892420643555336193</td>\n",
       "      <td>NaN</td>\n",
       "      <td>NaN</td>\n",
       "      <td>2017-08-01 16:23:56 +0000</td>\n",
       "      <td>&lt;a href=\"http://twitter.com/download/iphone\" rel=\"nofollow\"&gt;Twitter for iPhone&lt;/a&gt;</td>\n",
       "      <td>This is Phineas. He's a mystical boy. Only ever appears in the hole of a donut. 13/10 https://t.co/MgUWQ76dJU</td>\n",
       "      <td>NaN</td>\n",
       "      <td>NaN</td>\n",
       "      <td>NaN</td>\n",
       "      <td>https://twitter.com/dog_rates/status/892420643555336193/photo/1</td>\n",
       "      <td>13</td>\n",
       "      <td>10</td>\n",
       "      <td>Phineas</td>\n",
       "      <td>None</td>\n",
       "      <td>None</td>\n",
       "      <td>None</td>\n",
       "      <td>None</td>\n",
       "    </tr>\n",
       "    <tr>\n",
       "      <th>1</th>\n",
       "      <td>892177421306343426</td>\n",
       "      <td>NaN</td>\n",
       "      <td>NaN</td>\n",
       "      <td>2017-08-01 00:17:27 +0000</td>\n",
       "      <td>&lt;a href=\"http://twitter.com/download/iphone\" rel=\"nofollow\"&gt;Twitter for iPhone&lt;/a&gt;</td>\n",
       "      <td>This is Tilly. She's just checking pup on you. Hopes you're doing ok. If not, she's available for pats, snugs, boops, the whole bit. 13/10 https://t.co/0Xxu71qeIV</td>\n",
       "      <td>NaN</td>\n",
       "      <td>NaN</td>\n",
       "      <td>NaN</td>\n",
       "      <td>https://twitter.com/dog_rates/status/892177421306343426/photo/1</td>\n",
       "      <td>13</td>\n",
       "      <td>10</td>\n",
       "      <td>Tilly</td>\n",
       "      <td>None</td>\n",
       "      <td>None</td>\n",
       "      <td>None</td>\n",
       "      <td>None</td>\n",
       "    </tr>\n",
       "    <tr>\n",
       "      <th>2</th>\n",
       "      <td>891815181378084864</td>\n",
       "      <td>NaN</td>\n",
       "      <td>NaN</td>\n",
       "      <td>2017-07-31 00:18:03 +0000</td>\n",
       "      <td>&lt;a href=\"http://twitter.com/download/iphone\" rel=\"nofollow\"&gt;Twitter for iPhone&lt;/a&gt;</td>\n",
       "      <td>This is Archie. He is a rare Norwegian Pouncing Corgo. Lives in the tall grass. You never know when one may strike. 12/10 https://t.co/wUnZnhtVJB</td>\n",
       "      <td>NaN</td>\n",
       "      <td>NaN</td>\n",
       "      <td>NaN</td>\n",
       "      <td>https://twitter.com/dog_rates/status/891815181378084864/photo/1</td>\n",
       "      <td>12</td>\n",
       "      <td>10</td>\n",
       "      <td>Archie</td>\n",
       "      <td>None</td>\n",
       "      <td>None</td>\n",
       "      <td>None</td>\n",
       "      <td>None</td>\n",
       "    </tr>\n",
       "    <tr>\n",
       "      <th>3</th>\n",
       "      <td>891689557279858688</td>\n",
       "      <td>NaN</td>\n",
       "      <td>NaN</td>\n",
       "      <td>2017-07-30 15:58:51 +0000</td>\n",
       "      <td>&lt;a href=\"http://twitter.com/download/iphone\" rel=\"nofollow\"&gt;Twitter for iPhone&lt;/a&gt;</td>\n",
       "      <td>This is Darla. She commenced a snooze mid meal. 13/10 happens to the best of us https://t.co/tD36da7qLQ</td>\n",
       "      <td>NaN</td>\n",
       "      <td>NaN</td>\n",
       "      <td>NaN</td>\n",
       "      <td>https://twitter.com/dog_rates/status/891689557279858688/photo/1</td>\n",
       "      <td>13</td>\n",
       "      <td>10</td>\n",
       "      <td>Darla</td>\n",
       "      <td>None</td>\n",
       "      <td>None</td>\n",
       "      <td>None</td>\n",
       "      <td>None</td>\n",
       "    </tr>\n",
       "    <tr>\n",
       "      <th>4</th>\n",
       "      <td>891327558926688256</td>\n",
       "      <td>NaN</td>\n",
       "      <td>NaN</td>\n",
       "      <td>2017-07-29 16:00:24 +0000</td>\n",
       "      <td>&lt;a href=\"http://twitter.com/download/iphone\" rel=\"nofollow\"&gt;Twitter for iPhone&lt;/a&gt;</td>\n",
       "      <td>This is Franklin. He would like you to stop calling him \"cute.\" He is a very fierce shark and should be respected as such. 12/10 #BarkWeek https://t.co/AtUZn91f7f</td>\n",
       "      <td>NaN</td>\n",
       "      <td>NaN</td>\n",
       "      <td>NaN</td>\n",
       "      <td>https://twitter.com/dog_rates/status/891327558926688256/photo/1,https://twitter.com/dog_rates/status/891327558926688256/photo/1</td>\n",
       "      <td>12</td>\n",
       "      <td>10</td>\n",
       "      <td>Franklin</td>\n",
       "      <td>None</td>\n",
       "      <td>None</td>\n",
       "      <td>None</td>\n",
       "      <td>None</td>\n",
       "    </tr>\n",
       "  </tbody>\n",
       "</table>\n",
       "</div>"
      ],
      "text/plain": [
       "             tweet_id  in_reply_to_status_id  in_reply_to_user_id  \\\n",
       "0  892420643555336193 NaN                    NaN                    \n",
       "1  892177421306343426 NaN                    NaN                    \n",
       "2  891815181378084864 NaN                    NaN                    \n",
       "3  891689557279858688 NaN                    NaN                    \n",
       "4  891327558926688256 NaN                    NaN                    \n",
       "\n",
       "                   timestamp  \\\n",
       "0  2017-08-01 16:23:56 +0000   \n",
       "1  2017-08-01 00:17:27 +0000   \n",
       "2  2017-07-31 00:18:03 +0000   \n",
       "3  2017-07-30 15:58:51 +0000   \n",
       "4  2017-07-29 16:00:24 +0000   \n",
       "\n",
       "                                                                               source  \\\n",
       "0  <a href=\"http://twitter.com/download/iphone\" rel=\"nofollow\">Twitter for iPhone</a>   \n",
       "1  <a href=\"http://twitter.com/download/iphone\" rel=\"nofollow\">Twitter for iPhone</a>   \n",
       "2  <a href=\"http://twitter.com/download/iphone\" rel=\"nofollow\">Twitter for iPhone</a>   \n",
       "3  <a href=\"http://twitter.com/download/iphone\" rel=\"nofollow\">Twitter for iPhone</a>   \n",
       "4  <a href=\"http://twitter.com/download/iphone\" rel=\"nofollow\">Twitter for iPhone</a>   \n",
       "\n",
       "                                                                                                                                                                 text  \\\n",
       "0  This is Phineas. He's a mystical boy. Only ever appears in the hole of a donut. 13/10 https://t.co/MgUWQ76dJU                                                        \n",
       "1  This is Tilly. She's just checking pup on you. Hopes you're doing ok. If not, she's available for pats, snugs, boops, the whole bit. 13/10 https://t.co/0Xxu71qeIV   \n",
       "2  This is Archie. He is a rare Norwegian Pouncing Corgo. Lives in the tall grass. You never know when one may strike. 12/10 https://t.co/wUnZnhtVJB                    \n",
       "3  This is Darla. She commenced a snooze mid meal. 13/10 happens to the best of us https://t.co/tD36da7qLQ                                                              \n",
       "4  This is Franklin. He would like you to stop calling him \"cute.\" He is a very fierce shark and should be respected as such. 12/10 #BarkWeek https://t.co/AtUZn91f7f   \n",
       "\n",
       "   retweeted_status_id  retweeted_status_user_id retweeted_status_timestamp  \\\n",
       "0 NaN                  NaN                        NaN                         \n",
       "1 NaN                  NaN                        NaN                         \n",
       "2 NaN                  NaN                        NaN                         \n",
       "3 NaN                  NaN                        NaN                         \n",
       "4 NaN                  NaN                        NaN                         \n",
       "\n",
       "                                                                                                                     expanded_urls  \\\n",
       "0  https://twitter.com/dog_rates/status/892420643555336193/photo/1                                                                   \n",
       "1  https://twitter.com/dog_rates/status/892177421306343426/photo/1                                                                   \n",
       "2  https://twitter.com/dog_rates/status/891815181378084864/photo/1                                                                   \n",
       "3  https://twitter.com/dog_rates/status/891689557279858688/photo/1                                                                   \n",
       "4  https://twitter.com/dog_rates/status/891327558926688256/photo/1,https://twitter.com/dog_rates/status/891327558926688256/photo/1   \n",
       "\n",
       "   rating_numerator  rating_denominator      name doggo floofer pupper puppo  \n",
       "0  13                10                  Phineas   None  None    None   None  \n",
       "1  13                10                  Tilly     None  None    None   None  \n",
       "2  12                10                  Archie    None  None    None   None  \n",
       "3  13                10                  Darla     None  None    None   None  \n",
       "4  12                10                  Franklin  None  None    None   None  "
      ]
     },
     "execution_count": 19,
     "metadata": {},
     "output_type": "execute_result"
    }
   ],
   "source": [
    "df.head()"
   ]
  },
  {
   "cell_type": "markdown",
   "metadata": {},
   "source": [
    "> 2. Values in *text* column of *twitter_archive_enhanced* table should not include urls at the end."
   ]
  },
  {
   "cell_type": "code",
   "execution_count": 20,
   "metadata": {
    "scrolled": true
   },
   "outputs": [
    {
     "data": {
      "text/plain": [
       "0    This is Phineas. He's a mystical boy. Only ever appears in the hole of a donut. 13/10 https://t.co/MgUWQ76dJU                                                     \n",
       "1    This is Tilly. She's just checking pup on you. Hopes you're doing ok. If not, she's available for pats, snugs, boops, the whole bit. 13/10 https://t.co/0Xxu71qeIV\n",
       "2    This is Archie. He is a rare Norwegian Pouncing Corgo. Lives in the tall grass. You never know when one may strike. 12/10 https://t.co/wUnZnhtVJB                 \n",
       "3    This is Darla. She commenced a snooze mid meal. 13/10 happens to the best of us https://t.co/tD36da7qLQ                                                           \n",
       "4    This is Franklin. He would like you to stop calling him \"cute.\" He is a very fierce shark and should be respected as such. 12/10 #BarkWeek https://t.co/AtUZn91f7f\n",
       "Name: text, dtype: object"
      ]
     },
     "execution_count": 20,
     "metadata": {},
     "output_type": "execute_result"
    }
   ],
   "source": [
    "df.text.head()"
   ]
  },
  {
   "cell_type": "markdown",
   "metadata": {},
   "source": [
    "## Cleaning\n",
    "\n",
    "### Merge three tables"
   ]
  },
  {
   "cell_type": "markdown",
   "metadata": {},
   "source": [
    "##### Define\n",
    "Three tables should be merged into the same table on the *tweet_id* of *image_prediction* because it has the smallest number of rows."
   ]
  },
  {
   "cell_type": "markdown",
   "metadata": {},
   "source": [
    "##### Code"
   ]
  },
  {
   "cell_type": "code",
   "execution_count": 21,
   "metadata": {},
   "outputs": [],
   "source": [
    "df_clean = image.merge(df, on='tweet_id')\n",
    "df_clean = df_clean.merge(df_tweet, on='tweet_id')"
   ]
  },
  {
   "cell_type": "markdown",
   "metadata": {},
   "source": [
    "##### Test"
   ]
  },
  {
   "cell_type": "code",
   "execution_count": 22,
   "metadata": {
    "scrolled": true
   },
   "outputs": [
    {
     "name": "stdout",
     "output_type": "stream",
     "text": [
      "<class 'pandas.core.frame.DataFrame'>\n",
      "Int64Index: 2073 entries, 0 to 2072\n",
      "Data columns (total 30 columns):\n",
      "tweet_id                      2073 non-null int64\n",
      "jpg_url                       2073 non-null object\n",
      "img_num                       2073 non-null int64\n",
      "p1                            2073 non-null object\n",
      "p1_conf                       2073 non-null float64\n",
      "p1_dog                        2073 non-null bool\n",
      "p2                            2073 non-null object\n",
      "p2_conf                       2073 non-null float64\n",
      "p2_dog                        2073 non-null bool\n",
      "p3                            2073 non-null object\n",
      "p3_conf                       2073 non-null float64\n",
      "p3_dog                        2073 non-null bool\n",
      "in_reply_to_status_id         23 non-null float64\n",
      "in_reply_to_user_id           23 non-null float64\n",
      "timestamp                     2073 non-null object\n",
      "source                        2073 non-null object\n",
      "text                          2073 non-null object\n",
      "retweeted_status_id           79 non-null float64\n",
      "retweeted_status_user_id      79 non-null float64\n",
      "retweeted_status_timestamp    79 non-null object\n",
      "expanded_urls                 2073 non-null object\n",
      "rating_numerator              2073 non-null int64\n",
      "rating_denominator            2073 non-null int64\n",
      "name                          2073 non-null object\n",
      "doggo                         2073 non-null object\n",
      "floofer                       2073 non-null object\n",
      "pupper                        2073 non-null object\n",
      "puppo                         2073 non-null object\n",
      "retweet_count                 2073 non-null int64\n",
      "favorite_count                2073 non-null int64\n",
      "dtypes: bool(3), float64(7), int64(6), object(14)\n",
      "memory usage: 459.5+ KB\n"
     ]
    }
   ],
   "source": [
    "df_clean.info()"
   ]
  },
  {
   "cell_type": "markdown",
   "metadata": {},
   "source": [
    "### Change value types"
   ]
  },
  {
   "cell_type": "markdown",
   "metadata": {},
   "source": [
    "##### Define\n",
    "**String** type 'None' values in columns *name, doggo, floofer, pupper* and *puppo* should be actual **nan** type values."
   ]
  },
  {
   "cell_type": "markdown",
   "metadata": {},
   "source": [
    "##### Code"
   ]
  },
  {
   "cell_type": "code",
   "execution_count": 23,
   "metadata": {
    "scrolled": true
   },
   "outputs": [],
   "source": [
    "import numpy as np\n",
    "df_clean = df_clean.replace('None', np.nan)"
   ]
  },
  {
   "cell_type": "markdown",
   "metadata": {},
   "source": [
    "##### Test\n",
    "Note that the numbers of non-null values in column *name, doggo, floofer, pupper* and *puppo* decreased because of the string type 'None' values were replaced with actual **null** value."
   ]
  },
  {
   "cell_type": "code",
   "execution_count": 24,
   "metadata": {
    "scrolled": true
   },
   "outputs": [
    {
     "name": "stdout",
     "output_type": "stream",
     "text": [
      "<class 'pandas.core.frame.DataFrame'>\n",
      "Int64Index: 2073 entries, 0 to 2072\n",
      "Data columns (total 30 columns):\n",
      "tweet_id                      2073 non-null int64\n",
      "jpg_url                       2073 non-null object\n",
      "img_num                       2073 non-null int64\n",
      "p1                            2073 non-null object\n",
      "p1_conf                       2073 non-null float64\n",
      "p1_dog                        2073 non-null bool\n",
      "p2                            2073 non-null object\n",
      "p2_conf                       2073 non-null float64\n",
      "p2_dog                        2073 non-null bool\n",
      "p3                            2073 non-null object\n",
      "p3_conf                       2073 non-null float64\n",
      "p3_dog                        2073 non-null bool\n",
      "in_reply_to_status_id         23 non-null float64\n",
      "in_reply_to_user_id           23 non-null float64\n",
      "timestamp                     2073 non-null object\n",
      "source                        2073 non-null object\n",
      "text                          2073 non-null object\n",
      "retweeted_status_id           79 non-null float64\n",
      "retweeted_status_user_id      79 non-null float64\n",
      "retweeted_status_timestamp    79 non-null object\n",
      "expanded_urls                 2073 non-null object\n",
      "rating_numerator              2073 non-null int64\n",
      "rating_denominator            2073 non-null int64\n",
      "name                          1496 non-null object\n",
      "doggo                         80 non-null object\n",
      "floofer                       8 non-null object\n",
      "pupper                        221 non-null object\n",
      "puppo                         24 non-null object\n",
      "retweet_count                 2073 non-null int64\n",
      "favorite_count                2073 non-null int64\n",
      "dtypes: bool(3), float64(7), int64(6), object(14)\n",
      "memory usage: 459.5+ KB\n"
     ]
    }
   ],
   "source": [
    "df_clean.info()"
   ]
  },
  {
   "cell_type": "markdown",
   "metadata": {},
   "source": [
    "### Delete retweet rows\n"
   ]
  },
  {
   "cell_type": "markdown",
   "metadata": {},
   "source": [
    "##### Define\n",
    "Delete retweet rows. Retweets can be found as long there is a non-null *retweeted_status_id*, which has 79 rows. Also delete the columns *retweeted_status_id, retweeted_status_user_id*, and *retweeted_status_timestamp*."
   ]
  },
  {
   "cell_type": "markdown",
   "metadata": {},
   "source": [
    "##### Code"
   ]
  },
  {
   "cell_type": "markdown",
   "metadata": {},
   "source": [
    "Only select the tweets that are not retweets."
   ]
  },
  {
   "cell_type": "code",
   "execution_count": 25,
   "metadata": {},
   "outputs": [],
   "source": [
    "df_clean = df_clean[np.isnan(df_clean.retweeted_status_id)]"
   ]
  },
  {
   "cell_type": "markdown",
   "metadata": {},
   "source": [
    "Delete the columns related to retweets."
   ]
  },
  {
   "cell_type": "code",
   "execution_count": 26,
   "metadata": {},
   "outputs": [],
   "source": [
    "df_clean = df_clean.drop(columns=['retweeted_status_id','retweeted_status_user_id','retweeted_status_timestamp'])\n",
    "df_clean.reset_index(drop=True,inplace=True)"
   ]
  },
  {
   "cell_type": "markdown",
   "metadata": {},
   "source": [
    "##### Test"
   ]
  },
  {
   "cell_type": "code",
   "execution_count": 27,
   "metadata": {
    "scrolled": true
   },
   "outputs": [
    {
     "name": "stdout",
     "output_type": "stream",
     "text": [
      "<class 'pandas.core.frame.DataFrame'>\n",
      "RangeIndex: 1994 entries, 0 to 1993\n",
      "Data columns (total 27 columns):\n",
      "tweet_id                 1994 non-null int64\n",
      "jpg_url                  1994 non-null object\n",
      "img_num                  1994 non-null int64\n",
      "p1                       1994 non-null object\n",
      "p1_conf                  1994 non-null float64\n",
      "p1_dog                   1994 non-null bool\n",
      "p2                       1994 non-null object\n",
      "p2_conf                  1994 non-null float64\n",
      "p2_dog                   1994 non-null bool\n",
      "p3                       1994 non-null object\n",
      "p3_conf                  1994 non-null float64\n",
      "p3_dog                   1994 non-null bool\n",
      "in_reply_to_status_id    23 non-null float64\n",
      "in_reply_to_user_id      23 non-null float64\n",
      "timestamp                1994 non-null object\n",
      "source                   1994 non-null object\n",
      "text                     1994 non-null object\n",
      "expanded_urls            1994 non-null object\n",
      "rating_numerator         1994 non-null int64\n",
      "rating_denominator       1994 non-null int64\n",
      "name                     1448 non-null object\n",
      "doggo                    74 non-null object\n",
      "floofer                  8 non-null object\n",
      "pupper                   212 non-null object\n",
      "puppo                    23 non-null object\n",
      "retweet_count            1994 non-null int64\n",
      "favorite_count           1994 non-null int64\n",
      "dtypes: bool(3), float64(5), int64(6), object(13)\n",
      "memory usage: 379.8+ KB\n"
     ]
    }
   ],
   "source": [
    "df_clean.info()"
   ]
  },
  {
   "cell_type": "markdown",
   "metadata": {},
   "source": [
    "### Melt dog stage columns"
   ]
  },
  {
   "cell_type": "markdown",
   "metadata": {},
   "source": [
    "##### Define\n",
    "Melt dog stage columns: *doggo, floofer, pupper* and *puppo* into one column."
   ]
  },
  {
   "cell_type": "markdown",
   "metadata": {},
   "source": [
    "##### Code"
   ]
  },
  {
   "cell_type": "markdown",
   "metadata": {},
   "source": [
    "Total number of rows that have dog stages in record is 74+8+212+23=317. However, the total number of rows that does not have a dog stage is 1688, which means the number of rows that have a valid dog stage in record is 1994-1688=306. This means that there are 11 rows that have multiple dog stage names. So first I need to find out which rows are these and decide if the dog stage in record is wrong."
   ]
  },
  {
   "cell_type": "code",
   "execution_count": 28,
   "metadata": {
    "scrolled": true
   },
   "outputs": [
    {
     "data": {
      "text/plain": [
       "1688"
      ]
     },
     "execution_count": 28,
     "metadata": {},
     "output_type": "execute_result"
    }
   ],
   "source": [
    "sum((pd.isnull(df_clean.doggo))&(pd.isnull(df_clean.floofer))&(pd.isnull(df_clean.pupper))&(pd.isnull(df_clean.puppo)))"
   ]
  },
  {
   "cell_type": "markdown",
   "metadata": {},
   "source": [
    "One row has both 'doggo' and 'floofer' as the dog stage. By looking into the text, this dog should be floofer instead of doggo. So change the value of 'doggo' to np.nan."
   ]
  },
  {
   "cell_type": "code",
   "execution_count": 29,
   "metadata": {
    "scrolled": true
   },
   "outputs": [
    {
     "data": {
      "text/plain": [
       "1839    At first I thought this was a shy doggo, but it's actually a Rare Canadian Floofer Owl. Amateurs would confuse the two. 11/10 only send dogs https://t.co/TXdT3tmuYk\n",
       "Name: text, dtype: object"
      ]
     },
     "execution_count": 29,
     "metadata": {},
     "output_type": "execute_result"
    }
   ],
   "source": [
    "df_clean[(df_clean.doggo=='doggo') & (df_clean.floofer=='floofer')].text"
   ]
  },
  {
   "cell_type": "code",
   "execution_count": 30,
   "metadata": {
    "scrolled": true
   },
   "outputs": [
    {
     "name": "stderr",
     "output_type": "stream",
     "text": [
      "/opt/conda/lib/python3.6/site-packages/ipykernel_launcher.py:1: SettingWithCopyWarning: \n",
      "A value is trying to be set on a copy of a slice from a DataFrame\n",
      "\n",
      "See the caveats in the documentation: http://pandas.pydata.org/pandas-docs/stable/indexing.html#indexing-view-versus-copy\n",
      "  \"\"\"Entry point for launching an IPython kernel.\n"
     ]
    }
   ],
   "source": [
    "df_clean.doggo[1839]=np.nan"
   ]
  },
  {
   "cell_type": "markdown",
   "metadata": {},
   "source": [
    "9 rows have both 'doggo' and 'pupper' in record."
   ]
  },
  {
   "cell_type": "code",
   "execution_count": 31,
   "metadata": {
    "scrolled": false
   },
   "outputs": [
    {
     "data": {
      "text/plain": [
       "1152    Like father (doggo), like son (pupper). Both 12/10 https://t.co/pG2inLaOda                                                                                          \n",
       "1198    This is just downright precious af. 12/10 for both pupper and doggo https://t.co/o5J479bZUC                                                                         \n",
       "1289    Please stop sending it pictures that don't even have a doggo or pupper in them. Churlish af. 5/10 neat couch tho https://t.co/u2c9c7qSg8                            \n",
       "1341    Meet Maggie &amp; Lila. Maggie is the doggo, Lila is the pupper. They are sisters. Both 12/10 would pet at the same time https://t.co/MYwR4DQKll                    \n",
       "1483    This is Pinot. He's a sophisticated doggo. You can tell by the hat. Also pointier than your average pupper. Still 10/10 would pet cautiously https://t.co/f2wmLZTPHd\n",
       "1568    This is Bones. He's being haunted by another doggo of roughly the same size. 12/10 deep breaths pupper everything's fine https://t.co/55Dqe0SJNj                    \n",
       "1574    Like doggo, like pupper version 2. Both 11/10 https://t.co/9IxWAXFqze                                                                                               \n",
       "1596    Here we have Burke (pupper) and Dexter (doggo). Pupper wants to be exactly like doggo. Both 12/10 would pet at same time https://t.co/ANBpEYHaho                    \n",
       "1653    This is Dido. She's playing the lead role in \"Pupper Stops to Catch Snow Before Resuming Shadow Box with Dried Apple.\" 13/10 (IG: didodoggo) https://t.co/m7isZrOBX7\n",
       "Name: text, dtype: object"
      ]
     },
     "execution_count": 31,
     "metadata": {},
     "output_type": "execute_result"
    }
   ],
   "source": [
    "df_clean[(df_clean.doggo=='doggo') & (df_clean.pupper=='pupper')].text"
   ]
  },
  {
   "cell_type": "markdown",
   "metadata": {},
   "source": [
    "Then I looked into each text and attached photo to determine which one the dog stage is true. Note that there are pictures that have multiple dogs appeared and for these cases I just remove the entire row. Such as row 1152, really cute family though."
   ]
  },
  {
   "cell_type": "code",
   "execution_count": 32,
   "metadata": {
    "scrolled": true
   },
   "outputs": [
    {
     "name": "stderr",
     "output_type": "stream",
     "text": [
      "/opt/conda/lib/python3.6/site-packages/ipykernel_launcher.py:2: SettingWithCopyWarning: \n",
      "A value is trying to be set on a copy of a slice from a DataFrame\n",
      "\n",
      "See the caveats in the documentation: http://pandas.pydata.org/pandas-docs/stable/indexing.html#indexing-view-versus-copy\n",
      "  \n",
      "/opt/conda/lib/python3.6/site-packages/ipykernel_launcher.py:3: SettingWithCopyWarning: \n",
      "A value is trying to be set on a copy of a slice from a DataFrame\n",
      "\n",
      "See the caveats in the documentation: http://pandas.pydata.org/pandas-docs/stable/indexing.html#indexing-view-versus-copy\n",
      "  This is separate from the ipykernel package so we can avoid doing imports until\n",
      "/opt/conda/lib/python3.6/site-packages/ipykernel_launcher.py:4: SettingWithCopyWarning: \n",
      "A value is trying to be set on a copy of a slice from a DataFrame\n",
      "\n",
      "See the caveats in the documentation: http://pandas.pydata.org/pandas-docs/stable/indexing.html#indexing-view-versus-copy\n",
      "  after removing the cwd from sys.path.\n",
      "/opt/conda/lib/python3.6/site-packages/ipykernel_launcher.py:5: SettingWithCopyWarning: \n",
      "A value is trying to be set on a copy of a slice from a DataFrame\n",
      "\n",
      "See the caveats in the documentation: http://pandas.pydata.org/pandas-docs/stable/indexing.html#indexing-view-versus-copy\n",
      "  \"\"\"\n",
      "/opt/conda/lib/python3.6/site-packages/ipykernel_launcher.py:6: SettingWithCopyWarning: \n",
      "A value is trying to be set on a copy of a slice from a DataFrame\n",
      "\n",
      "See the caveats in the documentation: http://pandas.pydata.org/pandas-docs/stable/indexing.html#indexing-view-versus-copy\n",
      "  \n"
     ]
    }
   ],
   "source": [
    "df_clean.drop([1152,1198,1341,1574,1596],inplace=True)\n",
    "df_clean.doggo[1289]=np.nan\n",
    "df_clean.pupper[1289]=np.nan\n",
    "df_clean.pupper[1483]=np.nan\n",
    "df_clean.doggo[1568]=np.nan\n",
    "df_clean.doggo[1653]=np.nan"
   ]
  },
  {
   "cell_type": "markdown",
   "metadata": {},
   "source": [
    "The last one is row 1845, which is both *puppo* and *doggo*, and this one is actually a *puppo*."
   ]
  },
  {
   "cell_type": "code",
   "execution_count": 33,
   "metadata": {
    "scrolled": true
   },
   "outputs": [
    {
     "data": {
      "text/plain": [
       "1845    Here's a puppo participating in the #ScienceMarch. Cleverly disguising her own doggo agenda. 13/10 would keep the planet habitable for https://t.co/cMhq16isel\n",
       "Name: text, dtype: object"
      ]
     },
     "execution_count": 33,
     "metadata": {},
     "output_type": "execute_result"
    }
   ],
   "source": [
    "df_clean[(df_clean.puppo=='puppo') & (df_clean.doggo=='doggo')].text"
   ]
  },
  {
   "cell_type": "code",
   "execution_count": 34,
   "metadata": {
    "scrolled": true
   },
   "outputs": [
    {
     "name": "stderr",
     "output_type": "stream",
     "text": [
      "/opt/conda/lib/python3.6/site-packages/ipykernel_launcher.py:1: SettingWithCopyWarning: \n",
      "A value is trying to be set on a copy of a slice from a DataFrame\n",
      "\n",
      "See the caveats in the documentation: http://pandas.pydata.org/pandas-docs/stable/indexing.html#indexing-view-versus-copy\n",
      "  \"\"\"Entry point for launching an IPython kernel.\n"
     ]
    }
   ],
   "source": [
    "df_clean.doggo[1845]=np.nan"
   ]
  },
  {
   "cell_type": "markdown",
   "metadata": {},
   "source": [
    "Now the total number of rows is 1989, and total number of rows which has a dog stage in record is 300."
   ]
  },
  {
   "cell_type": "code",
   "execution_count": 35,
   "metadata": {
    "scrolled": true
   },
   "outputs": [
    {
     "name": "stdout",
     "output_type": "stream",
     "text": [
      "<class 'pandas.core.frame.DataFrame'>\n",
      "Int64Index: 1989 entries, 0 to 1993\n",
      "Data columns (total 27 columns):\n",
      "tweet_id                 1989 non-null int64\n",
      "jpg_url                  1989 non-null object\n",
      "img_num                  1989 non-null int64\n",
      "p1                       1989 non-null object\n",
      "p1_conf                  1989 non-null float64\n",
      "p1_dog                   1989 non-null bool\n",
      "p2                       1989 non-null object\n",
      "p2_conf                  1989 non-null float64\n",
      "p2_dog                   1989 non-null bool\n",
      "p3                       1989 non-null object\n",
      "p3_conf                  1989 non-null float64\n",
      "p3_dog                   1989 non-null bool\n",
      "in_reply_to_status_id    22 non-null float64\n",
      "in_reply_to_user_id      22 non-null float64\n",
      "timestamp                1989 non-null object\n",
      "source                   1989 non-null object\n",
      "text                     1989 non-null object\n",
      "expanded_urls            1989 non-null object\n",
      "rating_numerator         1989 non-null int64\n",
      "rating_denominator       1989 non-null int64\n",
      "name                     1446 non-null object\n",
      "doggo                    64 non-null object\n",
      "floofer                  8 non-null object\n",
      "pupper                   205 non-null object\n",
      "puppo                    23 non-null object\n",
      "retweet_count            1989 non-null int64\n",
      "favorite_count           1989 non-null int64\n",
      "dtypes: bool(3), float64(5), int64(6), object(13)\n",
      "memory usage: 474.3+ KB\n"
     ]
    }
   ],
   "source": [
    "df_clean.info()"
   ]
  },
  {
   "cell_type": "code",
   "execution_count": 36,
   "metadata": {},
   "outputs": [
    {
     "data": {
      "text/plain": [
       "1689"
      ]
     },
     "execution_count": 36,
     "metadata": {},
     "output_type": "execute_result"
    }
   ],
   "source": [
    "sum((pd.isnull(df_clean.doggo))&(pd.isnull(df_clean.floofer))&(pd.isnull(df_clean.pupper))&(pd.isnull(df_clean.puppo)))"
   ]
  },
  {
   "cell_type": "markdown",
   "metadata": {},
   "source": [
    "Now I can actually melt the columns of dog stages into one column."
   ]
  },
  {
   "cell_type": "code",
   "execution_count": 37,
   "metadata": {
    "scrolled": false
   },
   "outputs": [
    {
     "name": "stderr",
     "output_type": "stream",
     "text": [
      "/opt/conda/lib/python3.6/site-packages/pandas/core/indexing.py:1472: FutureWarning: \n",
      "Passing list-likes to .loc or [] with any missing label will raise\n",
      "KeyError in the future, you can use .reindex() as an alternative.\n",
      "\n",
      "See the documentation here:\n",
      "https://pandas.pydata.org/pandas-docs/stable/indexing.html#deprecate-loc-reindex-listlike\n",
      "  return self._getitem_tuple(key)\n"
     ]
    }
   ],
   "source": [
    "df_clean_stage = pd.melt(df_clean, id_vars = ['tweet_id'], value_vars = ['doggo', 'floofer', 'pupper', 'puppo','None'], var_name='dog_stage',\n",
    "                        value_name='stage_name')\n",
    "\n",
    "df_clean_stage = df_clean_stage[(df_clean_stage['dog_stage']==df_clean_stage['stage_name'])|\n",
    "               ((df_clean_stage.dog_stage=='None')&(pd.isnull(df_clean_stage.stage_name)))]\n",
    "df_clean_stage.drop_duplicates('tweet_id', inplace=True)\n",
    "\n",
    "df_clean.reset_index(drop=True,inplace=True)\n",
    "\n",
    "df_clean = df_clean.merge(df_clean_stage,on='tweet_id')\n",
    "\n",
    "df_clean.drop(columns=['doggo','floofer','pupper','puppo','dog_stage'],inplace=True)"
   ]
  },
  {
   "cell_type": "markdown",
   "metadata": {},
   "source": [
    "##### Test"
   ]
  },
  {
   "cell_type": "code",
   "execution_count": 38,
   "metadata": {
    "scrolled": true
   },
   "outputs": [
    {
     "name": "stdout",
     "output_type": "stream",
     "text": [
      "<class 'pandas.core.frame.DataFrame'>\n",
      "Int64Index: 1989 entries, 0 to 1988\n",
      "Data columns (total 24 columns):\n",
      "tweet_id                 1989 non-null int64\n",
      "jpg_url                  1989 non-null object\n",
      "img_num                  1989 non-null int64\n",
      "p1                       1989 non-null object\n",
      "p1_conf                  1989 non-null float64\n",
      "p1_dog                   1989 non-null bool\n",
      "p2                       1989 non-null object\n",
      "p2_conf                  1989 non-null float64\n",
      "p2_dog                   1989 non-null bool\n",
      "p3                       1989 non-null object\n",
      "p3_conf                  1989 non-null float64\n",
      "p3_dog                   1989 non-null bool\n",
      "in_reply_to_status_id    22 non-null float64\n",
      "in_reply_to_user_id      22 non-null float64\n",
      "timestamp                1989 non-null object\n",
      "source                   1989 non-null object\n",
      "text                     1989 non-null object\n",
      "expanded_urls            1989 non-null object\n",
      "rating_numerator         1989 non-null int64\n",
      "rating_denominator       1989 non-null int64\n",
      "name                     1446 non-null object\n",
      "retweet_count            1989 non-null int64\n",
      "favorite_count           1989 non-null int64\n",
      "stage_name               300 non-null object\n",
      "dtypes: bool(3), float64(5), int64(6), object(10)\n",
      "memory usage: 347.7+ KB\n"
     ]
    }
   ],
   "source": [
    "df_clean.info()"
   ]
  },
  {
   "cell_type": "markdown",
   "metadata": {},
   "source": [
    "### Delete multiple urls in column *expanded_urls*\n",
    "##### Define\n",
    "In the column *expanded_urls*, sometimes there are multiple urls in the same cell and all the urls tend to be the same. Identify each urls in the same cell and only leave the last one."
   ]
  },
  {
   "cell_type": "markdown",
   "metadata": {},
   "source": [
    "##### Code"
   ]
  },
  {
   "cell_type": "code",
   "execution_count": 39,
   "metadata": {},
   "outputs": [],
   "source": [
    "df_clean_urls = df_clean.expanded_urls.str.split(',')\n",
    "df_clean_urls_last = df_clean_urls.str.slice(start=-1)\n",
    "df_clean.expanded_urls = df_clean_urls_last.apply(''.join)"
   ]
  },
  {
   "cell_type": "markdown",
   "metadata": {},
   "source": [
    "##### Test\n",
    "All values in *expanded_urls* has been left with one url for each row."
   ]
  },
  {
   "cell_type": "code",
   "execution_count": 40,
   "metadata": {
    "scrolled": true
   },
   "outputs": [
    {
     "data": {
      "text/plain": [
       "0       https://twitter.com/dog_rates/status/666020888022790149/photo/1\n",
       "1       https://twitter.com/dog_rates/status/666029285002620928/photo/1\n",
       "2       https://twitter.com/dog_rates/status/666033412701032449/photo/1\n",
       "3       https://twitter.com/dog_rates/status/666044226329800704/photo/1\n",
       "4       https://twitter.com/dog_rates/status/666049248165822465/photo/1\n",
       "5       https://twitter.com/dog_rates/status/666050758794694657/photo/1\n",
       "6       https://twitter.com/dog_rates/status/666051853826850816/photo/1\n",
       "7       https://twitter.com/dog_rates/status/666055525042405380/photo/1\n",
       "8       https://twitter.com/dog_rates/status/666057090499244032/photo/1\n",
       "9       https://twitter.com/dog_rates/status/666058600524156928/photo/1\n",
       "10      https://twitter.com/dog_rates/status/666063827256086533/photo/1\n",
       "11      https://twitter.com/dog_rates/status/666071193221509120/photo/1\n",
       "12      https://twitter.com/dog_rates/status/666073100786774016/photo/1\n",
       "13      https://twitter.com/dog_rates/status/666082916733198337/photo/1\n",
       "14      https://twitter.com/dog_rates/status/666094000022159362/photo/1\n",
       "15      https://twitter.com/dog_rates/status/666099513787052032/photo/1\n",
       "16      https://twitter.com/dog_rates/status/666102155909144576/photo/1\n",
       "17      https://twitter.com/dog_rates/status/666104133288665088/photo/1\n",
       "18      https://twitter.com/dog_rates/status/666268910803644416/photo/1\n",
       "19      https://twitter.com/dog_rates/status/666273097616637952/photo/1\n",
       "20      https://twitter.com/dog_rates/status/666287406224695296/photo/1\n",
       "21      https://twitter.com/dog_rates/status/666293911632134144/photo/1\n",
       "22      https://twitter.com/dog_rates/status/666337882303524864/photo/1\n",
       "23      https://twitter.com/dog_rates/status/666345417576210432/photo/1\n",
       "24      https://twitter.com/dog_rates/status/666353288456101888/photo/1\n",
       "25      https://twitter.com/dog_rates/status/666362758909284353/photo/1\n",
       "26      https://twitter.com/dog_rates/status/666373753744588802/photo/1\n",
       "27      https://twitter.com/dog_rates/status/666396247373291520/photo/1\n",
       "28      https://twitter.com/dog_rates/status/666407126856765440/photo/1\n",
       "29      https://twitter.com/dog_rates/status/666411507551481857/photo/1\n",
       "                                     ...                               \n",
       "1959    https://twitter.com/dog_rates/status/886258384151887873/photo/1\n",
       "1960    https://twitter.com/dog_rates/status/886366144734445568/photo/1\n",
       "1961    https://twitter.com/dog_rates/status/886680336477933568/photo/1\n",
       "1962    https://twitter.com/dog_rates/status/886736880519319552/photo/1\n",
       "1963    https://twitter.com/dog_rates/status/886983233522544640/photo/1\n",
       "1964    https://twitter.com/dog_rates/status/887101392804085760/photo/1\n",
       "1965    https://twitter.com/dog_rates/status/887343217045368832/video/1\n",
       "1966    https://twitter.com/dog_rates/status/887473957103951883/photo/1\n",
       "1967    https://twitter.com/dog_rates/status/887517139158093824/video/1\n",
       "1968    https://twitter.com/dog_rates/status/887705289381826560/photo/1\n",
       "1969    https://twitter.com/dog_rates/status/888078434458587136/photo/1\n",
       "1970    https://twitter.com/dog_rates/status/888554962724278272/photo/1\n",
       "1971    https://twitter.com/dog_rates/status/888804989199671297/photo/1\n",
       "1972    https://twitter.com/dog_rates/status/888917238123831296/photo/1\n",
       "1973    https://twitter.com/dog_rates/status/889278841981685760/video/1\n",
       "1974    https://twitter.com/dog_rates/status/889531135344209921/photo/1\n",
       "1975    https://twitter.com/dog_rates/status/889638837579907072/photo/1\n",
       "1976    https://twitter.com/dog_rates/status/889665388333682689/photo/1\n",
       "1977    https://twitter.com/dog_rates/status/889880896479866881/photo/1\n",
       "1978    https://twitter.com/dog_rates/status/890006608113172480/photo/1\n",
       "1979    https://twitter.com/dog_rates/status/890240255349198849/photo/1\n",
       "1980    https://twitter.com/dog_rates/status/890609185150312448/photo/1\n",
       "1981    https://twitter.com/dog_rates/status/890729181411237888/photo/1\n",
       "1982    https://twitter.com/dog_rates/status/890971913173991426/photo/1\n",
       "1983    https://twitter.com/dog_rates/status/891087950875897856/photo/1\n",
       "1984    https://twitter.com/dog_rates/status/891327558926688256/photo/1\n",
       "1985    https://twitter.com/dog_rates/status/891689557279858688/photo/1\n",
       "1986    https://twitter.com/dog_rates/status/891815181378084864/photo/1\n",
       "1987    https://twitter.com/dog_rates/status/892177421306343426/photo/1\n",
       "1988    https://twitter.com/dog_rates/status/892420643555336193/photo/1\n",
       "Name: expanded_urls, Length: 1989, dtype: object"
      ]
     },
     "execution_count": 40,
     "metadata": {},
     "output_type": "execute_result"
    }
   ],
   "source": [
    "df_clean.expanded_urls"
   ]
  },
  {
   "cell_type": "markdown",
   "metadata": {},
   "source": [
    "### Delete urls in *text* column\n",
    "##### Define\n",
    "In the *text* column, there is always an link redirected to the original post at the end of each cell. This link is just the short form of the *expanded_urls*, so I need to remove the url from *text* column."
   ]
  },
  {
   "cell_type": "markdown",
   "metadata": {},
   "source": [
    "##### Code"
   ]
  },
  {
   "cell_type": "code",
   "execution_count": 41,
   "metadata": {},
   "outputs": [],
   "source": [
    "df_clean_text = df_clean.text.str.split(' https:|https:')\n",
    "df_clean_text_first = df_clean_text.str.slice(stop=1)\n",
    "df_clean.text = df_clean_text_first.apply(''.join)"
   ]
  },
  {
   "cell_type": "markdown",
   "metadata": {},
   "source": [
    "##### Test"
   ]
  },
  {
   "cell_type": "code",
   "execution_count": 42,
   "metadata": {
    "scrolled": true
   },
   "outputs": [
    {
     "data": {
      "text/plain": [
       "0       Here we have a Japanese Irish Setter. Lost eye in Vietnam (?). Big fan of relaxing on stair. 8/10 would pet                               \n",
       "1       This is a western brown Mitsubishi terrier. Upset about leaf. Actually 2 dogs here. 7/10 would walk the shit out of                       \n",
       "2       Here is a very happy pup. Big fan of well-maintained decks. Just look at that tongue. 9/10 would cuddle af                                \n",
       "3       This is a purebred Piers Morgan. Loves to Netflix and chill. Always looks like he forgot to unplug the iron. 6/10                         \n",
       "4       Here we have a 1949 1st generation vulpix. Enjoys sweat tea and Fox News. Cannot be phased. 5/10                                          \n",
       "5       This is a truly beautiful English Wilson Staff retriever. Has a nice phone. Privileged. 10/10 would trade lives with                      \n",
       "6       This is an odd dog. Hard on the outside but loving on the inside. Petting still fun. Doesn't play catch well. 2/10                        \n",
       "7       Here is a Siberian heavily armored polar bear mix. Strong owner. 10/10 I would do unspeakable things to pet this dog                      \n",
       "8       My oh my. This is a rare blond Canadian terrier on wheels. Only $8.98. Rather docile. 9/10 very rare                                      \n",
       "9       Here is the Rand Paul of retrievers folks! He's probably good at poker. Can drink beer (lol rad). 8/10 good dog                           \n",
       "10      This is the happiest dog you will ever see. Very committed owner. Nice couch. 10/10                                                       \n",
       "11      Here we have a northern speckled Rhododendron. Much sass. Gives 0 fucks. Good tongue. 9/10 would caress sensually                         \n",
       "12      Let's hope this flight isn't Malaysian (lol). What a dog! Almost completely camouflaged. 10/10 I trust this pilot                         \n",
       "13      Here we have a well-established sunblockerspaniel. Lost his other flip-flop. 6/10 not very waterproof                                     \n",
       "14      This appears to be a Mongolian Presbyterian mix. Very tired. Tongue slip confirmed. 9/10 would lie down with                              \n",
       "15      Can stand on stump for what seems like a while. Built that birdhouse? Impressive. Made friends with a squirrel. 8/10                      \n",
       "16      Oh my. Here you are seeing an Adobe Setter giving birth to twins!!! The world is an amazing place. 11/10                                  \n",
       "17      Not familiar with this breed. No tail (weird). Only 2 legs. Doesn't bark. Surprisingly quick. Shits eggs. 1/10                            \n",
       "18      Very concerned about fellow dog trapped in computer. 10/10                                                                                \n",
       "19      Can take selfies 11/10                                                                                                                    \n",
       "20      This is an Albanian 3 1/2 legged  Episcopalian. Loves well-polished hardwood flooring. Penis on the collar. 9/10                          \n",
       "21      This is a funny dog. Weird toes. Won't come down. Loves branch. Refuses to eat his food. Hard to cuddle with. 3/10                        \n",
       "22      This is an extremely rare horned Parthenon. Not amused. Wears shoes. Overall very nice. 9/10 would pet aggressively                       \n",
       "23      Look at this jokester thinking seat belt laws don't apply to him. Great tongue tho 10/10                                                  \n",
       "24      Here we have a mixed Asiago from the Galápagos Islands. Only one ear working. Big fan of marijuana carpet. 8/10                           \n",
       "25      Unique dog here. Very small. Lives in container of Frosted Flakes (?). Short legs. Must be rare 6/10 would still pet                      \n",
       "26      Those are sunglasses and a jean jacket. 11/10 dog cool af                                                                                 \n",
       "27      Oh goodness. A super rare northeast Qdoba kangaroo mix. Massive feet. No pouch (disappointing). Seems alert. 9/10                         \n",
       "28      This is a southern Vesuvius bumblegruff. Can drive a truck (wow). Made friends with 5 other nifty dogs (neat). 7/10                       \n",
       "29      This is quite the dog. Gets really excited when not in water. Not very soft tho. Bad at fetch. Can't do tricks. 2/10                      \n",
       "                                                                ...                                                                               \n",
       "1959    This is Waffles. His doggles are pupside down. Unsure how to fix. 13/10 someone assist Waffles                                            \n",
       "1960    This is Roscoe. Another pupper fallen victim to spontaneous tongue ejections. Get the BlepiPen immediate. 12/10 deep breaths Roscoe       \n",
       "1961    This is Derek. He's late for a dog meeting. 13/10 pet...al to the metal                                                                   \n",
       "1962    This is Mingus. He's a wonderful father to his smol pup. Confirmed 13/10, but he needs your help\\n\\n                                      \n",
       "1963    This is Maya. She's very shy. Rarely leaves her cup. 13/10 would find her an environment to thrive in                                     \n",
       "1964    This... is a Jubilant Antarctic House Bear. We only rate dogs. Please only send dogs. Thank you... 12/10 would suffocate in floof         \n",
       "1965    You may not have known you needed to see this today. 13/10 please enjoy (IG: emmylouroo)                                                  \n",
       "1966    This is Canela. She attempted some fancy porch pics. They were unsuccessful. 13/10 someone help her                                       \n",
       "1967    I've yet to rate a Venezuelan Hover Wiener. This is such an honor. 14/10 paw-inspiring af (IG: roxy.thedoxy)                              \n",
       "1968    This is Jeffrey. He has a monopoly on the pool noodles. Currently running a 'boop for two' midweek sale. 13/10 h*ckin strategic           \n",
       "1969    This is Gerald. He was just told he didn't get the job he interviewed for. A h*ckin injustice. 12/10 didn't want the job anyway           \n",
       "1970    This is Ralphus. He's powering up. Attempting maximum borkdrive. 13/10 inspirational af                                                   \n",
       "1971    This is Zeke. He has a new stick. Very proud of it. Would like you to throw it for him without taking it. 13/10 would do my best          \n",
       "1972    This is Jim. He found a fren. Taught him how to sit like the good boys. 12/10 for both                                                    \n",
       "1973    This is Oliver. You're witnessing one of his many brutal attacks. Seems to be playing with his victim. 13/10 fr*ckin frightening #BarkWeek\n",
       "1974    This is Stuart. He's sporting his favorite fanny pack. Secretly filled with bones only. 13/10 puppared puppo #BarkWeek                    \n",
       "1975    This is Ted. He does his best. Sometimes that's not enough. But it's ok. 12/10 would assist                                               \n",
       "1976    Here's a puppo that seems to be on the fence about something haha no but seriously someone help her. 13/10                                \n",
       "1977    This is Bruno. He is a service shark. Only gets out of the water to assist you. 13/10 terrifyingly good boy                               \n",
       "1978    This is Koda. He is a South Australian deckshark. Deceptively deadly. Frighteningly majestic. 13/10 would risk a petting #BarkWeek        \n",
       "1979    This is Cassie. She is a college pup. Studying international doggo communication and stick theory. 14/10 so elegant much sophisticate     \n",
       "1980    This is Zoey. She doesn't want to be one of the scary sharks. Just wants to be a snuggly pettable boatpet. 13/10 #BarkWeek                \n",
       "1981    When you watch your owner call another dog a good boy but then they turn back to you and say you're a great boy. 13/10                    \n",
       "1982    Meet Jax. He enjoys ice cream so much he gets nervous around it. 13/10 help Jax enjoy more things by clicking below\\n\\n                   \n",
       "1983    Here we have a majestic great white breaching off South Africa's coast. Absolutely h*ckin breathtaking. 13/10 (IG: tucker_marlo) #BarkWeek\n",
       "1984    This is Franklin. He would like you to stop calling him \"cute.\" He is a very fierce shark and should be respected as such. 12/10 #BarkWeek\n",
       "1985    This is Darla. She commenced a snooze mid meal. 13/10 happens to the best of us                                                           \n",
       "1986    This is Archie. He is a rare Norwegian Pouncing Corgo. Lives in the tall grass. You never know when one may strike. 12/10                 \n",
       "1987    This is Tilly. She's just checking pup on you. Hopes you're doing ok. If not, she's available for pats, snugs, boops, the whole bit. 13/10\n",
       "1988    This is Phineas. He's a mystical boy. Only ever appears in the hole of a donut. 13/10                                                     \n",
       "Name: text, Length: 1989, dtype: object"
      ]
     },
     "execution_count": 42,
     "metadata": {},
     "output_type": "execute_result"
    }
   ],
   "source": [
    "df_clean.text"
   ]
  },
  {
   "cell_type": "markdown",
   "metadata": {},
   "source": [
    "### Small quality issues\n",
    "##### Define\n",
    "Incorrect retrieved values in *rating_numerator* as compared with ratings in *text*. In row 45, the rating should be 13.5 instead of 5. Note that the row number has been changed from 45 when I first assessed the issues to row 1949 now because of the merging and changing before."
   ]
  },
  {
   "cell_type": "code",
   "execution_count": 43,
   "metadata": {},
   "outputs": [
    {
     "name": "stdout",
     "output_type": "stream",
     "text": [
      "This is Bella. She hopes her smile made you smile. If not, she is also offering you her favorite monkey. 13.5/10\n",
      "5\n"
     ]
    }
   ],
   "source": [
    "print(df_clean.text[1949])\n",
    "print(df_clean.rating_numerator[1949])"
   ]
  },
  {
   "cell_type": "markdown",
   "metadata": {},
   "source": [
    "##### Code"
   ]
  },
  {
   "cell_type": "code",
   "execution_count": 44,
   "metadata": {},
   "outputs": [
    {
     "name": "stderr",
     "output_type": "stream",
     "text": [
      "/opt/conda/lib/python3.6/site-packages/ipykernel_launcher.py:2: SettingWithCopyWarning: \n",
      "A value is trying to be set on a copy of a slice from a DataFrame\n",
      "\n",
      "See the caveats in the documentation: http://pandas.pydata.org/pandas-docs/stable/indexing.html#indexing-view-versus-copy\n",
      "  \n"
     ]
    }
   ],
   "source": [
    "df_clean.rating_numerator = df_clean.rating_numerator.astype(float)\n",
    "df_clean.rating_numerator[1949]=13.5"
   ]
  },
  {
   "cell_type": "markdown",
   "metadata": {},
   "source": [
    "##### Test"
   ]
  },
  {
   "cell_type": "code",
   "execution_count": 45,
   "metadata": {
    "scrolled": true
   },
   "outputs": [
    {
     "name": "stdout",
     "output_type": "stream",
     "text": [
      "This is Bella. She hopes her smile made you smile. If not, she is also offering you her favorite monkey. 13.5/10\n",
      "13.5\n"
     ]
    }
   ],
   "source": [
    "print(df_clean.text[1949])\n",
    "print(df_clean.rating_numerator[1949])"
   ]
  },
  {
   "cell_type": "markdown",
   "metadata": {},
   "source": [
    "##### Define\n",
    "In row 1869, from the text, the name of the dog should be 'Pipsy\", but there is no name in record."
   ]
  },
  {
   "cell_type": "code",
   "execution_count": 46,
   "metadata": {
    "scrolled": true
   },
   "outputs": [
    {
     "name": "stdout",
     "output_type": "stream",
     "text": [
      "Ladies and gentlemen... I found Pipsy. He may have changed his name to Pablo, but he never changed his love for the sea. Pupgraded to 14/10\n",
      "nan\n"
     ]
    }
   ],
   "source": [
    "print(df_clean.text[1869])\n",
    "print(df_clean.name[1869])"
   ]
  },
  {
   "cell_type": "markdown",
   "metadata": {},
   "source": [
    "##### Code"
   ]
  },
  {
   "cell_type": "code",
   "execution_count": 47,
   "metadata": {},
   "outputs": [
    {
     "name": "stderr",
     "output_type": "stream",
     "text": [
      "/opt/conda/lib/python3.6/site-packages/ipykernel_launcher.py:1: SettingWithCopyWarning: \n",
      "A value is trying to be set on a copy of a slice from a DataFrame\n",
      "\n",
      "See the caveats in the documentation: http://pandas.pydata.org/pandas-docs/stable/indexing.html#indexing-view-versus-copy\n",
      "  \"\"\"Entry point for launching an IPython kernel.\n"
     ]
    }
   ],
   "source": [
    "df_clean.name[1869] = 'Pipsy'"
   ]
  },
  {
   "cell_type": "markdown",
   "metadata": {},
   "source": [
    "##### Test"
   ]
  },
  {
   "cell_type": "code",
   "execution_count": 48,
   "metadata": {},
   "outputs": [
    {
     "name": "stdout",
     "output_type": "stream",
     "text": [
      "Ladies and gentlemen... I found Pipsy. He may have changed his name to Pablo, but he never changed his love for the sea. Pupgraded to 14/10\n",
      "Pipsy\n"
     ]
    }
   ],
   "source": [
    "print(df_clean.text[1869])\n",
    "print(df_clean.name[1869])"
   ]
  },
  {
   "cell_type": "markdown",
   "metadata": {},
   "source": [
    "##### Define\n",
    "For 17 rows that do not have a rating_denominator of 10, some of them are wrong either because of wrong rating information extracted or no rating exist."
   ]
  },
  {
   "cell_type": "code",
   "execution_count": 49,
   "metadata": {},
   "outputs": [
    {
     "data": {
      "text/html": [
       "<div>\n",
       "<style scoped>\n",
       "    .dataframe tbody tr th:only-of-type {\n",
       "        vertical-align: middle;\n",
       "    }\n",
       "\n",
       "    .dataframe tbody tr th {\n",
       "        vertical-align: top;\n",
       "    }\n",
       "\n",
       "    .dataframe thead th {\n",
       "        text-align: right;\n",
       "    }\n",
       "</style>\n",
       "<table border=\"1\" class=\"dataframe\">\n",
       "  <thead>\n",
       "    <tr style=\"text-align: right;\">\n",
       "      <th></th>\n",
       "      <th>text</th>\n",
       "      <th>rating_numerator</th>\n",
       "      <th>rating_denominator</th>\n",
       "    </tr>\n",
       "  </thead>\n",
       "  <tbody>\n",
       "    <tr>\n",
       "      <th>20</th>\n",
       "      <td>This is an Albanian 3 1/2 legged  Episcopalian. Loves well-polished hardwood flooring. Penis on the collar. 9/10</td>\n",
       "      <td>1.0</td>\n",
       "      <td>2</td>\n",
       "    </tr>\n",
       "    <tr>\n",
       "      <th>499</th>\n",
       "      <td>Here we have an entire platoon of puppers. Total score: 88/80 would pet all at once</td>\n",
       "      <td>88.0</td>\n",
       "      <td>80</td>\n",
       "    </tr>\n",
       "    <tr>\n",
       "      <th>558</th>\n",
       "      <td>IT'S PUPPERGEDDON. Total of 144/120 ...I think</td>\n",
       "      <td>144.0</td>\n",
       "      <td>120</td>\n",
       "    </tr>\n",
       "    <tr>\n",
       "      <th>665</th>\n",
       "      <td>This is Darrel. He just robbed a 7/11 and is in a high speed police chase. Was just spotted by the helicopter 10/10</td>\n",
       "      <td>7.0</td>\n",
       "      <td>11</td>\n",
       "    </tr>\n",
       "    <tr>\n",
       "      <th>690</th>\n",
       "      <td>Someone help the girl is being mugged. Several are distracting her while two steal her shoes. Clever puppers 121/110</td>\n",
       "      <td>121.0</td>\n",
       "      <td>110</td>\n",
       "    </tr>\n",
       "    <tr>\n",
       "      <th>691</th>\n",
       "      <td>Two sneaky puppers were not initially seen, moving the rating to 143/130. Please forgive us. Thank you</td>\n",
       "      <td>143.0</td>\n",
       "      <td>130</td>\n",
       "    </tr>\n",
       "    <tr>\n",
       "      <th>863</th>\n",
       "      <td>Happy Wednesday here's a bucket of pups. 44/40 would pet all at once</td>\n",
       "      <td>44.0</td>\n",
       "      <td>40</td>\n",
       "    </tr>\n",
       "    <tr>\n",
       "      <th>939</th>\n",
       "      <td>Here is a whole flock of puppers.  60/50 I'll take the lot</td>\n",
       "      <td>60.0</td>\n",
       "      <td>50</td>\n",
       "    </tr>\n",
       "    <tr>\n",
       "      <th>1005</th>\n",
       "      <td>From left to right:\\nCletus, Jerome, Alejandro, Burp, &amp;amp; Titson\\nNone know where camera is. 45/50 would hug all at once</td>\n",
       "      <td>45.0</td>\n",
       "      <td>50</td>\n",
       "    </tr>\n",
       "    <tr>\n",
       "      <th>1023</th>\n",
       "      <td>Here's a brigade of puppers. All look very prepared for whatever happens next. 80/80</td>\n",
       "      <td>80.0</td>\n",
       "      <td>80</td>\n",
       "    </tr>\n",
       "    <tr>\n",
       "      <th>1047</th>\n",
       "      <td>Happy Saturday here's 9 puppers on a bench. 99/90 good work everybody</td>\n",
       "      <td>99.0</td>\n",
       "      <td>90</td>\n",
       "    </tr>\n",
       "    <tr>\n",
       "      <th>1068</th>\n",
       "      <td>This is Bluebert. He just saw that both #FinalFur match ups are split 50/50. Amazed af. 11/10</td>\n",
       "      <td>50.0</td>\n",
       "      <td>50</td>\n",
       "    </tr>\n",
       "    <tr>\n",
       "      <th>1102</th>\n",
       "      <td>Happy 4/20 from the squad! 13/10 for all</td>\n",
       "      <td>4.0</td>\n",
       "      <td>20</td>\n",
       "    </tr>\n",
       "    <tr>\n",
       "      <th>1145</th>\n",
       "      <td>Say hello to this unbelievably well behaved squad of doggos. 204/170 would try to pet all at once</td>\n",
       "      <td>204.0</td>\n",
       "      <td>170</td>\n",
       "    </tr>\n",
       "    <tr>\n",
       "      <th>1192</th>\n",
       "      <td>After so many requests, this is Bretagne. She was the last surviving 9/11 search dog, and our second ever 14/10. RIP</td>\n",
       "      <td>9.0</td>\n",
       "      <td>11</td>\n",
       "    </tr>\n",
       "    <tr>\n",
       "      <th>1329</th>\n",
       "      <td>Why does this never happen at my front door... 165/150</td>\n",
       "      <td>165.0</td>\n",
       "      <td>150</td>\n",
       "    </tr>\n",
       "    <tr>\n",
       "      <th>1603</th>\n",
       "      <td>Meet Sam. She smiles 24/7 &amp;amp; secretly aspires to be a reindeer. \\nKeep Sam smiling by clicking and sharing this link:\\n</td>\n",
       "      <td>24.0</td>\n",
       "      <td>7</td>\n",
       "    </tr>\n",
       "    <tr>\n",
       "      <th>1665</th>\n",
       "      <td>The floofs have been released I repeat the floofs have been released. 84/70</td>\n",
       "      <td>84.0</td>\n",
       "      <td>70</td>\n",
       "    </tr>\n",
       "  </tbody>\n",
       "</table>\n",
       "</div>"
      ],
      "text/plain": [
       "                                                                                                                            text  \\\n",
       "20    This is an Albanian 3 1/2 legged  Episcopalian. Loves well-polished hardwood flooring. Penis on the collar. 9/10             \n",
       "499   Here we have an entire platoon of puppers. Total score: 88/80 would pet all at once                                          \n",
       "558   IT'S PUPPERGEDDON. Total of 144/120 ...I think                                                                               \n",
       "665   This is Darrel. He just robbed a 7/11 and is in a high speed police chase. Was just spotted by the helicopter 10/10          \n",
       "690   Someone help the girl is being mugged. Several are distracting her while two steal her shoes. Clever puppers 121/110         \n",
       "691   Two sneaky puppers were not initially seen, moving the rating to 143/130. Please forgive us. Thank you                       \n",
       "863   Happy Wednesday here's a bucket of pups. 44/40 would pet all at once                                                         \n",
       "939   Here is a whole flock of puppers.  60/50 I'll take the lot                                                                   \n",
       "1005  From left to right:\\nCletus, Jerome, Alejandro, Burp, &amp; Titson\\nNone know where camera is. 45/50 would hug all at once   \n",
       "1023  Here's a brigade of puppers. All look very prepared for whatever happens next. 80/80                                         \n",
       "1047  Happy Saturday here's 9 puppers on a bench. 99/90 good work everybody                                                        \n",
       "1068  This is Bluebert. He just saw that both #FinalFur match ups are split 50/50. Amazed af. 11/10                                \n",
       "1102  Happy 4/20 from the squad! 13/10 for all                                                                                     \n",
       "1145  Say hello to this unbelievably well behaved squad of doggos. 204/170 would try to pet all at once                            \n",
       "1192  After so many requests, this is Bretagne. She was the last surviving 9/11 search dog, and our second ever 14/10. RIP         \n",
       "1329  Why does this never happen at my front door... 165/150                                                                       \n",
       "1603  Meet Sam. She smiles 24/7 &amp; secretly aspires to be a reindeer. \\nKeep Sam smiling by clicking and sharing this link:\\n   \n",
       "1665  The floofs have been released I repeat the floofs have been released. 84/70                                                  \n",
       "\n",
       "      rating_numerator  rating_denominator  \n",
       "20    1.0               2                   \n",
       "499   88.0              80                  \n",
       "558   144.0             120                 \n",
       "665   7.0               11                  \n",
       "690   121.0             110                 \n",
       "691   143.0             130                 \n",
       "863   44.0              40                  \n",
       "939   60.0              50                  \n",
       "1005  45.0              50                  \n",
       "1023  80.0              80                  \n",
       "1047  99.0              90                  \n",
       "1068  50.0              50                  \n",
       "1102  4.0               20                  \n",
       "1145  204.0             170                 \n",
       "1192  9.0               11                  \n",
       "1329  165.0             150                 \n",
       "1603  24.0              7                   \n",
       "1665  84.0              70                  "
      ]
     },
     "execution_count": 49,
     "metadata": {},
     "output_type": "execute_result"
    }
   ],
   "source": [
    "df_clean[['text','rating_numerator','rating_denominator']][df_clean.rating_denominator!=10]"
   ]
  },
  {
   "cell_type": "markdown",
   "metadata": {},
   "source": [
    "##### Code"
   ]
  },
  {
   "cell_type": "code",
   "execution_count": 50,
   "metadata": {
    "scrolled": true
   },
   "outputs": [
    {
     "name": "stderr",
     "output_type": "stream",
     "text": [
      "/opt/conda/lib/python3.6/site-packages/ipykernel_launcher.py:1: SettingWithCopyWarning: \n",
      "A value is trying to be set on a copy of a slice from a DataFrame\n",
      "\n",
      "See the caveats in the documentation: http://pandas.pydata.org/pandas-docs/stable/indexing.html#indexing-view-versus-copy\n",
      "  \"\"\"Entry point for launching an IPython kernel.\n",
      "/opt/conda/lib/python3.6/site-packages/ipykernel_launcher.py:2: SettingWithCopyWarning: \n",
      "A value is trying to be set on a copy of a slice from a DataFrame\n",
      "\n",
      "See the caveats in the documentation: http://pandas.pydata.org/pandas-docs/stable/indexing.html#indexing-view-versus-copy\n",
      "  \n",
      "/opt/conda/lib/python3.6/site-packages/ipykernel_launcher.py:3: SettingWithCopyWarning: \n",
      "A value is trying to be set on a copy of a slice from a DataFrame\n",
      "\n",
      "See the caveats in the documentation: http://pandas.pydata.org/pandas-docs/stable/indexing.html#indexing-view-versus-copy\n",
      "  This is separate from the ipykernel package so we can avoid doing imports until\n",
      "/opt/conda/lib/python3.6/site-packages/ipykernel_launcher.py:4: SettingWithCopyWarning: \n",
      "A value is trying to be set on a copy of a slice from a DataFrame\n",
      "\n",
      "See the caveats in the documentation: http://pandas.pydata.org/pandas-docs/stable/indexing.html#indexing-view-versus-copy\n",
      "  after removing the cwd from sys.path.\n",
      "/opt/conda/lib/python3.6/site-packages/ipykernel_launcher.py:5: SettingWithCopyWarning: \n",
      "A value is trying to be set on a copy of a slice from a DataFrame\n",
      "\n",
      "See the caveats in the documentation: http://pandas.pydata.org/pandas-docs/stable/indexing.html#indexing-view-versus-copy\n",
      "  \"\"\"\n",
      "/opt/conda/lib/python3.6/site-packages/ipykernel_launcher.py:6: SettingWithCopyWarning: \n",
      "A value is trying to be set on a copy of a slice from a DataFrame\n",
      "\n",
      "See the caveats in the documentation: http://pandas.pydata.org/pandas-docs/stable/indexing.html#indexing-view-versus-copy\n",
      "  \n",
      "/opt/conda/lib/python3.6/site-packages/pandas/core/indexing.py:189: SettingWithCopyWarning: \n",
      "A value is trying to be set on a copy of a slice from a DataFrame\n",
      "\n",
      "See the caveats in the documentation: http://pandas.pydata.org/pandas-docs/stable/indexing.html#indexing-view-versus-copy\n",
      "  self._setitem_with_indexer(indexer, value)\n"
     ]
    }
   ],
   "source": [
    "df_clean.rating_numerator[20], df_clean.rating_denominator[20] = 9, 10\n",
    "df_clean.rating_numerator[665], df_clean.rating_denominator[665] = 10, 10\n",
    "df_clean.rating_numerator[1068], df_clean.rating_denominator[1068] = 11, 10\n",
    "df_clean.rating_numerator[1102], df_clean.rating_denominator[1102] = 13, 10\n",
    "df_clean.rating_numerator[1192], df_clean.rating_denominator[1192] = 14, 10\n",
    "df_clean.rating_numerator[1603], df_clean.rating_denominator[1603] = np.nan, np.nan"
   ]
  },
  {
   "cell_type": "markdown",
   "metadata": {},
   "source": [
    "##### Test"
   ]
  },
  {
   "cell_type": "code",
   "execution_count": 51,
   "metadata": {
    "scrolled": true
   },
   "outputs": [
    {
     "data": {
      "text/html": [
       "<div>\n",
       "<style scoped>\n",
       "    .dataframe tbody tr th:only-of-type {\n",
       "        vertical-align: middle;\n",
       "    }\n",
       "\n",
       "    .dataframe tbody tr th {\n",
       "        vertical-align: top;\n",
       "    }\n",
       "\n",
       "    .dataframe thead th {\n",
       "        text-align: right;\n",
       "    }\n",
       "</style>\n",
       "<table border=\"1\" class=\"dataframe\">\n",
       "  <thead>\n",
       "    <tr style=\"text-align: right;\">\n",
       "      <th></th>\n",
       "      <th>text</th>\n",
       "      <th>rating_numerator</th>\n",
       "      <th>rating_denominator</th>\n",
       "    </tr>\n",
       "  </thead>\n",
       "  <tbody>\n",
       "    <tr>\n",
       "      <th>499</th>\n",
       "      <td>Here we have an entire platoon of puppers. Total score: 88/80 would pet all at once</td>\n",
       "      <td>88.0</td>\n",
       "      <td>80.0</td>\n",
       "    </tr>\n",
       "    <tr>\n",
       "      <th>558</th>\n",
       "      <td>IT'S PUPPERGEDDON. Total of 144/120 ...I think</td>\n",
       "      <td>144.0</td>\n",
       "      <td>120.0</td>\n",
       "    </tr>\n",
       "    <tr>\n",
       "      <th>690</th>\n",
       "      <td>Someone help the girl is being mugged. Several are distracting her while two steal her shoes. Clever puppers 121/110</td>\n",
       "      <td>121.0</td>\n",
       "      <td>110.0</td>\n",
       "    </tr>\n",
       "    <tr>\n",
       "      <th>691</th>\n",
       "      <td>Two sneaky puppers were not initially seen, moving the rating to 143/130. Please forgive us. Thank you</td>\n",
       "      <td>143.0</td>\n",
       "      <td>130.0</td>\n",
       "    </tr>\n",
       "    <tr>\n",
       "      <th>863</th>\n",
       "      <td>Happy Wednesday here's a bucket of pups. 44/40 would pet all at once</td>\n",
       "      <td>44.0</td>\n",
       "      <td>40.0</td>\n",
       "    </tr>\n",
       "    <tr>\n",
       "      <th>939</th>\n",
       "      <td>Here is a whole flock of puppers.  60/50 I'll take the lot</td>\n",
       "      <td>60.0</td>\n",
       "      <td>50.0</td>\n",
       "    </tr>\n",
       "    <tr>\n",
       "      <th>1005</th>\n",
       "      <td>From left to right:\\nCletus, Jerome, Alejandro, Burp, &amp;amp; Titson\\nNone know where camera is. 45/50 would hug all at once</td>\n",
       "      <td>45.0</td>\n",
       "      <td>50.0</td>\n",
       "    </tr>\n",
       "    <tr>\n",
       "      <th>1023</th>\n",
       "      <td>Here's a brigade of puppers. All look very prepared for whatever happens next. 80/80</td>\n",
       "      <td>80.0</td>\n",
       "      <td>80.0</td>\n",
       "    </tr>\n",
       "    <tr>\n",
       "      <th>1047</th>\n",
       "      <td>Happy Saturday here's 9 puppers on a bench. 99/90 good work everybody</td>\n",
       "      <td>99.0</td>\n",
       "      <td>90.0</td>\n",
       "    </tr>\n",
       "    <tr>\n",
       "      <th>1145</th>\n",
       "      <td>Say hello to this unbelievably well behaved squad of doggos. 204/170 would try to pet all at once</td>\n",
       "      <td>204.0</td>\n",
       "      <td>170.0</td>\n",
       "    </tr>\n",
       "    <tr>\n",
       "      <th>1329</th>\n",
       "      <td>Why does this never happen at my front door... 165/150</td>\n",
       "      <td>165.0</td>\n",
       "      <td>150.0</td>\n",
       "    </tr>\n",
       "    <tr>\n",
       "      <th>1603</th>\n",
       "      <td>Meet Sam. She smiles 24/7 &amp;amp; secretly aspires to be a reindeer. \\nKeep Sam smiling by clicking and sharing this link:\\n</td>\n",
       "      <td>NaN</td>\n",
       "      <td>NaN</td>\n",
       "    </tr>\n",
       "    <tr>\n",
       "      <th>1665</th>\n",
       "      <td>The floofs have been released I repeat the floofs have been released. 84/70</td>\n",
       "      <td>84.0</td>\n",
       "      <td>70.0</td>\n",
       "    </tr>\n",
       "  </tbody>\n",
       "</table>\n",
       "</div>"
      ],
      "text/plain": [
       "                                                                                                                            text  \\\n",
       "499   Here we have an entire platoon of puppers. Total score: 88/80 would pet all at once                                          \n",
       "558   IT'S PUPPERGEDDON. Total of 144/120 ...I think                                                                               \n",
       "690   Someone help the girl is being mugged. Several are distracting her while two steal her shoes. Clever puppers 121/110         \n",
       "691   Two sneaky puppers were not initially seen, moving the rating to 143/130. Please forgive us. Thank you                       \n",
       "863   Happy Wednesday here's a bucket of pups. 44/40 would pet all at once                                                         \n",
       "939   Here is a whole flock of puppers.  60/50 I'll take the lot                                                                   \n",
       "1005  From left to right:\\nCletus, Jerome, Alejandro, Burp, &amp; Titson\\nNone know where camera is. 45/50 would hug all at once   \n",
       "1023  Here's a brigade of puppers. All look very prepared for whatever happens next. 80/80                                         \n",
       "1047  Happy Saturday here's 9 puppers on a bench. 99/90 good work everybody                                                        \n",
       "1145  Say hello to this unbelievably well behaved squad of doggos. 204/170 would try to pet all at once                            \n",
       "1329  Why does this never happen at my front door... 165/150                                                                       \n",
       "1603  Meet Sam. She smiles 24/7 &amp; secretly aspires to be a reindeer. \\nKeep Sam smiling by clicking and sharing this link:\\n   \n",
       "1665  The floofs have been released I repeat the floofs have been released. 84/70                                                  \n",
       "\n",
       "      rating_numerator  rating_denominator  \n",
       "499   88.0              80.0                \n",
       "558   144.0             120.0               \n",
       "690   121.0             110.0               \n",
       "691   143.0             130.0               \n",
       "863   44.0              40.0                \n",
       "939   60.0              50.0                \n",
       "1005  45.0              50.0                \n",
       "1023  80.0              80.0                \n",
       "1047  99.0              90.0                \n",
       "1145  204.0             170.0               \n",
       "1329  165.0             150.0               \n",
       "1603 NaN               NaN                  \n",
       "1665  84.0              70.0                "
      ]
     },
     "execution_count": 51,
     "metadata": {},
     "output_type": "execute_result"
    }
   ],
   "source": [
    "df_clean[['text','rating_numerator','rating_denominator']][df_clean.rating_denominator!=10]"
   ]
  },
  {
   "cell_type": "markdown",
   "metadata": {},
   "source": [
    "##### Define\n",
    "Many text that includes the dog stage information were not recorded into the dog_stage variables. For example, *floofer* in *dog_stage* should also include the texts that contains *floof* or *floofs*. Same for other dog stages."
   ]
  },
  {
   "cell_type": "code",
   "execution_count": 52,
   "metadata": {},
   "outputs": [
    {
     "data": {
      "text/plain": [
       "pupper     205\n",
       "doggo      64 \n",
       "puppo      23 \n",
       "floofer    8  \n",
       "Name: stage_name, dtype: int64"
      ]
     },
     "execution_count": 52,
     "metadata": {},
     "output_type": "execute_result"
    }
   ],
   "source": [
    "df_clean.stage_name.value_counts()"
   ]
  },
  {
   "cell_type": "markdown",
   "metadata": {},
   "source": [
    "Check all the texts include 'floof'. There are many rows do not identify 'floof' as the *floofer* stage of dogs."
   ]
  },
  {
   "cell_type": "code",
   "execution_count": 53,
   "metadata": {
    "scrolled": true
   },
   "outputs": [
    {
     "data": {
      "text/html": [
       "<div>\n",
       "<style scoped>\n",
       "    .dataframe tbody tr th:only-of-type {\n",
       "        vertical-align: middle;\n",
       "    }\n",
       "\n",
       "    .dataframe tbody tr th {\n",
       "        vertical-align: top;\n",
       "    }\n",
       "\n",
       "    .dataframe thead th {\n",
       "        text-align: right;\n",
       "    }\n",
       "</style>\n",
       "<table border=\"1\" class=\"dataframe\">\n",
       "  <thead>\n",
       "    <tr style=\"text-align: right;\">\n",
       "      <th></th>\n",
       "      <th>text</th>\n",
       "      <th>stage_name</th>\n",
       "    </tr>\n",
       "  </thead>\n",
       "  <tbody>\n",
       "    <tr>\n",
       "      <th>708</th>\n",
       "      <td>Say hello to Petrick. He's an Altostratus Floofer. Just had a run in with a trash bag. Groovy checkered floor. 11/10</td>\n",
       "      <td>floofer</td>\n",
       "    </tr>\n",
       "    <tr>\n",
       "      <th>723</th>\n",
       "      <td>This is Flávio. He's a Macedonian Poppycock. 97% floof. Jubilant af. 11/10 personally I'd pet the hell out of</td>\n",
       "      <td>NaN</td>\n",
       "    </tr>\n",
       "    <tr>\n",
       "      <th>774</th>\n",
       "      <td>Meet Luca. He's a Butternut Scooperfloof. Glorious tongue. 12/10 would pet really well</td>\n",
       "      <td>NaN</td>\n",
       "    </tr>\n",
       "    <tr>\n",
       "      <th>791</th>\n",
       "      <td>Say hello to Peaches. She's a Dingleberry Zanderfloof. 13/10 would caress lots</td>\n",
       "      <td>NaN</td>\n",
       "    </tr>\n",
       "    <tr>\n",
       "      <th>808</th>\n",
       "      <td>This is a rare Arctic Wubberfloof. Unamused by the happenings. No longer has the appetites. 12/10 would totally hug</td>\n",
       "      <td>NaN</td>\n",
       "    </tr>\n",
       "    <tr>\n",
       "      <th>832</th>\n",
       "      <td>This is Chester. He's a Benefloof Cumberbark. Fabulous ears. Nifty shirt. Was probably on sale. Nice hardwood. 11/10</td>\n",
       "      <td>NaN</td>\n",
       "    </tr>\n",
       "    <tr>\n",
       "      <th>878</th>\n",
       "      <td>Here we are witnessing five Guatemalan Birch Floofs in their natural habitat. All 12/10 (Vid by @pootdanielle)</td>\n",
       "      <td>NaN</td>\n",
       "    </tr>\n",
       "    <tr>\n",
       "      <th>919</th>\n",
       "      <td>This is Fiji. She's a Powdered Stegafloof. Very rare. 12/10</td>\n",
       "      <td>NaN</td>\n",
       "    </tr>\n",
       "    <tr>\n",
       "      <th>929</th>\n",
       "      <td>This is a Butternut Cumberfloof. It's not windy they just look like that. 11/10 back at it again with the red socks</td>\n",
       "      <td>NaN</td>\n",
       "    </tr>\n",
       "    <tr>\n",
       "      <th>943</th>\n",
       "      <td>Meet Lucia. She's a Cumulonimbus Floofmallow. Only has two legs tho (unfortunate). 11/10 would definitely still pet</td>\n",
       "      <td>NaN</td>\n",
       "    </tr>\n",
       "    <tr>\n",
       "      <th>1011</th>\n",
       "      <td>This is Cecil. She's a Gigglefloof Poofer. Outdoorsy af. One with nature. 12/10 would strategically capture</td>\n",
       "      <td>NaN</td>\n",
       "    </tr>\n",
       "    <tr>\n",
       "      <th>1012</th>\n",
       "      <td>This is Olaf. He's gotta be rare. Seems sturdy. Tail is floofy af. 12/10 would do whatever it takes to pet</td>\n",
       "      <td>NaN</td>\n",
       "    </tr>\n",
       "    <tr>\n",
       "      <th>1045</th>\n",
       "      <td>Here we see an extremely rare Bearded Floofmallow. Only a few left in the wild. 11/10 would pet with a purpose</td>\n",
       "      <td>NaN</td>\n",
       "    </tr>\n",
       "    <tr>\n",
       "      <th>1092</th>\n",
       "      <td>This is Neptune. He's a Snowy Swiss Mountain Floofapolis. Cheeky wink. Tongue nifty af. 11/10 would pet so firmly</td>\n",
       "      <td>NaN</td>\n",
       "    </tr>\n",
       "    <tr>\n",
       "      <th>1101</th>\n",
       "      <td>Meet Schnitzel. He's a Tropicana Floofboop. Getting too big for his favorite basket. 12/10 just so damn fluffy</td>\n",
       "      <td>NaN</td>\n",
       "    </tr>\n",
       "    <tr>\n",
       "      <th>1106</th>\n",
       "      <td>This is Sugar. She's a Bolivian Superfloof. Spherical af. 12/10 would never let go of</td>\n",
       "      <td>NaN</td>\n",
       "    </tr>\n",
       "    <tr>\n",
       "      <th>1114</th>\n",
       "      <td>Say hello to Lillie. She's a Rutabagan Floofem. Poor pupper ate and then passed out. 11/10 relatable af</td>\n",
       "      <td>pupper</td>\n",
       "    </tr>\n",
       "    <tr>\n",
       "      <th>1154</th>\n",
       "      <td>This is Moose. He's a Polynesian Floofer. Dapper af. 10/10 would pet diligently</td>\n",
       "      <td>floofer</td>\n",
       "    </tr>\n",
       "    <tr>\n",
       "      <th>1171</th>\n",
       "      <td>Just wanted to share this super rare Rainbow Floofer in case you guys haven't seen it yet. 13/10 colorful af</td>\n",
       "      <td>floofer</td>\n",
       "    </tr>\n",
       "    <tr>\n",
       "      <th>1246</th>\n",
       "      <td>Pls don't send more sherks. I don't care how seemingly floofy they are. It does me so much frighten. Thank u. 11/10</td>\n",
       "      <td>NaN</td>\n",
       "    </tr>\n",
       "    <tr>\n",
       "      <th>1260</th>\n",
       "      <td>This is Blu. He's a wild bush Floofer. I wish anything made me as happy as bushes make Blu. 12/10 would frolic with</td>\n",
       "      <td>floofer</td>\n",
       "    </tr>\n",
       "    <tr>\n",
       "      <th>1278</th>\n",
       "      <td>This is Arnie. He's a Nova Scotian Fridge Floof. Rare af. 12/10</td>\n",
       "      <td>NaN</td>\n",
       "    </tr>\n",
       "    <tr>\n",
       "      <th>1284</th>\n",
       "      <td>This is Gilbert. He's being chased by a battalion of miniature floof cows. 10/10 we all believe in you Gilbert</td>\n",
       "      <td>NaN</td>\n",
       "    </tr>\n",
       "    <tr>\n",
       "      <th>1382</th>\n",
       "      <td>Meet Gerald. He's a fairly exotic doggo. Floofy af. Inadequate knees tho. Self conscious about large forehead. 8/10</td>\n",
       "      <td>doggo</td>\n",
       "    </tr>\n",
       "    <tr>\n",
       "      <th>1394</th>\n",
       "      <td>We only rate dogs. Pls stop sending in non-canines like this Arctic Floof Kangaroo. This is very frustrating. 11/10</td>\n",
       "      <td>NaN</td>\n",
       "    </tr>\n",
       "    <tr>\n",
       "      <th>1417</th>\n",
       "      <td>This is Heinrich (pronounced \"Pat\"). He's a Botswanian Vanderfloof. Snazzy af bandana. 12/10 downright puptacular</td>\n",
       "      <td>NaN</td>\n",
       "    </tr>\n",
       "    <tr>\n",
       "      <th>1430</th>\n",
       "      <td>Atlas rolled around in some chalk and now he's a magical rainbow floofer. 13/10 please never take a bath</td>\n",
       "      <td>floofer</td>\n",
       "    </tr>\n",
       "    <tr>\n",
       "      <th>1450</th>\n",
       "      <td>We only rate dogs. Pls stop sending in non-canines like this Urban Floof Giraffe. I can't handle this. 11/10</td>\n",
       "      <td>NaN</td>\n",
       "    </tr>\n",
       "    <tr>\n",
       "      <th>1452</th>\n",
       "      <td>Here's a perturbed super floof. 12/10 would snug so damn well</td>\n",
       "      <td>NaN</td>\n",
       "    </tr>\n",
       "    <tr>\n",
       "      <th>1536</th>\n",
       "      <td>This is Nimbus (like the cloud). He just bought this fancy af duck raincoat. Only protects one ear tho. 12/10 so h*ckin floofy</td>\n",
       "      <td>NaN</td>\n",
       "    </tr>\n",
       "    <tr>\n",
       "      <th>1542</th>\n",
       "      <td>This is Yogi. He's 98% floof. Snuggable af. 12/10</td>\n",
       "      <td>NaN</td>\n",
       "    </tr>\n",
       "    <tr>\n",
       "      <th>1561</th>\n",
       "      <td>This is Doc. He takes time out of every day to worship our plant overlords. 12/10 quite the floofer</td>\n",
       "      <td>floofer</td>\n",
       "    </tr>\n",
       "    <tr>\n",
       "      <th>1665</th>\n",
       "      <td>The floofs have been released I repeat the floofs have been released. 84/70</td>\n",
       "      <td>NaN</td>\n",
       "    </tr>\n",
       "    <tr>\n",
       "      <th>1834</th>\n",
       "      <td>At first I thought this was a shy doggo, but it's actually a Rare Canadian Floofer Owl. Amateurs would confuse the two. 11/10 only send dogs</td>\n",
       "      <td>floofer</td>\n",
       "    </tr>\n",
       "    <tr>\n",
       "      <th>1941</th>\n",
       "      <td>This is Rey. He's a Benebop Cumberfloof. 12/10 dangerously pettable</td>\n",
       "      <td>NaN</td>\n",
       "    </tr>\n",
       "    <tr>\n",
       "      <th>1948</th>\n",
       "      <td>Meet Grizzwald. He may be the floofiest floofer I ever did see. Lost eyes saving a schoolbus from a volcano erpuption. 13/10 heroic as h*ck</td>\n",
       "      <td>floofer</td>\n",
       "    </tr>\n",
       "    <tr>\n",
       "      <th>1964</th>\n",
       "      <td>This... is a Jubilant Antarctic House Bear. We only rate dogs. Please only send dogs. Thank you... 12/10 would suffocate in floof</td>\n",
       "      <td>NaN</td>\n",
       "    </tr>\n",
       "  </tbody>\n",
       "</table>\n",
       "</div>"
      ],
      "text/plain": [
       "                                                                                                                                              text  \\\n",
       "708   Say hello to Petrick. He's an Altostratus Floofer. Just had a run in with a trash bag. Groovy checkered floor. 11/10                           \n",
       "723   This is Flávio. He's a Macedonian Poppycock. 97% floof. Jubilant af. 11/10 personally I'd pet the hell out of                                  \n",
       "774   Meet Luca. He's a Butternut Scooperfloof. Glorious tongue. 12/10 would pet really well                                                         \n",
       "791   Say hello to Peaches. She's a Dingleberry Zanderfloof. 13/10 would caress lots                                                                 \n",
       "808   This is a rare Arctic Wubberfloof. Unamused by the happenings. No longer has the appetites. 12/10 would totally hug                            \n",
       "832   This is Chester. He's a Benefloof Cumberbark. Fabulous ears. Nifty shirt. Was probably on sale. Nice hardwood. 11/10                           \n",
       "878   Here we are witnessing five Guatemalan Birch Floofs in their natural habitat. All 12/10 (Vid by @pootdanielle)                                 \n",
       "919   This is Fiji. She's a Powdered Stegafloof. Very rare. 12/10                                                                                    \n",
       "929   This is a Butternut Cumberfloof. It's not windy they just look like that. 11/10 back at it again with the red socks                            \n",
       "943   Meet Lucia. She's a Cumulonimbus Floofmallow. Only has two legs tho (unfortunate). 11/10 would definitely still pet                            \n",
       "1011  This is Cecil. She's a Gigglefloof Poofer. Outdoorsy af. One with nature. 12/10 would strategically capture                                    \n",
       "1012  This is Olaf. He's gotta be rare. Seems sturdy. Tail is floofy af. 12/10 would do whatever it takes to pet                                     \n",
       "1045  Here we see an extremely rare Bearded Floofmallow. Only a few left in the wild. 11/10 would pet with a purpose                                 \n",
       "1092  This is Neptune. He's a Snowy Swiss Mountain Floofapolis. Cheeky wink. Tongue nifty af. 11/10 would pet so firmly                              \n",
       "1101  Meet Schnitzel. He's a Tropicana Floofboop. Getting too big for his favorite basket. 12/10 just so damn fluffy                                 \n",
       "1106  This is Sugar. She's a Bolivian Superfloof. Spherical af. 12/10 would never let go of                                                          \n",
       "1114  Say hello to Lillie. She's a Rutabagan Floofem. Poor pupper ate and then passed out. 11/10 relatable af                                        \n",
       "1154  This is Moose. He's a Polynesian Floofer. Dapper af. 10/10 would pet diligently                                                                \n",
       "1171  Just wanted to share this super rare Rainbow Floofer in case you guys haven't seen it yet. 13/10 colorful af                                   \n",
       "1246  Pls don't send more sherks. I don't care how seemingly floofy they are. It does me so much frighten. Thank u. 11/10                            \n",
       "1260  This is Blu. He's a wild bush Floofer. I wish anything made me as happy as bushes make Blu. 12/10 would frolic with                            \n",
       "1278  This is Arnie. He's a Nova Scotian Fridge Floof. Rare af. 12/10                                                                                \n",
       "1284  This is Gilbert. He's being chased by a battalion of miniature floof cows. 10/10 we all believe in you Gilbert                                 \n",
       "1382  Meet Gerald. He's a fairly exotic doggo. Floofy af. Inadequate knees tho. Self conscious about large forehead. 8/10                            \n",
       "1394  We only rate dogs. Pls stop sending in non-canines like this Arctic Floof Kangaroo. This is very frustrating. 11/10                            \n",
       "1417  This is Heinrich (pronounced \"Pat\"). He's a Botswanian Vanderfloof. Snazzy af bandana. 12/10 downright puptacular                              \n",
       "1430  Atlas rolled around in some chalk and now he's a magical rainbow floofer. 13/10 please never take a bath                                       \n",
       "1450  We only rate dogs. Pls stop sending in non-canines like this Urban Floof Giraffe. I can't handle this. 11/10                                   \n",
       "1452  Here's a perturbed super floof. 12/10 would snug so damn well                                                                                  \n",
       "1536  This is Nimbus (like the cloud). He just bought this fancy af duck raincoat. Only protects one ear tho. 12/10 so h*ckin floofy                 \n",
       "1542  This is Yogi. He's 98% floof. Snuggable af. 12/10                                                                                              \n",
       "1561  This is Doc. He takes time out of every day to worship our plant overlords. 12/10 quite the floofer                                            \n",
       "1665  The floofs have been released I repeat the floofs have been released. 84/70                                                                    \n",
       "1834  At first I thought this was a shy doggo, but it's actually a Rare Canadian Floofer Owl. Amateurs would confuse the two. 11/10 only send dogs   \n",
       "1941  This is Rey. He's a Benebop Cumberfloof. 12/10 dangerously pettable                                                                            \n",
       "1948  Meet Grizzwald. He may be the floofiest floofer I ever did see. Lost eyes saving a schoolbus from a volcano erpuption. 13/10 heroic as h*ck    \n",
       "1964  This... is a Jubilant Antarctic House Bear. We only rate dogs. Please only send dogs. Thank you... 12/10 would suffocate in floof              \n",
       "\n",
       "     stage_name  \n",
       "708   floofer    \n",
       "723   NaN        \n",
       "774   NaN        \n",
       "791   NaN        \n",
       "808   NaN        \n",
       "832   NaN        \n",
       "878   NaN        \n",
       "919   NaN        \n",
       "929   NaN        \n",
       "943   NaN        \n",
       "1011  NaN        \n",
       "1012  NaN        \n",
       "1045  NaN        \n",
       "1092  NaN        \n",
       "1101  NaN        \n",
       "1106  NaN        \n",
       "1114  pupper     \n",
       "1154  floofer    \n",
       "1171  floofer    \n",
       "1246  NaN        \n",
       "1260  floofer    \n",
       "1278  NaN        \n",
       "1284  NaN        \n",
       "1382  doggo      \n",
       "1394  NaN        \n",
       "1417  NaN        \n",
       "1430  floofer    \n",
       "1450  NaN        \n",
       "1452  NaN        \n",
       "1536  NaN        \n",
       "1542  NaN        \n",
       "1561  floofer    \n",
       "1665  NaN        \n",
       "1834  floofer    \n",
       "1941  NaN        \n",
       "1948  floofer    \n",
       "1964  NaN        "
      ]
     },
     "execution_count": 53,
     "metadata": {},
     "output_type": "execute_result"
    }
   ],
   "source": [
    "df_clean[['text','stage_name']][df_clean.text.str.contains('floof',flags=re.IGNORECASE)]"
   ]
  },
  {
   "cell_type": "markdown",
   "metadata": {},
   "source": [
    "Check all the texts include 'doggo'. It seems plural form of 'doggo' is not identified."
   ]
  },
  {
   "cell_type": "code",
   "execution_count": 54,
   "metadata": {
    "scrolled": true
   },
   "outputs": [
    {
     "data": {
      "text/html": [
       "<div>\n",
       "<style scoped>\n",
       "    .dataframe tbody tr th:only-of-type {\n",
       "        vertical-align: middle;\n",
       "    }\n",
       "\n",
       "    .dataframe tbody tr th {\n",
       "        vertical-align: top;\n",
       "    }\n",
       "\n",
       "    .dataframe thead th {\n",
       "        text-align: right;\n",
       "    }\n",
       "</style>\n",
       "<table border=\"1\" class=\"dataframe\">\n",
       "  <thead>\n",
       "    <tr style=\"text-align: right;\">\n",
       "      <th></th>\n",
       "      <th>text</th>\n",
       "      <th>stage_name</th>\n",
       "    </tr>\n",
       "  </thead>\n",
       "  <tbody>\n",
       "    <tr>\n",
       "      <th>1066</th>\n",
       "      <td>Here's a super majestic doggo and a sunset 11/10</td>\n",
       "      <td>doggo</td>\n",
       "    </tr>\n",
       "    <tr>\n",
       "      <th>1091</th>\n",
       "      <td>This doggo was initially thrilled when she saw the happy cartoon pup but quickly realized she'd been deceived. 10/10</td>\n",
       "      <td>doggo</td>\n",
       "    </tr>\n",
       "    <tr>\n",
       "      <th>1111</th>\n",
       "      <td>Nothin better than a doggo and a sunset. 11/10</td>\n",
       "      <td>doggo</td>\n",
       "    </tr>\n",
       "    <tr>\n",
       "      <th>1124</th>\n",
       "      <td>Here's a doggo struggling to cope with the winds. 13/10</td>\n",
       "      <td>doggo</td>\n",
       "    </tr>\n",
       "    <tr>\n",
       "      <th>1145</th>\n",
       "      <td>Say hello to this unbelievably well behaved squad of doggos. 204/170 would try to pet all at once</td>\n",
       "      <td>NaN</td>\n",
       "    </tr>\n",
       "    <tr>\n",
       "      <th>1148</th>\n",
       "      <td>This is Kyle (pronounced 'Mitch'). He strives to be the best doggo he can be. 11/10 would pat on head approvingly</td>\n",
       "      <td>doggo</td>\n",
       "    </tr>\n",
       "    <tr>\n",
       "      <th>1160</th>\n",
       "      <td>This is Kellogg. He accidentally opened the front facing camera. 8/10 get it together doggo</td>\n",
       "      <td>doggo</td>\n",
       "    </tr>\n",
       "    <tr>\n",
       "      <th>1182</th>\n",
       "      <td>Here's a doggo blowing bubbles. It's downright legendary. 13/10 would watch on repeat forever (vid by Kent Duryee)</td>\n",
       "      <td>doggo</td>\n",
       "    </tr>\n",
       "    <tr>\n",
       "      <th>1216</th>\n",
       "      <td>Here's a doggo realizing you can stand in a pool. 13/10 enlightened af (vid by Tina Conrad)</td>\n",
       "      <td>doggo</td>\n",
       "    </tr>\n",
       "    <tr>\n",
       "      <th>1224</th>\n",
       "      <td>This is Lenox. She's in a wheelbarrow. Silly doggo. You don't belong there. 10/10 would push around</td>\n",
       "      <td>doggo</td>\n",
       "    </tr>\n",
       "    <tr>\n",
       "      <th>1253</th>\n",
       "      <td>That is Quizno. This is his beach. He does not tolerate human shenanigans on his beach. 10/10 reclaim ur land doggo</td>\n",
       "      <td>doggo</td>\n",
       "    </tr>\n",
       "    <tr>\n",
       "      <th>1256</th>\n",
       "      <td>Say hello to Divine Doggo. Must be magical af. 13/10 would be an honor to pet</td>\n",
       "      <td>doggo</td>\n",
       "    </tr>\n",
       "    <tr>\n",
       "      <th>1258</th>\n",
       "      <td>This is Dietrich. He hops at random. Other doggos don't understand him. It upsets him greatly. 8/10 would comfort</td>\n",
       "      <td>NaN</td>\n",
       "    </tr>\n",
       "    <tr>\n",
       "      <th>1267</th>\n",
       "      <td>Meet Piper. She's an airport doggo. Please return your tray table to its full pupright and locked position. 11/10</td>\n",
       "      <td>doggo</td>\n",
       "    </tr>\n",
       "    <tr>\n",
       "      <th>1287</th>\n",
       "      <td>Please stop sending it pictures that don't even have a doggo or pupper in them. Churlish af. 5/10 neat couch tho</td>\n",
       "      <td>NaN</td>\n",
       "    </tr>\n",
       "    <tr>\n",
       "      <th>1292</th>\n",
       "      <td>Here's a doggo trying to catch some fish. 8/10 futile af (vid by @KellyBauerx)</td>\n",
       "      <td>doggo</td>\n",
       "    </tr>\n",
       "    <tr>\n",
       "      <th>1294</th>\n",
       "      <td>Hooman used Pokeball\\n*wiggle*\\n*wiggle*\\nDoggo broke free \\n10/10</td>\n",
       "      <td>doggo</td>\n",
       "    </tr>\n",
       "    <tr>\n",
       "      <th>1295</th>\n",
       "      <td>Nothing better than a doggo and a sunset. 10/10 majestic af</td>\n",
       "      <td>doggo</td>\n",
       "    </tr>\n",
       "    <tr>\n",
       "      <th>1301</th>\n",
       "      <td>Here we are witnessing an isolated squad of bouncing doggos. Unbelievably rare for this time of year. 11/10 for all</td>\n",
       "      <td>NaN</td>\n",
       "    </tr>\n",
       "    <tr>\n",
       "      <th>1310</th>\n",
       "      <td>This is one of the most inspirational stories I've ever come across. I have no words. 14/10 for both doggo and owner</td>\n",
       "      <td>doggo</td>\n",
       "    </tr>\n",
       "    <tr>\n",
       "      <th>1315</th>\n",
       "      <td>All hail sky doggo. 13/10 would jump super high to pet</td>\n",
       "      <td>doggo</td>\n",
       "    </tr>\n",
       "    <tr>\n",
       "      <th>1320</th>\n",
       "      <td>Here's a doggo completely oblivious to the double rainbow behind him. 10/10 someone tell him</td>\n",
       "      <td>doggo</td>\n",
       "    </tr>\n",
       "    <tr>\n",
       "      <th>1332</th>\n",
       "      <td>This doggo is just waiting for someone to be proud of her and her accomplishment. 13/10 legendary af</td>\n",
       "      <td>doggo</td>\n",
       "    </tr>\n",
       "    <tr>\n",
       "      <th>1347</th>\n",
       "      <td>This is Wishes. He has the day off. Daily struggles of being a doggo have finally caught up with him. 11/10</td>\n",
       "      <td>doggo</td>\n",
       "    </tr>\n",
       "    <tr>\n",
       "      <th>1378</th>\n",
       "      <td>I don't know any of the backstory behind this picture but for some reason I'm crying. 13/10 for owner and doggo</td>\n",
       "      <td>doggo</td>\n",
       "    </tr>\n",
       "    <tr>\n",
       "      <th>1382</th>\n",
       "      <td>Meet Gerald. He's a fairly exotic doggo. Floofy af. Inadequate knees tho. Self conscious about large forehead. 8/10</td>\n",
       "      <td>doggo</td>\n",
       "    </tr>\n",
       "    <tr>\n",
       "      <th>1410</th>\n",
       "      <td>You need to watch these two doggos argue through a cat door. Both 11/10</td>\n",
       "      <td>NaN</td>\n",
       "    </tr>\n",
       "    <tr>\n",
       "      <th>1423</th>\n",
       "      <td>This is Finley. He's an independent doggo still adjusting to life on his own. 11/10</td>\n",
       "      <td>doggo</td>\n",
       "    </tr>\n",
       "    <tr>\n",
       "      <th>1425</th>\n",
       "      <td>This is Anakin. He strives to reach his full doggo potential. Born with blurry tail tho. 11/10 would still pet well</td>\n",
       "      <td>doggo</td>\n",
       "    </tr>\n",
       "    <tr>\n",
       "      <th>1462</th>\n",
       "      <td>This is Sampson. He just graduated. Ready to be a doggo now. Time for the real world. 12/10 have fun with taxes</td>\n",
       "      <td>doggo</td>\n",
       "    </tr>\n",
       "    <tr>\n",
       "      <th>...</th>\n",
       "      <td>...</td>\n",
       "      <td>...</td>\n",
       "    </tr>\n",
       "    <tr>\n",
       "      <th>1656</th>\n",
       "      <td>This is Sunny. She was also a very good First Doggo. 14/10 would also be an absolute honor to pet</td>\n",
       "      <td>doggo</td>\n",
       "    </tr>\n",
       "    <tr>\n",
       "      <th>1661</th>\n",
       "      <td>Here we have a doggo who has messed up. He was hoping you wouldn't notice. 11/10 someone help him</td>\n",
       "      <td>doggo</td>\n",
       "    </tr>\n",
       "    <tr>\n",
       "      <th>1668</th>\n",
       "      <td>Here's a doggo who looks like he's about to give you a list of mythical ingredients to go collect for his potion. 11/10 would obey</td>\n",
       "      <td>doggo</td>\n",
       "    </tr>\n",
       "    <tr>\n",
       "      <th>1670</th>\n",
       "      <td>This is Sundance. He's a doggo drummer. Even sings a bit on the side. 14/10 entertained af (vid by @sweetsundance)</td>\n",
       "      <td>doggo</td>\n",
       "    </tr>\n",
       "    <tr>\n",
       "      <th>1672</th>\n",
       "      <td>This is Duchess. She uses dark doggo forces to levitate her toys. 13/10 magical af</td>\n",
       "      <td>doggo</td>\n",
       "    </tr>\n",
       "    <tr>\n",
       "      <th>1695</th>\n",
       "      <td>Here's a little more info on Dew, your favorite roaming doggo that went h*ckin viral. 13/10 \\n</td>\n",
       "      <td>doggo</td>\n",
       "    </tr>\n",
       "    <tr>\n",
       "      <th>1697</th>\n",
       "      <td>This is Pilot. He has mastered the synchronized head tilt and sneaky tongue slip. Usually not unlocked until later doggo days. 12/10</td>\n",
       "      <td>doggo</td>\n",
       "    </tr>\n",
       "    <tr>\n",
       "      <th>1699</th>\n",
       "      <td>This is Cupid. He was found in the trash. Now he's well on his way to prosthetic front legs and a long happy doggo life. 13/10 heroic af</td>\n",
       "      <td>doggo</td>\n",
       "    </tr>\n",
       "    <tr>\n",
       "      <th>1700</th>\n",
       "      <td>This is Loki. He smiles like Elvis. Ain't nothin but a hound doggo. 12/10</td>\n",
       "      <td>doggo</td>\n",
       "    </tr>\n",
       "    <tr>\n",
       "      <th>1710</th>\n",
       "      <td>Meet Doobert. He's a deaf doggo. Didn't stop him on the field tho. Absolute legend today. 14/10 would pat head approvingly</td>\n",
       "      <td>doggo</td>\n",
       "    </tr>\n",
       "    <tr>\n",
       "      <th>1718</th>\n",
       "      <td>This is Astrid. She's a guide doggo in training. 13/10 would follow anywhere</td>\n",
       "      <td>doggo</td>\n",
       "    </tr>\n",
       "    <tr>\n",
       "      <th>1719</th>\n",
       "      <td>Here's a stressed doggo. Had a long day. Many things on her mind. The hat communicates these feelings exquisitely. 11/10</td>\n",
       "      <td>doggo</td>\n",
       "    </tr>\n",
       "    <tr>\n",
       "      <th>1728</th>\n",
       "      <td>This is Pete. He has no eyes. Needs a guide doggo. Also appears to be considerably fluffy af. 12/10 would hug softly</td>\n",
       "      <td>doggo</td>\n",
       "    </tr>\n",
       "    <tr>\n",
       "      <th>1733</th>\n",
       "      <td>This is Emanuel. He's a h*ckin rare doggo. Dwells in a semi-urban environment. Round features make him extra collectible. 12/10 would so pet</td>\n",
       "      <td>doggo</td>\n",
       "    </tr>\n",
       "    <tr>\n",
       "      <th>1734</th>\n",
       "      <td>This is Miguel. He was the only remaining doggo at the adoption center after the weekend. Let's change that. 12/10\\n\\n</td>\n",
       "      <td>doggo</td>\n",
       "    </tr>\n",
       "    <tr>\n",
       "      <th>1735</th>\n",
       "      <td>Say hello to Smiley. He's a blind therapy doggo having a h*ckin blast high steppin around in the snow. 14/10 would follow anywhere</td>\n",
       "      <td>doggo</td>\n",
       "    </tr>\n",
       "    <tr>\n",
       "      <th>1740</th>\n",
       "      <td>This is Rhino. He arrived at a shelter with an elaborate doggo manual for his new family, written by someone who will always love him. 13/10</td>\n",
       "      <td>doggo</td>\n",
       "    </tr>\n",
       "    <tr>\n",
       "      <th>1750</th>\n",
       "      <td>Here's a doggo fully pupared for a shower. H*ckin exquisite balance. Sneaky tongue slip too. 13/10</td>\n",
       "      <td>doggo</td>\n",
       "    </tr>\n",
       "    <tr>\n",
       "      <th>1762</th>\n",
       "      <td>This is Meera. She just heard about taxes and how much a doghouse in a nice area costs. Not pupared to be a  doggo anymore. 12/10</td>\n",
       "      <td>doggo</td>\n",
       "    </tr>\n",
       "    <tr>\n",
       "      <th>1782</th>\n",
       "      <td>Here we have some incredible doggos for #K9VeteransDay. All brave as h*ck. Salute your dog in solidarity. 14/10 for all</td>\n",
       "      <td>NaN</td>\n",
       "    </tr>\n",
       "    <tr>\n",
       "      <th>1798</th>\n",
       "      <td>Say hello to Mimosa. She's an emotional support doggo who helps her owner with PTSD. 13/10, but she needs your help\\n\\n</td>\n",
       "      <td>doggo</td>\n",
       "    </tr>\n",
       "    <tr>\n",
       "      <th>1803</th>\n",
       "      <td>This is Barney. He's an elder doggo. Hitches a ride when he gets tired. Waves goodbye before he leaves. 13/10 please come back soon</td>\n",
       "      <td>doggo</td>\n",
       "    </tr>\n",
       "    <tr>\n",
       "      <th>1834</th>\n",
       "      <td>At first I thought this was a shy doggo, but it's actually a Rare Canadian Floofer Owl. Amateurs would confuse the two. 11/10 only send dogs</td>\n",
       "      <td>floofer</td>\n",
       "    </tr>\n",
       "    <tr>\n",
       "      <th>1840</th>\n",
       "      <td>Here's a puppo participating in the #ScienceMarch. Cleverly disguising her own doggo agenda. 13/10 would keep the planet habitable for</td>\n",
       "      <td>puppo</td>\n",
       "    </tr>\n",
       "    <tr>\n",
       "      <th>1851</th>\n",
       "      <td>I have stumbled puppon a doggo painting party. They're looking to be the next Pupcasso or Puppollock. All 13/10 would put it on the fridge</td>\n",
       "      <td>doggo</td>\n",
       "    </tr>\n",
       "    <tr>\n",
       "      <th>1890</th>\n",
       "      <td>This is Scout. He just graduated. Officially a doggo now. Have fun with taxes and losing sight of your ambitions. 12/10 would throw cap for</td>\n",
       "      <td>doggo</td>\n",
       "    </tr>\n",
       "    <tr>\n",
       "      <th>1899</th>\n",
       "      <td>This is Napolean. He's a Raggedy East Nicaraguan Zoom Zoom. Runs on one leg. Built for deception. No eyes. Good with kids. 12/10 great doggo</td>\n",
       "      <td>doggo</td>\n",
       "    </tr>\n",
       "    <tr>\n",
       "      <th>1907</th>\n",
       "      <td>Here's a very large dog. He has a date later. Politely asked this water person to check if his breath is bad. 12/10 good to go doggo</td>\n",
       "      <td>doggo</td>\n",
       "    </tr>\n",
       "    <tr>\n",
       "      <th>1951</th>\n",
       "      <td>Meet Yogi. He doesn't have any important dog meetings today he just enjoys looking his best at all times. 12/10 for dangerously dapper doggo</td>\n",
       "      <td>doggo</td>\n",
       "    </tr>\n",
       "    <tr>\n",
       "      <th>1979</th>\n",
       "      <td>This is Cassie. She is a college pup. Studying international doggo communication and stick theory. 14/10 so elegant much sophisticate</td>\n",
       "      <td>doggo</td>\n",
       "    </tr>\n",
       "  </tbody>\n",
       "</table>\n",
       "<p>75 rows × 2 columns</p>\n",
       "</div>"
      ],
      "text/plain": [
       "                                                                                                                                              text  \\\n",
       "1066  Here's a super majestic doggo and a sunset 11/10                                                                                               \n",
       "1091  This doggo was initially thrilled when she saw the happy cartoon pup but quickly realized she'd been deceived. 10/10                           \n",
       "1111  Nothin better than a doggo and a sunset. 11/10                                                                                                 \n",
       "1124  Here's a doggo struggling to cope with the winds. 13/10                                                                                        \n",
       "1145  Say hello to this unbelievably well behaved squad of doggos. 204/170 would try to pet all at once                                              \n",
       "1148  This is Kyle (pronounced 'Mitch'). He strives to be the best doggo he can be. 11/10 would pat on head approvingly                              \n",
       "1160  This is Kellogg. He accidentally opened the front facing camera. 8/10 get it together doggo                                                    \n",
       "1182  Here's a doggo blowing bubbles. It's downright legendary. 13/10 would watch on repeat forever (vid by Kent Duryee)                             \n",
       "1216  Here's a doggo realizing you can stand in a pool. 13/10 enlightened af (vid by Tina Conrad)                                                    \n",
       "1224  This is Lenox. She's in a wheelbarrow. Silly doggo. You don't belong there. 10/10 would push around                                            \n",
       "1253  That is Quizno. This is his beach. He does not tolerate human shenanigans on his beach. 10/10 reclaim ur land doggo                            \n",
       "1256  Say hello to Divine Doggo. Must be magical af. 13/10 would be an honor to pet                                                                  \n",
       "1258  This is Dietrich. He hops at random. Other doggos don't understand him. It upsets him greatly. 8/10 would comfort                              \n",
       "1267  Meet Piper. She's an airport doggo. Please return your tray table to its full pupright and locked position. 11/10                              \n",
       "1287  Please stop sending it pictures that don't even have a doggo or pupper in them. Churlish af. 5/10 neat couch tho                               \n",
       "1292  Here's a doggo trying to catch some fish. 8/10 futile af (vid by @KellyBauerx)                                                                 \n",
       "1294  Hooman used Pokeball\\n*wiggle*\\n*wiggle*\\nDoggo broke free \\n10/10                                                                             \n",
       "1295  Nothing better than a doggo and a sunset. 10/10 majestic af                                                                                    \n",
       "1301  Here we are witnessing an isolated squad of bouncing doggos. Unbelievably rare for this time of year. 11/10 for all                            \n",
       "1310  This is one of the most inspirational stories I've ever come across. I have no words. 14/10 for both doggo and owner                           \n",
       "1315  All hail sky doggo. 13/10 would jump super high to pet                                                                                         \n",
       "1320  Here's a doggo completely oblivious to the double rainbow behind him. 10/10 someone tell him                                                   \n",
       "1332  This doggo is just waiting for someone to be proud of her and her accomplishment. 13/10 legendary af                                           \n",
       "1347  This is Wishes. He has the day off. Daily struggles of being a doggo have finally caught up with him. 11/10                                    \n",
       "1378  I don't know any of the backstory behind this picture but for some reason I'm crying. 13/10 for owner and doggo                                \n",
       "1382  Meet Gerald. He's a fairly exotic doggo. Floofy af. Inadequate knees tho. Self conscious about large forehead. 8/10                            \n",
       "1410  You need to watch these two doggos argue through a cat door. Both 11/10                                                                        \n",
       "1423  This is Finley. He's an independent doggo still adjusting to life on his own. 11/10                                                            \n",
       "1425  This is Anakin. He strives to reach his full doggo potential. Born with blurry tail tho. 11/10 would still pet well                            \n",
       "1462  This is Sampson. He just graduated. Ready to be a doggo now. Time for the real world. 12/10 have fun with taxes                                \n",
       "...                                                                                                               ...                                \n",
       "1656  This is Sunny. She was also a very good First Doggo. 14/10 would also be an absolute honor to pet                                              \n",
       "1661  Here we have a doggo who has messed up. He was hoping you wouldn't notice. 11/10 someone help him                                              \n",
       "1668  Here's a doggo who looks like he's about to give you a list of mythical ingredients to go collect for his potion. 11/10 would obey             \n",
       "1670  This is Sundance. He's a doggo drummer. Even sings a bit on the side. 14/10 entertained af (vid by @sweetsundance)                             \n",
       "1672  This is Duchess. She uses dark doggo forces to levitate her toys. 13/10 magical af                                                             \n",
       "1695  Here's a little more info on Dew, your favorite roaming doggo that went h*ckin viral. 13/10 \\n                                                 \n",
       "1697  This is Pilot. He has mastered the synchronized head tilt and sneaky tongue slip. Usually not unlocked until later doggo days. 12/10           \n",
       "1699  This is Cupid. He was found in the trash. Now he's well on his way to prosthetic front legs and a long happy doggo life. 13/10 heroic af       \n",
       "1700  This is Loki. He smiles like Elvis. Ain't nothin but a hound doggo. 12/10                                                                      \n",
       "1710  Meet Doobert. He's a deaf doggo. Didn't stop him on the field tho. Absolute legend today. 14/10 would pat head approvingly                     \n",
       "1718  This is Astrid. She's a guide doggo in training. 13/10 would follow anywhere                                                                   \n",
       "1719  Here's a stressed doggo. Had a long day. Many things on her mind. The hat communicates these feelings exquisitely. 11/10                       \n",
       "1728  This is Pete. He has no eyes. Needs a guide doggo. Also appears to be considerably fluffy af. 12/10 would hug softly                           \n",
       "1733  This is Emanuel. He's a h*ckin rare doggo. Dwells in a semi-urban environment. Round features make him extra collectible. 12/10 would so pet   \n",
       "1734  This is Miguel. He was the only remaining doggo at the adoption center after the weekend. Let's change that. 12/10\\n\\n                         \n",
       "1735  Say hello to Smiley. He's a blind therapy doggo having a h*ckin blast high steppin around in the snow. 14/10 would follow anywhere             \n",
       "1740  This is Rhino. He arrived at a shelter with an elaborate doggo manual for his new family, written by someone who will always love him. 13/10   \n",
       "1750  Here's a doggo fully pupared for a shower. H*ckin exquisite balance. Sneaky tongue slip too. 13/10                                             \n",
       "1762  This is Meera. She just heard about taxes and how much a doghouse in a nice area costs. Not pupared to be a  doggo anymore. 12/10              \n",
       "1782  Here we have some incredible doggos for #K9VeteransDay. All brave as h*ck. Salute your dog in solidarity. 14/10 for all                        \n",
       "1798  Say hello to Mimosa. She's an emotional support doggo who helps her owner with PTSD. 13/10, but she needs your help\\n\\n                        \n",
       "1803  This is Barney. He's an elder doggo. Hitches a ride when he gets tired. Waves goodbye before he leaves. 13/10 please come back soon            \n",
       "1834  At first I thought this was a shy doggo, but it's actually a Rare Canadian Floofer Owl. Amateurs would confuse the two. 11/10 only send dogs   \n",
       "1840  Here's a puppo participating in the #ScienceMarch. Cleverly disguising her own doggo agenda. 13/10 would keep the planet habitable for         \n",
       "1851  I have stumbled puppon a doggo painting party. They're looking to be the next Pupcasso or Puppollock. All 13/10 would put it on the fridge     \n",
       "1890  This is Scout. He just graduated. Officially a doggo now. Have fun with taxes and losing sight of your ambitions. 12/10 would throw cap for    \n",
       "1899  This is Napolean. He's a Raggedy East Nicaraguan Zoom Zoom. Runs on one leg. Built for deception. No eyes. Good with kids. 12/10 great doggo   \n",
       "1907  Here's a very large dog. He has a date later. Politely asked this water person to check if his breath is bad. 12/10 good to go doggo           \n",
       "1951  Meet Yogi. He doesn't have any important dog meetings today he just enjoys looking his best at all times. 12/10 for dangerously dapper doggo   \n",
       "1979  This is Cassie. She is a college pup. Studying international doggo communication and stick theory. 14/10 so elegant much sophisticate          \n",
       "\n",
       "     stage_name  \n",
       "1066  doggo      \n",
       "1091  doggo      \n",
       "1111  doggo      \n",
       "1124  doggo      \n",
       "1145  NaN        \n",
       "1148  doggo      \n",
       "1160  doggo      \n",
       "1182  doggo      \n",
       "1216  doggo      \n",
       "1224  doggo      \n",
       "1253  doggo      \n",
       "1256  doggo      \n",
       "1258  NaN        \n",
       "1267  doggo      \n",
       "1287  NaN        \n",
       "1292  doggo      \n",
       "1294  doggo      \n",
       "1295  doggo      \n",
       "1301  NaN        \n",
       "1310  doggo      \n",
       "1315  doggo      \n",
       "1320  doggo      \n",
       "1332  doggo      \n",
       "1347  doggo      \n",
       "1378  doggo      \n",
       "1382  doggo      \n",
       "1410  NaN        \n",
       "1423  doggo      \n",
       "1425  doggo      \n",
       "1462  doggo      \n",
       "...     ...      \n",
       "1656  doggo      \n",
       "1661  doggo      \n",
       "1668  doggo      \n",
       "1670  doggo      \n",
       "1672  doggo      \n",
       "1695  doggo      \n",
       "1697  doggo      \n",
       "1699  doggo      \n",
       "1700  doggo      \n",
       "1710  doggo      \n",
       "1718  doggo      \n",
       "1719  doggo      \n",
       "1728  doggo      \n",
       "1733  doggo      \n",
       "1734  doggo      \n",
       "1735  doggo      \n",
       "1740  doggo      \n",
       "1750  doggo      \n",
       "1762  doggo      \n",
       "1782  NaN        \n",
       "1798  doggo      \n",
       "1803  doggo      \n",
       "1834  floofer    \n",
       "1840  puppo      \n",
       "1851  doggo      \n",
       "1890  doggo      \n",
       "1899  doggo      \n",
       "1907  doggo      \n",
       "1951  doggo      \n",
       "1979  doggo      \n",
       "\n",
       "[75 rows x 2 columns]"
      ]
     },
     "execution_count": 54,
     "metadata": {},
     "output_type": "execute_result"
    }
   ],
   "source": [
    "df_clean[['text','stage_name']][df_clean.text.str.contains('doggo',flags=re.IGNORECASE)]"
   ]
  },
  {
   "cell_type": "markdown",
   "metadata": {},
   "source": [
    "Same for 'pupper'. The plural form of *pupper* was not identified."
   ]
  },
  {
   "cell_type": "code",
   "execution_count": 55,
   "metadata": {
    "scrolled": true
   },
   "outputs": [
    {
     "data": {
      "text/html": [
       "<div>\n",
       "<style scoped>\n",
       "    .dataframe tbody tr th:only-of-type {\n",
       "        vertical-align: middle;\n",
       "    }\n",
       "\n",
       "    .dataframe tbody tr th {\n",
       "        vertical-align: top;\n",
       "    }\n",
       "\n",
       "    .dataframe thead th {\n",
       "        text-align: right;\n",
       "    }\n",
       "</style>\n",
       "<table border=\"1\" class=\"dataframe\">\n",
       "  <thead>\n",
       "    <tr style=\"text-align: right;\">\n",
       "      <th></th>\n",
       "      <th>text</th>\n",
       "      <th>stage_name</th>\n",
       "    </tr>\n",
       "  </thead>\n",
       "  <tbody>\n",
       "    <tr>\n",
       "      <th>208</th>\n",
       "      <td>This is Zoey. Her dreams of becoming a hippo ballerina don't look promising. 9/10 it'll be ok puppers</td>\n",
       "      <td>NaN</td>\n",
       "    </tr>\n",
       "    <tr>\n",
       "      <th>331</th>\n",
       "      <td>This is Bubba. He's a Titted Peebles Aorta. Evolutionary masterpiece. Comfortable with his body. 8/10 great pupper</td>\n",
       "      <td>pupper</td>\n",
       "    </tr>\n",
       "    <tr>\n",
       "      <th>333</th>\n",
       "      <td>This is Opal. He's a Royal John Coctostan. Ready for transport. Basically indestructible. 9/10 good pupper</td>\n",
       "      <td>pupper</td>\n",
       "    </tr>\n",
       "    <tr>\n",
       "      <th>339</th>\n",
       "      <td>This is Rolf. He's having the time of his life. 11/10 good pupper</td>\n",
       "      <td>pupper</td>\n",
       "    </tr>\n",
       "    <tr>\n",
       "      <th>346</th>\n",
       "      <td>Say hello to Jazz. She should be on the cover of Vogue. 12/10 gorgeous pupper</td>\n",
       "      <td>pupper</td>\n",
       "    </tr>\n",
       "    <tr>\n",
       "      <th>353</th>\n",
       "      <td>Meet Scott. Just trying to catch his train to work. Doesn't need everybody staring. 9/10 ignore the haters pupper</td>\n",
       "      <td>pupper</td>\n",
       "    </tr>\n",
       "    <tr>\n",
       "      <th>356</th>\n",
       "      <td>This is Norman. Doesn't bark much. Very docile pup. Up to date on current events. Overall nifty pupper. 6/10</td>\n",
       "      <td>pupper</td>\n",
       "    </tr>\n",
       "    <tr>\n",
       "      <th>357</th>\n",
       "      <td>This lil pupper is sad because we haven't found Kony yet. RT to spread awareness. 12/10 would pet firmly</td>\n",
       "      <td>pupper</td>\n",
       "    </tr>\n",
       "    <tr>\n",
       "      <th>363</th>\n",
       "      <td>This is Cheryl AKA Queen Pupper of the Skies. Experienced fighter pilot. Much skill. True hero. 11/10</td>\n",
       "      <td>pupper</td>\n",
       "    </tr>\n",
       "    <tr>\n",
       "      <th>367</th>\n",
       "      <td>This is Chet. He's having a hard time. Really struggling. 7/10 hang in there pupper</td>\n",
       "      <td>pupper</td>\n",
       "    </tr>\n",
       "    <tr>\n",
       "      <th>368</th>\n",
       "      <td>This is Chuckles. He is one skeptical pupper. 10/10 stay woke Chuckles</td>\n",
       "      <td>pupper</td>\n",
       "    </tr>\n",
       "    <tr>\n",
       "      <th>371</th>\n",
       "      <td>This is Schnozz. He's had a blurred tail since birth. Hasn't let that stop him. 10/10 inspirational pupper</td>\n",
       "      <td>pupper</td>\n",
       "    </tr>\n",
       "    <tr>\n",
       "      <th>374</th>\n",
       "      <td>This is Fletcher. He's had a ruff night. No more Fireball for Fletcher. 8/10 it'll be over soon pupper</td>\n",
       "      <td>pupper</td>\n",
       "    </tr>\n",
       "    <tr>\n",
       "      <th>378</th>\n",
       "      <td>Meet Eve. She's a raging alcoholic 8/10 (would b 11/10 but pupper alcoholism is a tragic issue that I can't condone)</td>\n",
       "      <td>pupper</td>\n",
       "    </tr>\n",
       "    <tr>\n",
       "      <th>381</th>\n",
       "      <td>This is Django. He's a skilled assassin pupper. 10/10</td>\n",
       "      <td>pupper</td>\n",
       "    </tr>\n",
       "    <tr>\n",
       "      <th>388</th>\n",
       "      <td>This little pupper can't wait for Christmas. He's pretending to be a present. S'cute. 11/10 twenty more days 🎁🎄🐶</td>\n",
       "      <td>pupper</td>\n",
       "    </tr>\n",
       "    <tr>\n",
       "      <th>392</th>\n",
       "      <td>This is Jeffri. He's a speckled ice pupper. Very lazy. Enjoys the occasional swim. Rather majestic really. 7/10</td>\n",
       "      <td>pupper</td>\n",
       "    </tr>\n",
       "    <tr>\n",
       "      <th>394</th>\n",
       "      <td>This is Albert AKA King Banana Peel. He's a kind ruler of the kitchen. Very jubilant pupper. 10/10 overall great dog</td>\n",
       "      <td>pupper</td>\n",
       "    </tr>\n",
       "    <tr>\n",
       "      <th>400</th>\n",
       "      <td>This is Pickles. She's a tiny pointy pupper. Average walker. Very skeptical of wet leaf. 8/10</td>\n",
       "      <td>pupper</td>\n",
       "    </tr>\n",
       "    <tr>\n",
       "      <th>403</th>\n",
       "      <td>This is Raymond. He's absolutely terrified of floating tennis ball. 10/10 it'll be ok pupper</td>\n",
       "      <td>pupper</td>\n",
       "    </tr>\n",
       "    <tr>\n",
       "      <th>410</th>\n",
       "      <td>This is Obie. He is on guard watching for evildoers from the comfort of his pumpkin. Very brave pupper. 11/10</td>\n",
       "      <td>pupper</td>\n",
       "    </tr>\n",
       "    <tr>\n",
       "      <th>411</th>\n",
       "      <td>This is one esteemed pupper. Just graduated college. 10/10 what a champ</td>\n",
       "      <td>pupper</td>\n",
       "    </tr>\n",
       "    <tr>\n",
       "      <th>417</th>\n",
       "      <td>This is Kaiya. She's an aspiring shoe model. 12/10 follow your dreams pupper</td>\n",
       "      <td>pupper</td>\n",
       "    </tr>\n",
       "    <tr>\n",
       "      <th>419</th>\n",
       "      <td>Herd of wild dogs here. Not sure what they're trying to do. No real goals in life. 3/10 find your purpose puppers</td>\n",
       "      <td>NaN</td>\n",
       "    </tr>\n",
       "    <tr>\n",
       "      <th>426</th>\n",
       "      <td>This is Gus. He's super stoked about being an elephant. Couldn't be happier. 9/10 for elephant pupper</td>\n",
       "      <td>pupper</td>\n",
       "    </tr>\n",
       "    <tr>\n",
       "      <th>431</th>\n",
       "      <td>This is Lennon. He's in quite the predicament. 8/10 hang in there pupper</td>\n",
       "      <td>pupper</td>\n",
       "    </tr>\n",
       "    <tr>\n",
       "      <th>438</th>\n",
       "      <td>This pupper just wants a belly rub. This pupper has nothing to do w the tree being sideways now. 10/10 good pupper</td>\n",
       "      <td>pupper</td>\n",
       "    </tr>\n",
       "    <tr>\n",
       "      <th>441</th>\n",
       "      <td>This pupper is fed up with being tickled. 12/10 I'm currently working on an elaborate heist to steal this dog</td>\n",
       "      <td>pupper</td>\n",
       "    </tr>\n",
       "    <tr>\n",
       "      <th>444</th>\n",
       "      <td>This is Rodman. He's getting destroyed by the surfs. Valiant effort though. 10/10 better than most puppers probably</td>\n",
       "      <td>NaN</td>\n",
       "    </tr>\n",
       "    <tr>\n",
       "      <th>447</th>\n",
       "      <td>Meet Rufio. He is unaware of the pink legless pupper wrapped around him. Might want to get that checked 10/10 &amp;amp; 4/10</td>\n",
       "      <td>pupper</td>\n",
       "    </tr>\n",
       "    <tr>\n",
       "      <th>...</th>\n",
       "      <td>...</td>\n",
       "      <td>...</td>\n",
       "    </tr>\n",
       "    <tr>\n",
       "      <th>1562</th>\n",
       "      <td>Here's a very sleepy pupper. Appears to be portable as h*ck. 12/10 would snug intensely</td>\n",
       "      <td>pupper</td>\n",
       "    </tr>\n",
       "    <tr>\n",
       "      <th>1565</th>\n",
       "      <td>This is Bones. He's being haunted by another doggo of roughly the same size. 12/10 deep breaths pupper everything's fine</td>\n",
       "      <td>pupper</td>\n",
       "    </tr>\n",
       "    <tr>\n",
       "      <th>1576</th>\n",
       "      <td>Pupper hath acquire enemy. 13/10</td>\n",
       "      <td>pupper</td>\n",
       "    </tr>\n",
       "    <tr>\n",
       "      <th>1588</th>\n",
       "      <td>This is Lennon. He's a Boopershnoop Pupperdoop. Quite rare. Exceptionally pettable. 12/10 would definitely boop that shnoop</td>\n",
       "      <td>NaN</td>\n",
       "    </tr>\n",
       "    <tr>\n",
       "      <th>1590</th>\n",
       "      <td>This is Ollie Vue. He was a 3 legged pupper on a mission to overcome everything. This is very hard to write. 14/10 we will miss you Ollie</td>\n",
       "      <td>pupper</td>\n",
       "    </tr>\n",
       "    <tr>\n",
       "      <th>1593</th>\n",
       "      <td>Here's a pupper in a onesie. Quite pupset about it. Currently plotting revenge. 12/10 would rescue</td>\n",
       "      <td>pupper</td>\n",
       "    </tr>\n",
       "    <tr>\n",
       "      <th>1604</th>\n",
       "      <td>This is Craig. That's actually a normal sized fence he's stuck on. H*ckin massive pupper. 11/10 someone help him</td>\n",
       "      <td>pupper</td>\n",
       "    </tr>\n",
       "    <tr>\n",
       "      <th>1631</th>\n",
       "      <td>This is Cooper. Someone attacked him with a sharpie. Poor pupper. 11/10 nifty tongue slip tho</td>\n",
       "      <td>pupper</td>\n",
       "    </tr>\n",
       "    <tr>\n",
       "      <th>1635</th>\n",
       "      <td>Here's a pupper with squeaky hiccups. Please enjoy. 13/10</td>\n",
       "      <td>pupper</td>\n",
       "    </tr>\n",
       "    <tr>\n",
       "      <th>1648</th>\n",
       "      <td>This is Dido. She's playing the lead role in \"Pupper Stops to Catch Snow Before Resuming Shadow Box with Dried Apple.\" 13/10 (IG: didodoggo)</td>\n",
       "      <td>pupper</td>\n",
       "    </tr>\n",
       "    <tr>\n",
       "      <th>1675</th>\n",
       "      <td>This is Gabe. He was the unequivocal embodiment of a dream meme, but also one h*ck of a pupper. You will be missed by so many. 14/10 RIP</td>\n",
       "      <td>pupper</td>\n",
       "    </tr>\n",
       "    <tr>\n",
       "      <th>1686</th>\n",
       "      <td>Retweet the h*ck out of this 13/10 pupper #BellLetsTalk</td>\n",
       "      <td>pupper</td>\n",
       "    </tr>\n",
       "    <tr>\n",
       "      <th>1705</th>\n",
       "      <td>This is Kona. Yesterday she stopped by the department to see what it takes to be a police pupper. 12/10 vest was only a smidge too big</td>\n",
       "      <td>pupper</td>\n",
       "    </tr>\n",
       "    <tr>\n",
       "      <th>1727</th>\n",
       "      <td>I couldn't make it to the #WKCDogShow BUT I have people there on the ground relaying me the finest pupper pics possible. 13/10 for all</td>\n",
       "      <td>pupper</td>\n",
       "    </tr>\n",
       "    <tr>\n",
       "      <th>1741</th>\n",
       "      <td>This is Gidget. She's a spy pupper. Stealthy as h*ck. Must've slipped pup and got caught. 12/10 would forgive then pet</td>\n",
       "      <td>pupper</td>\n",
       "    </tr>\n",
       "    <tr>\n",
       "      <th>1760</th>\n",
       "      <td>This is Ava. She just blasted off. Streamline af. Aerodynamic as h*ck. One small step for pupper, one giant leap for pupkind. 12/10</td>\n",
       "      <td>pupper</td>\n",
       "    </tr>\n",
       "    <tr>\n",
       "      <th>1764</th>\n",
       "      <td>This is Clark. He passed pupper training today. Round of appaws for Clark. 13/10</td>\n",
       "      <td>pupper</td>\n",
       "    </tr>\n",
       "    <tr>\n",
       "      <th>1768</th>\n",
       "      <td>Here's a pupper before and after being asked \"who's a good girl?\" Unsure as h*ck. 12/10 hint hint it's you</td>\n",
       "      <td>pupper</td>\n",
       "    </tr>\n",
       "    <tr>\n",
       "      <th>1797</th>\n",
       "      <td>This is Pickles. She's a silly pupper. Thinks she's a dish. 12/10 would dry</td>\n",
       "      <td>pupper</td>\n",
       "    </tr>\n",
       "    <tr>\n",
       "      <th>1818</th>\n",
       "      <td>Say hello to Boomer. He's a sandy pupper. Having a h*ckin blast. 12/10 would pet passionately</td>\n",
       "      <td>pupper</td>\n",
       "    </tr>\n",
       "    <tr>\n",
       "      <th>1835</th>\n",
       "      <td>Sometimes you guys remind me just how impactful a pupper can be. Cooper will be remembered as a good boy by so many. 14/10 rest easy friend</td>\n",
       "      <td>pupper</td>\n",
       "    </tr>\n",
       "    <tr>\n",
       "      <th>1880</th>\n",
       "      <td>This is Jamesy. He gives a kiss to every other pupper he sees on his walk. 13/10 such passion, much tender</td>\n",
       "      <td>pupper</td>\n",
       "    </tr>\n",
       "    <tr>\n",
       "      <th>1900</th>\n",
       "      <td>This is Rover. As part of pupper protocol he had to at least attempt to eat the plant. Confirmed not tasty. Needs peanut butter. 12/10</td>\n",
       "      <td>pupper</td>\n",
       "    </tr>\n",
       "    <tr>\n",
       "      <th>1908</th>\n",
       "      <td>This is Sierra. She's one precious pupper. Absolute 12/10. Been in and out of ICU her whole life. Help Sierra below\\n\\n</td>\n",
       "      <td>pupper</td>\n",
       "    </tr>\n",
       "    <tr>\n",
       "      <th>1912</th>\n",
       "      <td>This is Jed. He may be the fanciest pupper in the game right now. Knows it too. 13/10 would sign modeling contract</td>\n",
       "      <td>pupper</td>\n",
       "    </tr>\n",
       "    <tr>\n",
       "      <th>1919</th>\n",
       "      <td>This is Ginger. She's having a ruff Monday. Too many pupper things going on. H*ckin exhausting. 12/10 would snug passionately</td>\n",
       "      <td>pupper</td>\n",
       "    </tr>\n",
       "    <tr>\n",
       "      <th>1939</th>\n",
       "      <td>Here is a pupper approaching maximum borkdrive. Zooming at never before seen speeds. 14/10 paw-inspiring af \\n(IG: puffie_the_chow)</td>\n",
       "      <td>pupper</td>\n",
       "    </tr>\n",
       "    <tr>\n",
       "      <th>1940</th>\n",
       "      <td>This is Gary. He couldn't miss this puppertunity for a selfie. Flawless focusing skills. 13/10 would boop intensely</td>\n",
       "      <td>NaN</td>\n",
       "    </tr>\n",
       "    <tr>\n",
       "      <th>1945</th>\n",
       "      <td>This is Gus. He's quite the cheeky pupper. Already perfected the disinterested wink. 12/10 would let steal my girl</td>\n",
       "      <td>pupper</td>\n",
       "    </tr>\n",
       "    <tr>\n",
       "      <th>1960</th>\n",
       "      <td>This is Roscoe. Another pupper fallen victim to spontaneous tongue ejections. Get the BlepiPen immediate. 12/10 deep breaths Roscoe</td>\n",
       "      <td>pupper</td>\n",
       "    </tr>\n",
       "  </tbody>\n",
       "</table>\n",
       "<p>232 rows × 2 columns</p>\n",
       "</div>"
      ],
      "text/plain": [
       "                                                                                                                                              text  \\\n",
       "208   This is Zoey. Her dreams of becoming a hippo ballerina don't look promising. 9/10 it'll be ok puppers                                          \n",
       "331   This is Bubba. He's a Titted Peebles Aorta. Evolutionary masterpiece. Comfortable with his body. 8/10 great pupper                             \n",
       "333   This is Opal. He's a Royal John Coctostan. Ready for transport. Basically indestructible. 9/10 good pupper                                     \n",
       "339   This is Rolf. He's having the time of his life. 11/10 good pupper                                                                              \n",
       "346   Say hello to Jazz. She should be on the cover of Vogue. 12/10 gorgeous pupper                                                                  \n",
       "353   Meet Scott. Just trying to catch his train to work. Doesn't need everybody staring. 9/10 ignore the haters pupper                              \n",
       "356   This is Norman. Doesn't bark much. Very docile pup. Up to date on current events. Overall nifty pupper. 6/10                                   \n",
       "357   This lil pupper is sad because we haven't found Kony yet. RT to spread awareness. 12/10 would pet firmly                                       \n",
       "363   This is Cheryl AKA Queen Pupper of the Skies. Experienced fighter pilot. Much skill. True hero. 11/10                                          \n",
       "367   This is Chet. He's having a hard time. Really struggling. 7/10 hang in there pupper                                                            \n",
       "368   This is Chuckles. He is one skeptical pupper. 10/10 stay woke Chuckles                                                                         \n",
       "371   This is Schnozz. He's had a blurred tail since birth. Hasn't let that stop him. 10/10 inspirational pupper                                     \n",
       "374   This is Fletcher. He's had a ruff night. No more Fireball for Fletcher. 8/10 it'll be over soon pupper                                         \n",
       "378   Meet Eve. She's a raging alcoholic 8/10 (would b 11/10 but pupper alcoholism is a tragic issue that I can't condone)                           \n",
       "381   This is Django. He's a skilled assassin pupper. 10/10                                                                                          \n",
       "388   This little pupper can't wait for Christmas. He's pretending to be a present. S'cute. 11/10 twenty more days 🎁🎄🐶                               \n",
       "392   This is Jeffri. He's a speckled ice pupper. Very lazy. Enjoys the occasional swim. Rather majestic really. 7/10                                \n",
       "394   This is Albert AKA King Banana Peel. He's a kind ruler of the kitchen. Very jubilant pupper. 10/10 overall great dog                           \n",
       "400   This is Pickles. She's a tiny pointy pupper. Average walker. Very skeptical of wet leaf. 8/10                                                  \n",
       "403   This is Raymond. He's absolutely terrified of floating tennis ball. 10/10 it'll be ok pupper                                                   \n",
       "410   This is Obie. He is on guard watching for evildoers from the comfort of his pumpkin. Very brave pupper. 11/10                                  \n",
       "411   This is one esteemed pupper. Just graduated college. 10/10 what a champ                                                                        \n",
       "417   This is Kaiya. She's an aspiring shoe model. 12/10 follow your dreams pupper                                                                   \n",
       "419   Herd of wild dogs here. Not sure what they're trying to do. No real goals in life. 3/10 find your purpose puppers                              \n",
       "426   This is Gus. He's super stoked about being an elephant. Couldn't be happier. 9/10 for elephant pupper                                          \n",
       "431   This is Lennon. He's in quite the predicament. 8/10 hang in there pupper                                                                       \n",
       "438   This pupper just wants a belly rub. This pupper has nothing to do w the tree being sideways now. 10/10 good pupper                             \n",
       "441   This pupper is fed up with being tickled. 12/10 I'm currently working on an elaborate heist to steal this dog                                  \n",
       "444   This is Rodman. He's getting destroyed by the surfs. Valiant effort though. 10/10 better than most puppers probably                            \n",
       "447   Meet Rufio. He is unaware of the pink legless pupper wrapped around him. Might want to get that checked 10/10 &amp; 4/10                       \n",
       "...                                                                                                                        ...                       \n",
       "1562  Here's a very sleepy pupper. Appears to be portable as h*ck. 12/10 would snug intensely                                                        \n",
       "1565  This is Bones. He's being haunted by another doggo of roughly the same size. 12/10 deep breaths pupper everything's fine                       \n",
       "1576  Pupper hath acquire enemy. 13/10                                                                                                               \n",
       "1588  This is Lennon. He's a Boopershnoop Pupperdoop. Quite rare. Exceptionally pettable. 12/10 would definitely boop that shnoop                    \n",
       "1590  This is Ollie Vue. He was a 3 legged pupper on a mission to overcome everything. This is very hard to write. 14/10 we will miss you Ollie      \n",
       "1593  Here's a pupper in a onesie. Quite pupset about it. Currently plotting revenge. 12/10 would rescue                                             \n",
       "1604  This is Craig. That's actually a normal sized fence he's stuck on. H*ckin massive pupper. 11/10 someone help him                               \n",
       "1631  This is Cooper. Someone attacked him with a sharpie. Poor pupper. 11/10 nifty tongue slip tho                                                  \n",
       "1635  Here's a pupper with squeaky hiccups. Please enjoy. 13/10                                                                                      \n",
       "1648  This is Dido. She's playing the lead role in \"Pupper Stops to Catch Snow Before Resuming Shadow Box with Dried Apple.\" 13/10 (IG: didodoggo)   \n",
       "1675  This is Gabe. He was the unequivocal embodiment of a dream meme, but also one h*ck of a pupper. You will be missed by so many. 14/10 RIP       \n",
       "1686  Retweet the h*ck out of this 13/10 pupper #BellLetsTalk                                                                                        \n",
       "1705  This is Kona. Yesterday she stopped by the department to see what it takes to be a police pupper. 12/10 vest was only a smidge too big         \n",
       "1727  I couldn't make it to the #WKCDogShow BUT I have people there on the ground relaying me the finest pupper pics possible. 13/10 for all         \n",
       "1741  This is Gidget. She's a spy pupper. Stealthy as h*ck. Must've slipped pup and got caught. 12/10 would forgive then pet                         \n",
       "1760  This is Ava. She just blasted off. Streamline af. Aerodynamic as h*ck. One small step for pupper, one giant leap for pupkind. 12/10            \n",
       "1764  This is Clark. He passed pupper training today. Round of appaws for Clark. 13/10                                                               \n",
       "1768  Here's a pupper before and after being asked \"who's a good girl?\" Unsure as h*ck. 12/10 hint hint it's you                                     \n",
       "1797  This is Pickles. She's a silly pupper. Thinks she's a dish. 12/10 would dry                                                                    \n",
       "1818  Say hello to Boomer. He's a sandy pupper. Having a h*ckin blast. 12/10 would pet passionately                                                  \n",
       "1835  Sometimes you guys remind me just how impactful a pupper can be. Cooper will be remembered as a good boy by so many. 14/10 rest easy friend    \n",
       "1880  This is Jamesy. He gives a kiss to every other pupper he sees on his walk. 13/10 such passion, much tender                                     \n",
       "1900  This is Rover. As part of pupper protocol he had to at least attempt to eat the plant. Confirmed not tasty. Needs peanut butter. 12/10         \n",
       "1908  This is Sierra. She's one precious pupper. Absolute 12/10. Been in and out of ICU her whole life. Help Sierra below\\n\\n                        \n",
       "1912  This is Jed. He may be the fanciest pupper in the game right now. Knows it too. 13/10 would sign modeling contract                             \n",
       "1919  This is Ginger. She's having a ruff Monday. Too many pupper things going on. H*ckin exhausting. 12/10 would snug passionately                  \n",
       "1939  Here is a pupper approaching maximum borkdrive. Zooming at never before seen speeds. 14/10 paw-inspiring af \\n(IG: puffie_the_chow)            \n",
       "1940  This is Gary. He couldn't miss this puppertunity for a selfie. Flawless focusing skills. 13/10 would boop intensely                            \n",
       "1945  This is Gus. He's quite the cheeky pupper. Already perfected the disinterested wink. 12/10 would let steal my girl                             \n",
       "1960  This is Roscoe. Another pupper fallen victim to spontaneous tongue ejections. Get the BlepiPen immediate. 12/10 deep breaths Roscoe            \n",
       "\n",
       "     stage_name  \n",
       "208   NaN        \n",
       "331   pupper     \n",
       "333   pupper     \n",
       "339   pupper     \n",
       "346   pupper     \n",
       "353   pupper     \n",
       "356   pupper     \n",
       "357   pupper     \n",
       "363   pupper     \n",
       "367   pupper     \n",
       "368   pupper     \n",
       "371   pupper     \n",
       "374   pupper     \n",
       "378   pupper     \n",
       "381   pupper     \n",
       "388   pupper     \n",
       "392   pupper     \n",
       "394   pupper     \n",
       "400   pupper     \n",
       "403   pupper     \n",
       "410   pupper     \n",
       "411   pupper     \n",
       "417   pupper     \n",
       "419   NaN        \n",
       "426   pupper     \n",
       "431   pupper     \n",
       "438   pupper     \n",
       "441   pupper     \n",
       "444   NaN        \n",
       "447   pupper     \n",
       "...      ...     \n",
       "1562  pupper     \n",
       "1565  pupper     \n",
       "1576  pupper     \n",
       "1588  NaN        \n",
       "1590  pupper     \n",
       "1593  pupper     \n",
       "1604  pupper     \n",
       "1631  pupper     \n",
       "1635  pupper     \n",
       "1648  pupper     \n",
       "1675  pupper     \n",
       "1686  pupper     \n",
       "1705  pupper     \n",
       "1727  pupper     \n",
       "1741  pupper     \n",
       "1760  pupper     \n",
       "1764  pupper     \n",
       "1768  pupper     \n",
       "1797  pupper     \n",
       "1818  pupper     \n",
       "1835  pupper     \n",
       "1880  pupper     \n",
       "1900  pupper     \n",
       "1908  pupper     \n",
       "1912  pupper     \n",
       "1919  pupper     \n",
       "1939  pupper     \n",
       "1940  NaN        \n",
       "1945  pupper     \n",
       "1960  pupper     \n",
       "\n",
       "[232 rows x 2 columns]"
      ]
     },
     "execution_count": 55,
     "metadata": {},
     "output_type": "execute_result"
    }
   ],
   "source": [
    "df_clean[['text','stage_name']][df_clean.text.str.contains('pupper',flags=re.IGNORECASE)]"
   ]
  },
  {
   "cell_type": "markdown",
   "metadata": {},
   "source": [
    "Same for 'puppo'. The plural form of *puppo* was not identified."
   ]
  },
  {
   "cell_type": "code",
   "execution_count": 56,
   "metadata": {
    "scrolled": true
   },
   "outputs": [
    {
     "data": {
      "text/html": [
       "<div>\n",
       "<style scoped>\n",
       "    .dataframe tbody tr th:only-of-type {\n",
       "        vertical-align: middle;\n",
       "    }\n",
       "\n",
       "    .dataframe tbody tr th {\n",
       "        vertical-align: top;\n",
       "    }\n",
       "\n",
       "    .dataframe thead th {\n",
       "        text-align: right;\n",
       "    }\n",
       "</style>\n",
       "<table border=\"1\" class=\"dataframe\">\n",
       "  <thead>\n",
       "    <tr style=\"text-align: right;\">\n",
       "      <th></th>\n",
       "      <th>text</th>\n",
       "      <th>stage_name</th>\n",
       "    </tr>\n",
       "  </thead>\n",
       "  <tbody>\n",
       "    <tr>\n",
       "      <th>1179</th>\n",
       "      <td>This is Bayley. She fell asleep trying to escape her evil fence enclosure. 11/10 night night puppo</td>\n",
       "      <td>puppo</td>\n",
       "    </tr>\n",
       "    <tr>\n",
       "      <th>1209</th>\n",
       "      <td>This is Kilo. He cannot reach the snackum. Nifty tongue, but not nifty enough. 10/10 maybe one day puppo</td>\n",
       "      <td>puppo</td>\n",
       "    </tr>\n",
       "    <tr>\n",
       "      <th>1220</th>\n",
       "      <td>This is Abby. She got her face stuck in a glass. Churlish af. 9/10 rookie move puppo</td>\n",
       "      <td>puppo</td>\n",
       "    </tr>\n",
       "    <tr>\n",
       "      <th>1282</th>\n",
       "      <td>This is Cooper. He's just so damn happy. 10/10 what's your secret puppo?</td>\n",
       "      <td>puppo</td>\n",
       "    </tr>\n",
       "    <tr>\n",
       "      <th>1293</th>\n",
       "      <td>Hopefully this puppo on a swing will help get you through your Monday. 11/10 would push</td>\n",
       "      <td>puppo</td>\n",
       "    </tr>\n",
       "    <tr>\n",
       "      <th>1312</th>\n",
       "      <td>When ur older siblings get to play in the deep end but dad says ur not old enough. Maybe one day puppo. All 10/10</td>\n",
       "      <td>puppo</td>\n",
       "    </tr>\n",
       "    <tr>\n",
       "      <th>1456</th>\n",
       "      <td>I want to finally rate this iconic puppo who thinks the parade is all for him. 13/10 would absolutely attend</td>\n",
       "      <td>puppo</td>\n",
       "    </tr>\n",
       "    <tr>\n",
       "      <th>1491</th>\n",
       "      <td>This is Tonks. She is a service puppo. Can hear a caterpillar hiccup from 7 miles away. 13/10 would follow anywhere</td>\n",
       "      <td>puppo</td>\n",
       "    </tr>\n",
       "    <tr>\n",
       "      <th>1509</th>\n",
       "      <td>This is Betty. She's assisting with the dishes. Such a good puppo. 12/10 h*ckin helpful af</td>\n",
       "      <td>puppo</td>\n",
       "    </tr>\n",
       "    <tr>\n",
       "      <th>1524</th>\n",
       "      <td>Say hello to Lily. She's pupset that her costume doesn't fit as well as last year. 12/10 poor puppo</td>\n",
       "      <td>puppo</td>\n",
       "    </tr>\n",
       "    <tr>\n",
       "      <th>1570</th>\n",
       "      <td>This is Loki. He'll do your taxes for you. Can also make room in your budget for all the things you bought today. 12/10 what a puppo</td>\n",
       "      <td>puppo</td>\n",
       "    </tr>\n",
       "    <tr>\n",
       "      <th>1577</th>\n",
       "      <td>This is Diogi. He fell in the pool as soon as he was brought home. Clumsy puppo. 12/10 would pet until dry</td>\n",
       "      <td>puppo</td>\n",
       "    </tr>\n",
       "    <tr>\n",
       "      <th>1583</th>\n",
       "      <td>This is Duke. He is not a fan of the pupporazzi. 12/10</td>\n",
       "      <td>NaN</td>\n",
       "    </tr>\n",
       "    <tr>\n",
       "      <th>1662</th>\n",
       "      <td>This is Oliver. He has dreams of being a service puppo so he can help his owner. 13/10 selfless af\\n\\nmake it happen:\\n</td>\n",
       "      <td>puppo</td>\n",
       "    </tr>\n",
       "    <tr>\n",
       "      <th>1679</th>\n",
       "      <td>Here's a super supportive puppo participating in the Toronto  #WomensMarch today. 13/10</td>\n",
       "      <td>puppo</td>\n",
       "    </tr>\n",
       "    <tr>\n",
       "      <th>1689</th>\n",
       "      <td>Say hello to Pablo. He's one gorgeous puppo. A true 12/10. Click the link to see why Pablo requests your assistance\\n\\n</td>\n",
       "      <td>puppo</td>\n",
       "    </tr>\n",
       "    <tr>\n",
       "      <th>1691</th>\n",
       "      <td>Here's a very loving and accepting puppo. Appears to have read her Constitution well. 14/10 would pat head approvingly</td>\n",
       "      <td>puppo</td>\n",
       "    </tr>\n",
       "    <tr>\n",
       "      <th>1765</th>\n",
       "      <td>This is Lucy. She has a portrait of herself on her ear. Excellent for identification pupposes. 13/10 innovative af</td>\n",
       "      <td>NaN</td>\n",
       "    </tr>\n",
       "    <tr>\n",
       "      <th>1840</th>\n",
       "      <td>Here's a puppo participating in the #ScienceMarch. Cleverly disguising her own doggo agenda. 13/10 would keep the planet habitable for</td>\n",
       "      <td>puppo</td>\n",
       "    </tr>\n",
       "    <tr>\n",
       "      <th>1851</th>\n",
       "      <td>I have stumbled puppon a doggo painting party. They're looking to be the next Pupcasso or Puppollock. All 13/10 would put it on the fridge</td>\n",
       "      <td>doggo</td>\n",
       "    </tr>\n",
       "    <tr>\n",
       "      <th>1854</th>\n",
       "      <td>Sorry for the lack of posts today. I came home from school and had to spend quality time with my puppo. Her name is Zoey and she's 13/10</td>\n",
       "      <td>puppo</td>\n",
       "    </tr>\n",
       "    <tr>\n",
       "      <th>1881</th>\n",
       "      <td>This is Lili. She can't believe you betrayed her with bath time. Never looking you in the eye again. 12/10 would puppologize profusely</td>\n",
       "      <td>NaN</td>\n",
       "    </tr>\n",
       "    <tr>\n",
       "      <th>1883</th>\n",
       "      <td>This is Shikha. She just watched you drop a skittle on the ground and still eat it. Could not be less impressed. 12/10 superior puppo</td>\n",
       "      <td>puppo</td>\n",
       "    </tr>\n",
       "    <tr>\n",
       "      <th>1901</th>\n",
       "      <td>Say hello to Lassie. She's celebrating #PrideMonth by being a splendid mix of astute and adorable. Proudly supupporting her owner. 13/10</td>\n",
       "      <td>NaN</td>\n",
       "    </tr>\n",
       "    <tr>\n",
       "      <th>1910</th>\n",
       "      <td>This is Sebastian. He can't see all the colors of the rainbow, but he can see that this flag makes his human happy. 13/10 #PrideMonth puppo</td>\n",
       "      <td>puppo</td>\n",
       "    </tr>\n",
       "    <tr>\n",
       "      <th>1917</th>\n",
       "      <td>Meet Venti, a seemingly caffeinated puppoccino. She was just informed the weekend would include walks, pats and scritches. 13/10 much excite</td>\n",
       "      <td>NaN</td>\n",
       "    </tr>\n",
       "    <tr>\n",
       "      <th>1926</th>\n",
       "      <td>This is Snoopy. He's a proud #PrideMonthPuppo. Impeccable handwriting for not having thumbs. 13/10 would love back #PrideMonth</td>\n",
       "      <td>puppo</td>\n",
       "    </tr>\n",
       "    <tr>\n",
       "      <th>1974</th>\n",
       "      <td>This is Stuart. He's sporting his favorite fanny pack. Secretly filled with bones only. 13/10 puppared puppo #BarkWeek</td>\n",
       "      <td>puppo</td>\n",
       "    </tr>\n",
       "    <tr>\n",
       "      <th>1976</th>\n",
       "      <td>Here's a puppo that seems to be on the fence about something haha no but seriously someone help her. 13/10</td>\n",
       "      <td>puppo</td>\n",
       "    </tr>\n",
       "  </tbody>\n",
       "</table>\n",
       "</div>"
      ],
      "text/plain": [
       "                                                                                                                                              text  \\\n",
       "1179  This is Bayley. She fell asleep trying to escape her evil fence enclosure. 11/10 night night puppo                                             \n",
       "1209  This is Kilo. He cannot reach the snackum. Nifty tongue, but not nifty enough. 10/10 maybe one day puppo                                       \n",
       "1220  This is Abby. She got her face stuck in a glass. Churlish af. 9/10 rookie move puppo                                                           \n",
       "1282  This is Cooper. He's just so damn happy. 10/10 what's your secret puppo?                                                                       \n",
       "1293  Hopefully this puppo on a swing will help get you through your Monday. 11/10 would push                                                        \n",
       "1312  When ur older siblings get to play in the deep end but dad says ur not old enough. Maybe one day puppo. All 10/10                              \n",
       "1456  I want to finally rate this iconic puppo who thinks the parade is all for him. 13/10 would absolutely attend                                   \n",
       "1491  This is Tonks. She is a service puppo. Can hear a caterpillar hiccup from 7 miles away. 13/10 would follow anywhere                            \n",
       "1509  This is Betty. She's assisting with the dishes. Such a good puppo. 12/10 h*ckin helpful af                                                     \n",
       "1524  Say hello to Lily. She's pupset that her costume doesn't fit as well as last year. 12/10 poor puppo                                            \n",
       "1570  This is Loki. He'll do your taxes for you. Can also make room in your budget for all the things you bought today. 12/10 what a puppo           \n",
       "1577  This is Diogi. He fell in the pool as soon as he was brought home. Clumsy puppo. 12/10 would pet until dry                                     \n",
       "1583  This is Duke. He is not a fan of the pupporazzi. 12/10                                                                                         \n",
       "1662  This is Oliver. He has dreams of being a service puppo so he can help his owner. 13/10 selfless af\\n\\nmake it happen:\\n                        \n",
       "1679  Here's a super supportive puppo participating in the Toronto  #WomensMarch today. 13/10                                                        \n",
       "1689  Say hello to Pablo. He's one gorgeous puppo. A true 12/10. Click the link to see why Pablo requests your assistance\\n\\n                        \n",
       "1691  Here's a very loving and accepting puppo. Appears to have read her Constitution well. 14/10 would pat head approvingly                         \n",
       "1765  This is Lucy. She has a portrait of herself on her ear. Excellent for identification pupposes. 13/10 innovative af                             \n",
       "1840  Here's a puppo participating in the #ScienceMarch. Cleverly disguising her own doggo agenda. 13/10 would keep the planet habitable for         \n",
       "1851  I have stumbled puppon a doggo painting party. They're looking to be the next Pupcasso or Puppollock. All 13/10 would put it on the fridge     \n",
       "1854  Sorry for the lack of posts today. I came home from school and had to spend quality time with my puppo. Her name is Zoey and she's 13/10       \n",
       "1881  This is Lili. She can't believe you betrayed her with bath time. Never looking you in the eye again. 12/10 would puppologize profusely         \n",
       "1883  This is Shikha. She just watched you drop a skittle on the ground and still eat it. Could not be less impressed. 12/10 superior puppo          \n",
       "1901  Say hello to Lassie. She's celebrating #PrideMonth by being a splendid mix of astute and adorable. Proudly supupporting her owner. 13/10       \n",
       "1910  This is Sebastian. He can't see all the colors of the rainbow, but he can see that this flag makes his human happy. 13/10 #PrideMonth puppo    \n",
       "1917  Meet Venti, a seemingly caffeinated puppoccino. She was just informed the weekend would include walks, pats and scritches. 13/10 much excite   \n",
       "1926  This is Snoopy. He's a proud #PrideMonthPuppo. Impeccable handwriting for not having thumbs. 13/10 would love back #PrideMonth                 \n",
       "1974  This is Stuart. He's sporting his favorite fanny pack. Secretly filled with bones only. 13/10 puppared puppo #BarkWeek                         \n",
       "1976  Here's a puppo that seems to be on the fence about something haha no but seriously someone help her. 13/10                                     \n",
       "\n",
       "     stage_name  \n",
       "1179  puppo      \n",
       "1209  puppo      \n",
       "1220  puppo      \n",
       "1282  puppo      \n",
       "1293  puppo      \n",
       "1312  puppo      \n",
       "1456  puppo      \n",
       "1491  puppo      \n",
       "1509  puppo      \n",
       "1524  puppo      \n",
       "1570  puppo      \n",
       "1577  puppo      \n",
       "1583  NaN        \n",
       "1662  puppo      \n",
       "1679  puppo      \n",
       "1689  puppo      \n",
       "1691  puppo      \n",
       "1765  NaN        \n",
       "1840  puppo      \n",
       "1851  doggo      \n",
       "1854  puppo      \n",
       "1881  NaN        \n",
       "1883  puppo      \n",
       "1901  NaN        \n",
       "1910  puppo      \n",
       "1917  NaN        \n",
       "1926  puppo      \n",
       "1974  puppo      \n",
       "1976  puppo      "
      ]
     },
     "execution_count": 56,
     "metadata": {},
     "output_type": "execute_result"
    }
   ],
   "source": [
    "df_clean[['text','stage_name']][df_clean.text.str.contains('puppo',flags=re.IGNORECASE)]"
   ]
  },
  {
   "cell_type": "markdown",
   "metadata": {},
   "source": [
    "##### Code"
   ]
  },
  {
   "cell_type": "code",
   "execution_count": 57,
   "metadata": {},
   "outputs": [
    {
     "name": "stderr",
     "output_type": "stream",
     "text": [
      "/opt/conda/lib/python3.6/site-packages/ipykernel_launcher.py:1: SettingWithCopyWarning: \n",
      "A value is trying to be set on a copy of a slice from a DataFrame\n",
      "\n",
      "See the caveats in the documentation: http://pandas.pydata.org/pandas-docs/stable/indexing.html#indexing-view-versus-copy\n",
      "  \"\"\"Entry point for launching an IPython kernel.\n",
      "/opt/conda/lib/python3.6/site-packages/ipykernel_launcher.py:2: SettingWithCopyWarning: \n",
      "A value is trying to be set on a copy of a slice from a DataFrame\n",
      "\n",
      "See the caveats in the documentation: http://pandas.pydata.org/pandas-docs/stable/indexing.html#indexing-view-versus-copy\n",
      "  \n",
      "/opt/conda/lib/python3.6/site-packages/ipykernel_launcher.py:3: SettingWithCopyWarning: \n",
      "A value is trying to be set on a copy of a slice from a DataFrame\n",
      "\n",
      "See the caveats in the documentation: http://pandas.pydata.org/pandas-docs/stable/indexing.html#indexing-view-versus-copy\n",
      "  This is separate from the ipykernel package so we can avoid doing imports until\n",
      "/opt/conda/lib/python3.6/site-packages/ipykernel_launcher.py:4: SettingWithCopyWarning: \n",
      "A value is trying to be set on a copy of a slice from a DataFrame\n",
      "\n",
      "See the caveats in the documentation: http://pandas.pydata.org/pandas-docs/stable/indexing.html#indexing-view-versus-copy\n",
      "  after removing the cwd from sys.path.\n"
     ]
    }
   ],
   "source": [
    "df_clean.stage_name[df_clean.text.str.contains('floof',flags=re.IGNORECASE)] = 'floofer'\n",
    "df_clean.stage_name[df_clean.text.str.contains('doggo',flags=re.IGNORECASE)] = 'doggo'\n",
    "df_clean.stage_name[df_clean.text.str.contains('pupper',flags=re.IGNORECASE)] = 'pupper'\n",
    "df_clean.stage_name[df_clean.text.str.contains('puppo',flags=re.IGNORECASE)] = 'puppo'"
   ]
  },
  {
   "cell_type": "markdown",
   "metadata": {},
   "source": [
    "##### Test"
   ]
  },
  {
   "cell_type": "markdown",
   "metadata": {},
   "source": [
    "64 more stages of dog have been identified after the cleaning."
   ]
  },
  {
   "cell_type": "code",
   "execution_count": 58,
   "metadata": {},
   "outputs": [
    {
     "data": {
      "text/plain": [
       "pupper     232\n",
       "doggo      69 \n",
       "floofer    34 \n",
       "puppo      29 \n",
       "Name: stage_name, dtype: int64"
      ]
     },
     "execution_count": 58,
     "metadata": {},
     "output_type": "execute_result"
    }
   ],
   "source": [
    "df_clean.stage_name.value_counts()"
   ]
  },
  {
   "cell_type": "markdown",
   "metadata": {},
   "source": [
    "### String format to DateTime format for *timestamp* column\n",
    "##### Define\n",
    "In *timestamp* column, the last '*+0000*' is useless and the cell should be converted to datetime format from string format."
   ]
  },
  {
   "cell_type": "markdown",
   "metadata": {},
   "source": [
    "##### Code"
   ]
  },
  {
   "cell_type": "code",
   "execution_count": 59,
   "metadata": {
    "scrolled": true
   },
   "outputs": [],
   "source": [
    "df_clean_datetime = df_clean.timestamp.str.split('+')\n",
    "df_clean_datetime_first = df_clean_datetime.str.slice(stop=1)\n",
    "df_clean_datetime = df_clean_datetime_first.apply(''.join)\n",
    "\n",
    "df_clean.timestamp = pd.to_datetime(df_clean_datetime, format='%Y-%m-%d %H:%M:%S ')"
   ]
  },
  {
   "cell_type": "markdown",
   "metadata": {},
   "source": [
    "##### Test"
   ]
  },
  {
   "cell_type": "code",
   "execution_count": 60,
   "metadata": {
    "scrolled": true
   },
   "outputs": [
    {
     "data": {
      "text/plain": [
       "0      2015-11-15 22:32:08\n",
       "1      2015-11-15 23:05:30\n",
       "2      2015-11-15 23:21:54\n",
       "3      2015-11-16 00:04:52\n",
       "4      2015-11-16 00:24:50\n",
       "5      2015-11-16 00:30:50\n",
       "6      2015-11-16 00:35:11\n",
       "7      2015-11-16 00:49:46\n",
       "8      2015-11-16 00:55:59\n",
       "9      2015-11-16 01:01:59\n",
       "10     2015-11-16 01:22:45\n",
       "11     2015-11-16 01:52:02\n",
       "12     2015-11-16 01:59:36\n",
       "13     2015-11-16 02:38:37\n",
       "14     2015-11-16 03:22:39\n",
       "15     2015-11-16 03:44:34\n",
       "16     2015-11-16 03:55:04\n",
       "17     2015-11-16 04:02:55\n",
       "18     2015-11-16 14:57:41\n",
       "19     2015-11-16 15:14:19\n",
       "20     2015-11-16 16:11:11\n",
       "21     2015-11-16 16:37:02\n",
       "22     2015-11-16 19:31:45\n",
       "23     2015-11-16 20:01:42\n",
       "24     2015-11-16 20:32:58\n",
       "25     2015-11-16 21:10:36\n",
       "26     2015-11-16 21:54:18\n",
       "27     2015-11-16 23:23:41\n",
       "28     2015-11-17 00:06:54\n",
       "29     2015-11-17 00:24:19\n",
       "               ...        \n",
       "1959   2017-07-15 16:17:19\n",
       "1960   2017-07-15 23:25:31\n",
       "1961   2017-07-16 20:14:00\n",
       "1962   2017-07-16 23:58:41\n",
       "1963   2017-07-17 16:17:36\n",
       "1964   2017-07-18 00:07:08\n",
       "1965   2017-07-18 16:08:03\n",
       "1966   2017-07-19 00:47:34\n",
       "1967   2017-07-19 03:39:09\n",
       "1968   2017-07-19 16:06:48\n",
       "1969   2017-07-20 16:49:33\n",
       "1970   2017-07-22 00:23:06\n",
       "1971   2017-07-22 16:56:37\n",
       "1972   2017-07-23 00:22:39\n",
       "1973   2017-07-24 00:19:32\n",
       "1974   2017-07-24 17:02:04\n",
       "1975   2017-07-25 00:10:02\n",
       "1976   2017-07-25 01:55:32\n",
       "1977   2017-07-25 16:11:53\n",
       "1978   2017-07-26 00:31:25\n",
       "1979   2017-07-26 15:59:51\n",
       "1980   2017-07-27 16:25:51\n",
       "1981   2017-07-28 00:22:40\n",
       "1982   2017-07-28 16:27:12\n",
       "1983   2017-07-29 00:08:17\n",
       "1984   2017-07-29 16:00:24\n",
       "1985   2017-07-30 15:58:51\n",
       "1986   2017-07-31 00:18:03\n",
       "1987   2017-08-01 00:17:27\n",
       "1988   2017-08-01 16:23:56\n",
       "Name: timestamp, Length: 1989, dtype: datetime64[ns]"
      ]
     },
     "execution_count": 60,
     "metadata": {},
     "output_type": "execute_result"
    }
   ],
   "source": [
    "df_clean.timestamp"
   ]
  },
  {
   "cell_type": "markdown",
   "metadata": {},
   "source": [
    "## Storing"
   ]
  },
  {
   "cell_type": "markdown",
   "metadata": {},
   "source": [
    "Check the format of each column is correct and then save the cleaned data."
   ]
  },
  {
   "cell_type": "code",
   "execution_count": 61,
   "metadata": {
    "scrolled": true
   },
   "outputs": [
    {
     "name": "stdout",
     "output_type": "stream",
     "text": [
      "<class 'pandas.core.frame.DataFrame'>\n",
      "Int64Index: 1989 entries, 0 to 1988\n",
      "Data columns (total 24 columns):\n",
      "tweet_id                 1989 non-null int64\n",
      "jpg_url                  1989 non-null object\n",
      "img_num                  1989 non-null int64\n",
      "p1                       1989 non-null object\n",
      "p1_conf                  1989 non-null float64\n",
      "p1_dog                   1989 non-null bool\n",
      "p2                       1989 non-null object\n",
      "p2_conf                  1989 non-null float64\n",
      "p2_dog                   1989 non-null bool\n",
      "p3                       1989 non-null object\n",
      "p3_conf                  1989 non-null float64\n",
      "p3_dog                   1989 non-null bool\n",
      "in_reply_to_status_id    22 non-null float64\n",
      "in_reply_to_user_id      22 non-null float64\n",
      "timestamp                1989 non-null datetime64[ns]\n",
      "source                   1989 non-null object\n",
      "text                     1989 non-null object\n",
      "expanded_urls            1989 non-null object\n",
      "rating_numerator         1988 non-null float64\n",
      "rating_denominator       1988 non-null float64\n",
      "name                     1447 non-null object\n",
      "retweet_count            1989 non-null int64\n",
      "favorite_count           1989 non-null int64\n",
      "stage_name               364 non-null object\n",
      "dtypes: bool(3), datetime64[ns](1), float64(7), int64(4), object(9)\n",
      "memory usage: 427.7+ KB\n"
     ]
    }
   ],
   "source": [
    "df_clean.info()"
   ]
  },
  {
   "cell_type": "code",
   "execution_count": 62,
   "metadata": {},
   "outputs": [],
   "source": [
    "df_clean.to_csv('twitter_archive_master.csv')"
   ]
  },
  {
   "cell_type": "markdown",
   "metadata": {},
   "source": [
    "## Analysis and Visualization"
   ]
  },
  {
   "cell_type": "markdown",
   "metadata": {},
   "source": [
    "> 1. First, the one thing I want to check is if the *retweet_count* is correlated with the *favorite_count* in general. I know that it might be true for any tweets but it is better to be analyzed first to see if it is actually true.  \n",
    "<br>In a result, the Pearson's correlation coefficient is generally high and it means these two variables are highly correlated. It can also be observed from the scatter plot below. Also, the linear regression results showed that the slope of the regression is around 2.4 and it is statistically significant.\n"
   ]
  },
  {
   "cell_type": "code",
   "execution_count": 63,
   "metadata": {
    "scrolled": true
   },
   "outputs": [
    {
     "name": "stderr",
     "output_type": "stream",
     "text": [
      "/opt/conda/lib/python3.6/site-packages/statsmodels/compat/pandas.py:56: FutureWarning: The pandas.core.datetools module is deprecated and will be removed in a future version. Please use the pandas.tseries module instead.\n",
      "  from pandas.core import datetools\n"
     ]
    },
    {
     "data": {
      "text/html": [
       "<table class=\"simpletable\">\n",
       "<tr>\n",
       "        <td>Model:</td>               <td>OLS</td>         <td>Adj. R-squared:</td>      <td>0.833</td>  \n",
       "</tr>\n",
       "<tr>\n",
       "  <td>Dependent Variable:</td>  <td>favorite_count</td>         <td>AIC:</td>         <td>39520.9817</td>\n",
       "</tr>\n",
       "<tr>\n",
       "         <td>Date:</td>        <td>2020-05-25 00:08</td>        <td>BIC:</td>         <td>39532.1725</td>\n",
       "</tr>\n",
       "<tr>\n",
       "   <td>No. Observations:</td>        <td>1989</td>         <td>Log-Likelihood:</td>     <td>-19758.</td> \n",
       "</tr>\n",
       "<tr>\n",
       "       <td>Df Model:</td>              <td>1</td>           <td>F-statistic:</td>        <td>9894.</td>  \n",
       "</tr>\n",
       "<tr>\n",
       "     <td>Df Residuals:</td>          <td>1987</td>       <td>Prob (F-statistic):</td>    <td>0.00</td>   \n",
       "</tr>\n",
       "<tr>\n",
       "      <td>R-squared:</td>            <td>0.833</td>            <td>Scale:</td>        <td>2.4913e+07</td>\n",
       "</tr>\n",
       "</table>\n",
       "<table class=\"simpletable\">\n",
       "<tr>\n",
       "        <td></td>          <th>Coef.</th>   <th>Std.Err.</th>    <th>t</th>     <th>P>|t|</th>  <th>[0.025</th>    <th>0.975]</th>  \n",
       "</tr>\n",
       "<tr>\n",
       "  <th>const</th>         <td>2295.9886</td> <td>130.0188</td> <td>17.6589</td> <td>0.0000</td> <td>2041.0011</td> <td>2550.9760</td>\n",
       "</tr>\n",
       "<tr>\n",
       "  <th>retweet_count</th>  <td>2.3851</td>    <td>0.0240</td>  <td>99.4692</td> <td>0.0000</td>  <td>2.3381</td>    <td>2.4321</td>  \n",
       "</tr>\n",
       "</table>\n",
       "<table class=\"simpletable\">\n",
       "<tr>\n",
       "     <td>Omnibus:</td>    <td>539.362</td>  <td>Durbin-Watson:</td>     <td>0.769</td>  \n",
       "</tr>\n",
       "<tr>\n",
       "  <td>Prob(Omnibus):</td>  <td>0.000</td>  <td>Jarque-Bera (JB):</td> <td>38996.209</td>\n",
       "</tr>\n",
       "<tr>\n",
       "       <td>Skew:</td>     <td>-0.261</td>      <td>Prob(JB):</td>       <td>0.000</td>  \n",
       "</tr>\n",
       "<tr>\n",
       "     <td>Kurtosis:</td>   <td>24.686</td>   <td>Condition No.:</td>     <td>6299</td>   \n",
       "</tr>\n",
       "</table>"
      ],
      "text/plain": [
       "<class 'statsmodels.iolib.summary2.Summary'>\n",
       "\"\"\"\n",
       "                  Results: Ordinary least squares\n",
       "===================================================================\n",
       "Model:              OLS              Adj. R-squared:     0.833     \n",
       "Dependent Variable: favorite_count   AIC:                39520.9817\n",
       "Date:               2020-05-25 00:08 BIC:                39532.1725\n",
       "No. Observations:   1989             Log-Likelihood:     -19758.   \n",
       "Df Model:           1                F-statistic:        9894.     \n",
       "Df Residuals:       1987             Prob (F-statistic): 0.00      \n",
       "R-squared:          0.833            Scale:              2.4913e+07\n",
       "-------------------------------------------------------------------\n",
       "                Coef.   Std.Err.    t    P>|t|    [0.025    0.975] \n",
       "-------------------------------------------------------------------\n",
       "const         2295.9886 130.0188 17.6589 0.0000 2041.0011 2550.9760\n",
       "retweet_count    2.3851   0.0240 99.4692 0.0000    2.3381    2.4321\n",
       "-------------------------------------------------------------------\n",
       "Omnibus:              539.362      Durbin-Watson:         0.769    \n",
       "Prob(Omnibus):        0.000        Jarque-Bera (JB):      38996.209\n",
       "Skew:                 -0.261       Prob(JB):              0.000    \n",
       "Kurtosis:             24.686       Condition No.:         6299     \n",
       "===================================================================\n",
       "* The condition number is large (6e+03). This might indicate\n",
       "strong multicollinearity or other numerical problems.\n",
       "\"\"\""
      ]
     },
     "execution_count": 63,
     "metadata": {},
     "output_type": "execute_result"
    }
   ],
   "source": [
    "import matplotlib.pyplot as plt\n",
    "from scipy import stats\n",
    "from sklearn import linear_model\n",
    "from sklearn.linear_model import LinearRegression\n",
    "import statsmodels.api as sm\n",
    "\n",
    "df = df_clean.copy()\n",
    "\n",
    "X = sm.add_constant(df.retweet_count)\n",
    "linear_mod = sm.OLS(df.favorite_count, X)\n",
    "results = linear_mod.fit()\n",
    "b, m = results.params.const, results.params.retweet_count\n",
    "results.summary2()"
   ]
  },
  {
   "cell_type": "code",
   "execution_count": 64,
   "metadata": {
    "scrolled": false
   },
   "outputs": [
    {
     "data": {
      "image/png": "[encoded data removed]",
      "text/plain": [
       "<matplotlib.figure.Figure at 0x7fc5a4375dd8>"
      ]
     },
     "metadata": {
      "needs_background": "light"
     },
     "output_type": "display_data"
    }
   ],
   "source": [
    "#visualize the scatter plot\n",
    "plt.scatter(df.retweet_count, df.favorite_count)\n",
    "x = np.arange(80000)\n",
    "plt.plot(x, b+m*x, 'r-.')\n",
    "plt.xlabel('retweet count')\n",
    "plt.ylabel('favorite count')\n",
    "plt.show()"
   ]
  },
  {
   "cell_type": "markdown",
   "metadata": {},
   "source": [
    "> 2. Next I want to know that if the retweet number or favorite number correlated with the time stamp of the tweet. This is because generally the account gets more and more followers over time so the retweet number and favorite number could increase over time regardless of the content of the tweets.  \n",
    "<br> From the OLS linear regression statistics, both retweet count and favorite count are correlated with timestamp and the slopes are statistically significant. However, the correlation coefficient R-squared is poor for retweet count (0.166) as compared with favorite count (0.432). Also, we could see more clearly in the graphs below showing that the favorite count tends to have a better correlation with the increasing of time. "
   ]
  },
  {
   "cell_type": "code",
   "execution_count": 65,
   "metadata": {
    "scrolled": true
   },
   "outputs": [
    {
     "data": {
      "text/html": [
       "<table class=\"simpletable\">\n",
       "<tr>\n",
       "        <td>Model:</td>               <td>OLS</td>         <td>Adj. R-squared:</td>      <td>0.165</td>  \n",
       "</tr>\n",
       "<tr>\n",
       "  <td>Dependent Variable:</td>   <td>retweet_count</td>         <td>AIC:</td>         <td>38896.0646</td>\n",
       "</tr>\n",
       "<tr>\n",
       "         <td>Date:</td>        <td>2020-05-25 00:08</td>        <td>BIC:</td>         <td>38907.2554</td>\n",
       "</tr>\n",
       "<tr>\n",
       "   <td>No. Observations:</td>        <td>1989</td>         <td>Log-Likelihood:</td>     <td>-19446.</td> \n",
       "</tr>\n",
       "<tr>\n",
       "       <td>Df Model:</td>              <td>1</td>           <td>F-statistic:</td>        <td>394.3</td>  \n",
       "</tr>\n",
       "<tr>\n",
       "     <td>Df Residuals:</td>          <td>1987</td>       <td>Prob (F-statistic):</td>  <td>3.47e-80</td> \n",
       "</tr>\n",
       "<tr>\n",
       "      <td>R-squared:</td>            <td>0.166</td>            <td>Scale:</td>        <td>1.8196e+07</td>\n",
       "</tr>\n",
       "</table>\n",
       "<table class=\"simpletable\">\n",
       "<tr>\n",
       "    <td></td>      <th>Coef.</th>  <th>Std.Err.</th>    <th>t</th>     <th>P>|t|</th>  <th>[0.025</th>   <th>0.975]</th>  \n",
       "</tr>\n",
       "<tr>\n",
       "  <th>const</th> <td>797.7198</td> <td>137.5265</td> <td>5.8005</td>  <td>0.0000</td> <td>528.0086</td> <td>1067.4311</td>\n",
       "</tr>\n",
       "<tr>\n",
       "  <th>x1</th>     <td>0.4248</td>   <td>0.0214</td>  <td>19.8565</td> <td>0.0000</td>  <td>0.3828</td>   <td>0.4667</td>  \n",
       "</tr>\n",
       "</table>\n",
       "<table class=\"simpletable\">\n",
       "<tr>\n",
       "     <td>Omnibus:</td>    <td>2736.591</td>  <td>Durbin-Watson:</td>      <td>1.965</td>  \n",
       "</tr>\n",
       "<tr>\n",
       "  <td>Prob(Omnibus):</td>   <td>0.000</td>  <td>Jarque-Bera (JB):</td> <td>715759.846</td>\n",
       "</tr>\n",
       "<tr>\n",
       "       <td>Skew:</td>       <td>7.748</td>      <td>Prob(JB):</td>        <td>0.000</td>  \n",
       "</tr>\n",
       "<tr>\n",
       "     <td>Kurtosis:</td>    <td>94.632</td>   <td>Condition No.:</td>      <td>9243</td>   \n",
       "</tr>\n",
       "</table>"
      ],
      "text/plain": [
       "<class 'statsmodels.iolib.summary2.Summary'>\n",
       "\"\"\"\n",
       "                  Results: Ordinary least squares\n",
       "===================================================================\n",
       "Model:              OLS              Adj. R-squared:     0.165     \n",
       "Dependent Variable: retweet_count    AIC:                38896.0646\n",
       "Date:               2020-05-25 00:08 BIC:                38907.2554\n",
       "No. Observations:   1989             Log-Likelihood:     -19446.   \n",
       "Df Model:           1                F-statistic:        394.3     \n",
       "Df Residuals:       1987             Prob (F-statistic): 3.47e-80  \n",
       "R-squared:          0.166            Scale:              1.8196e+07\n",
       "---------------------------------------------------------------------\n",
       "         Coef.     Std.Err.      t      P>|t|     [0.025      0.975] \n",
       "---------------------------------------------------------------------\n",
       "const   797.7198   137.5265    5.8005   0.0000   528.0086   1067.4311\n",
       "x1        0.4248     0.0214   19.8565   0.0000     0.3828      0.4667\n",
       "-------------------------------------------------------------------\n",
       "Omnibus:            2736.591      Durbin-Watson:         1.965     \n",
       "Prob(Omnibus):      0.000         Jarque-Bera (JB):      715759.846\n",
       "Skew:               7.748         Prob(JB):              0.000     \n",
       "Kurtosis:           94.632        Condition No.:         9243      \n",
       "===================================================================\n",
       "* The condition number is large (9e+03). This might indicate\n",
       "strong multicollinearity or other numerical problems.\n",
       "\"\"\""
      ]
     },
     "execution_count": 65,
     "metadata": {},
     "output_type": "execute_result"
    }
   ],
   "source": [
    "from datetime import datetime\n",
    "\n",
    "#change the type of the column from datetime to timestamp. Also note that the datetime uses nano-second as the unit, \n",
    "#so I need to convert it to hours because the whole range of time is around 2 years and minutes and seconds seemed too precise.\n",
    "\n",
    "timestamp = df.timestamp.values.astype(np.int64)//10**9//60//60\n",
    "timestamp = timestamp - timestamp[0]\n",
    "x_time = sm.add_constant(timestamp)\n",
    "\n",
    "# check linear regression statistics of timestamp with retweet count\n",
    "linear_mod_2 = sm.OLS(df.retweet_count, x_time)\n",
    "results_2 = linear_mod_2.fit()\n",
    "b2, m2 = results_2.params.const, results_2.params.x1\n",
    "results_2.summary2()"
   ]
  },
  {
   "cell_type": "code",
   "execution_count": 66,
   "metadata": {
    "scrolled": true
   },
   "outputs": [
    {
     "data": {
      "text/html": [
       "<table class=\"simpletable\">\n",
       "<tr>\n",
       "        <td>Model:</td>               <td>OLS</td>         <td>Adj. R-squared:</td>      <td>0.432</td>  \n",
       "</tr>\n",
       "<tr>\n",
       "  <td>Dependent Variable:</td>  <td>favorite_count</td>         <td>AIC:</td>         <td>41953.2330</td>\n",
       "</tr>\n",
       "<tr>\n",
       "         <td>Date:</td>        <td>2020-05-25 00:08</td>        <td>BIC:</td>         <td>41964.4238</td>\n",
       "</tr>\n",
       "<tr>\n",
       "   <td>No. Observations:</td>        <td>1989</td>         <td>Log-Likelihood:</td>     <td>-20975.</td> \n",
       "</tr>\n",
       "<tr>\n",
       "       <td>Df Model:</td>              <td>1</td>           <td>F-statistic:</td>        <td>1511.</td>  \n",
       "</tr>\n",
       "<tr>\n",
       "     <td>Df Residuals:</td>          <td>1987</td>       <td>Prob (F-statistic):</td>  <td>2.81e-246</td>\n",
       "</tr>\n",
       "<tr>\n",
       "      <td>R-squared:</td>            <td>0.432</td>            <td>Scale:</td>        <td>8.4625e+07</td>\n",
       "</tr>\n",
       "</table>\n",
       "<table class=\"simpletable\">\n",
       "<tr>\n",
       "    <td></td>      <th>Coef.</th>  <th>Std.Err.</th>    <th>t</th>     <th>P>|t|</th> <th>[0.025</th>   <th>0.975]</th>  \n",
       "</tr>\n",
       "<tr>\n",
       "  <th>const</th> <td>595.6355</td> <td>296.5855</td> <td>2.0083</td>  <td>0.0447</td> <td>13.9843</td> <td>1177.2867</td>\n",
       "</tr>\n",
       "<tr>\n",
       "  <th>x1</th>     <td>1.7932</td>   <td>0.0461</td>  <td>38.8674</td> <td>0.0000</td> <td>1.7027</td>   <td>1.8837</td>  \n",
       "</tr>\n",
       "</table>\n",
       "<table class=\"simpletable\">\n",
       "<tr>\n",
       "     <td>Omnibus:</td>    <td>2182.054</td>  <td>Durbin-Watson:</td>      <td>1.877</td>  \n",
       "</tr>\n",
       "<tr>\n",
       "  <td>Prob(Omnibus):</td>   <td>0.000</td>  <td>Jarque-Bera (JB):</td> <td>196965.995</td>\n",
       "</tr>\n",
       "<tr>\n",
       "       <td>Skew:</td>       <td>5.436</td>      <td>Prob(JB):</td>        <td>0.000</td>  \n",
       "</tr>\n",
       "<tr>\n",
       "     <td>Kurtosis:</td>    <td>50.523</td>   <td>Condition No.:</td>      <td>9243</td>   \n",
       "</tr>\n",
       "</table>"
      ],
      "text/plain": [
       "<class 'statsmodels.iolib.summary2.Summary'>\n",
       "\"\"\"\n",
       "                  Results: Ordinary least squares\n",
       "===================================================================\n",
       "Model:              OLS              Adj. R-squared:     0.432     \n",
       "Dependent Variable: favorite_count   AIC:                41953.2330\n",
       "Date:               2020-05-25 00:08 BIC:                41964.4238\n",
       "No. Observations:   1989             Log-Likelihood:     -20975.   \n",
       "Df Model:           1                F-statistic:        1511.     \n",
       "Df Residuals:       1987             Prob (F-statistic): 2.81e-246 \n",
       "R-squared:          0.432            Scale:              8.4625e+07\n",
       "---------------------------------------------------------------------\n",
       "          Coef.     Std.Err.      t      P>|t|     [0.025     0.975] \n",
       "---------------------------------------------------------------------\n",
       "const    595.6355   296.5855    2.0083   0.0447   13.9843   1177.2867\n",
       "x1         1.7932     0.0461   38.8674   0.0000    1.7027      1.8837\n",
       "-------------------------------------------------------------------\n",
       "Omnibus:            2182.054      Durbin-Watson:         1.877     \n",
       "Prob(Omnibus):      0.000         Jarque-Bera (JB):      196965.995\n",
       "Skew:               5.436         Prob(JB):              0.000     \n",
       "Kurtosis:           50.523        Condition No.:         9243      \n",
       "===================================================================\n",
       "* The condition number is large (9e+03). This might indicate\n",
       "strong multicollinearity or other numerical problems.\n",
       "\"\"\""
      ]
     },
     "execution_count": 66,
     "metadata": {},
     "output_type": "execute_result"
    }
   ],
   "source": [
    "# check linear regression statistics of timestamp with favorite count\n",
    "linear_mod_3 = sm.OLS(df.favorite_count, x_time)\n",
    "results_3 = linear_mod_3.fit()\n",
    "b3, m3 = results_3.params.const, results_3.params.x1\n",
    "results_3.summary2()"
   ]
  },
  {
   "cell_type": "code",
   "execution_count": 67,
   "metadata": {},
   "outputs": [
    {
     "data": {
      "image/png": "[encoded data removed]",
      "text/plain": [
       "<matplotlib.figure.Figure at 0x7fc5a43750b8>"
      ]
     },
     "metadata": {
      "needs_background": "light"
     },
     "output_type": "display_data"
    }
   ],
   "source": [
    "# Then show the scatter plot for both retweet count and favorite count and the corresponding regression lines.\n",
    "fig = plt.figure(figsize=(6,8), dpi = 100)\n",
    "ax1 = fig.add_subplot(2, 1, 1)\n",
    "ax2 = fig.add_subplot(2, 1, 2)\n",
    "x2 = np.arange(14900)\n",
    "\n",
    "ax1.scatter(timestamp,df.retweet_count, c='g', label='retweet', marker='.', linewidths=.5)\n",
    "ax1.plot(x2, b2+m2*x2, 'r-.', linewidth = 2)\n",
    "ax1.set_xlabel('TimeStamp from start [hr]')\n",
    "ax1.set_ylabel('Retweet count')\n",
    "\n",
    "ax2.scatter(timestamp, df.favorite_count, c='b', label='favorite', marker='.', linewidths=.5)\n",
    "ax2.plot(x2, b3+m3*x2, 'r-.', linewidth = 2)\n",
    "ax2.set_xlabel('TimeStamp from start [hr]')\n",
    "ax2.set_ylabel('Favorite count')\n",
    "\n",
    "plt.show()"
   ]
  },
  {
   "cell_type": "markdown",
   "metadata": {},
   "source": [
    "> 3. Considering the image result as the label of whether or not a dog is shown in the picture, a logistic regression could be implemented to see which parameter is good to predict whether or not it is a dog. I tried three parameters, rating (*rating_numerator/rating_denominator*), *retweet_count* and *favorite_count*.  \n",
    "<br> From the result, only the *favorite_count* is a significant indicator to predict whether there is a dog in the picture with p-value of 0.0043, while others are all over 0.05. "
   ]
  },
  {
   "cell_type": "code",
   "execution_count": 84,
   "metadata": {},
   "outputs": [
    {
     "name": "stdout",
     "output_type": "stream",
     "text": [
      "Optimization terminated successfully.\n",
      "         Current function value: 0.430473\n",
      "         Iterations 6\n"
     ]
    },
    {
     "data": {
      "text/html": [
       "<table class=\"simpletable\">\n",
       "<tr>\n",
       "        <td>Model:</td>              <td>Logit</td>       <td>No. Iterations:</td>   <td>6.0000</td>  \n",
       "</tr>\n",
       "<tr>\n",
       "  <td>Dependent Variable:</td>        <td>dog</td>       <td>Pseudo R-squared:</td>   <td>0.002</td>  \n",
       "</tr>\n",
       "<tr>\n",
       "         <td>Date:</td>        <td>2020-05-25 00:34</td>       <td>AIC:</td>        <td>1715.5617</td>\n",
       "</tr>\n",
       "<tr>\n",
       "   <td>No. Observations:</td>        <td>1988</td>             <td>BIC:</td>        <td>1726.7515</td>\n",
       "</tr>\n",
       "<tr>\n",
       "       <td>Df Model:</td>              <td>1</td>         <td>Log-Likelihood:</td>   <td>-855.78</td> \n",
       "</tr>\n",
       "<tr>\n",
       "     <td>Df Residuals:</td>          <td>1986</td>           <td>LL-Null:</td>       <td>-857.16</td> \n",
       "</tr>\n",
       "<tr>\n",
       "      <td>Converged:</td>           <td>1.0000</td>           <td>Scale:</td>        <td>1.0000</td>  \n",
       "</tr>\n",
       "</table>\n",
       "<table class=\"simpletable\">\n",
       "<tr>\n",
       "     <td></td>     <th>Coef.</th>  <th>Std.Err.</th>    <th>z</th>     <th>P>|z|</th> <th>[0.025</th>  <th>0.975]</th>\n",
       "</tr>\n",
       "<tr>\n",
       "  <th>const</th>  <td>1.7221</td>   <td>0.0650</td>  <td>26.4894</td> <td>0.0000</td> <td>1.5947</td>  <td>1.8496</td>\n",
       "</tr>\n",
       "<tr>\n",
       "  <th>rating</th> <td>-0.0210</td>  <td>0.0166</td>  <td>-1.2634</td> <td>0.2064</td> <td>-0.0537</td> <td>0.0116</td>\n",
       "</tr>\n",
       "</table>"
      ],
      "text/plain": [
       "<class 'statsmodels.iolib.summary2.Summary'>\n",
       "\"\"\"\n",
       "                         Results: Logit\n",
       "================================================================\n",
       "Model:              Logit            No. Iterations:   6.0000   \n",
       "Dependent Variable: dog              Pseudo R-squared: 0.002    \n",
       "Date:               2020-05-25 00:34 AIC:              1715.5617\n",
       "No. Observations:   1988             BIC:              1726.7515\n",
       "Df Model:           1                Log-Likelihood:   -855.78  \n",
       "Df Residuals:       1986             LL-Null:          -857.16  \n",
       "Converged:          1.0000           Scale:            1.0000   \n",
       "------------------------------------------------------------------\n",
       "           Coef.    Std.Err.      z      P>|z|     [0.025   0.975]\n",
       "------------------------------------------------------------------\n",
       "const      1.7221     0.0650   26.4894   0.0000    1.5947   1.8496\n",
       "rating    -0.0210     0.0166   -1.2634   0.2064   -0.0537   0.0116\n",
       "================================================================\n",
       "\n",
       "\"\"\""
      ]
     },
     "execution_count": 84,
     "metadata": {},
     "output_type": "execute_result"
    }
   ],
   "source": [
    "# create a boolean column 'dog': True if any of the three columns p1_dog, p2_dog or p3_dog is true, false when all of the three columns are \n",
    "# false. Also create a column 'rating' as rating_numerator over rating_denominator.\n",
    "\n",
    "df['dog'] = df.p1_dog | df.p2_dog | df.p3_dog\n",
    "df['rating'] = df.rating_numerator/df.rating_denominator\n",
    "\n",
    "#show logistic regression of dog vs rating\n",
    "\n",
    "nrating = sm.add_constant(df.rating)\n",
    "logit_mod_nrating = sm.Logit(df.dog.astype(int), nrating, missing='drop').fit()\n",
    "logit_mod_nrating.summary2()"
   ]
  },
  {
   "cell_type": "code",
   "execution_count": 85,
   "metadata": {},
   "outputs": [
    {
     "name": "stdout",
     "output_type": "stream",
     "text": [
      "Optimization terminated successfully.\n",
      "         Current function value: 0.430692\n",
      "         Iterations 6\n"
     ]
    },
    {
     "data": {
      "text/html": [
       "<table class=\"simpletable\">\n",
       "<tr>\n",
       "        <td>Model:</td>              <td>Logit</td>       <td>No. Iterations:</td>   <td>6.0000</td>  \n",
       "</tr>\n",
       "<tr>\n",
       "  <td>Dependent Variable:</td>        <td>dog</td>       <td>Pseudo R-squared:</td>   <td>0.001</td>  \n",
       "</tr>\n",
       "<tr>\n",
       "         <td>Date:</td>        <td>2020-05-25 00:34</td>       <td>AIC:</td>        <td>1717.2909</td>\n",
       "</tr>\n",
       "<tr>\n",
       "   <td>No. Observations:</td>        <td>1989</td>             <td>BIC:</td>        <td>1728.4817</td>\n",
       "</tr>\n",
       "<tr>\n",
       "       <td>Df Model:</td>              <td>1</td>         <td>Log-Likelihood:</td>   <td>-856.65</td> \n",
       "</tr>\n",
       "<tr>\n",
       "     <td>Df Residuals:</td>          <td>1987</td>           <td>LL-Null:</td>       <td>-857.33</td> \n",
       "</tr>\n",
       "<tr>\n",
       "      <td>Converged:</td>           <td>1.0000</td>           <td>Scale:</td>        <td>1.0000</td>  \n",
       "</tr>\n",
       "</table>\n",
       "<table class=\"simpletable\">\n",
       "<tr>\n",
       "        <td></td>         <th>Coef.</th> <th>Std.Err.</th>    <th>z</th>     <th>P>|z|</th> <th>[0.025</th>  <th>0.975]</th>\n",
       "</tr>\n",
       "<tr>\n",
       "  <th>const</th>         <td>1.6509</td>  <td>0.0739</td>  <td>22.3248</td> <td>0.0000</td> <td>1.5060</td>  <td>1.7958</td>\n",
       "</tr>\n",
       "<tr>\n",
       "  <th>retweet_count</th> <td>0.0000</td>  <td>0.0000</td>  <td>1.0961</td>  <td>0.2730</td> <td>-0.0000</td> <td>0.0000</td>\n",
       "</tr>\n",
       "</table>"
      ],
      "text/plain": [
       "<class 'statsmodels.iolib.summary2.Summary'>\n",
       "\"\"\"\n",
       "                         Results: Logit\n",
       "================================================================\n",
       "Model:              Logit            No. Iterations:   6.0000   \n",
       "Dependent Variable: dog              Pseudo R-squared: 0.001    \n",
       "Date:               2020-05-25 00:34 AIC:              1717.2909\n",
       "No. Observations:   1989             BIC:              1728.4817\n",
       "Df Model:           1                Log-Likelihood:   -856.65  \n",
       "Df Residuals:       1987             LL-Null:          -857.33  \n",
       "Converged:          1.0000           Scale:            1.0000   \n",
       "-----------------------------------------------------------------\n",
       "               Coef.   Std.Err.     z     P>|z|    [0.025  0.975]\n",
       "-----------------------------------------------------------------\n",
       "const          1.6509    0.0739  22.3248  0.0000   1.5060  1.7958\n",
       "retweet_count  0.0000    0.0000   1.0961  0.2730  -0.0000  0.0000\n",
       "================================================================\n",
       "\n",
       "\"\"\""
      ]
     },
     "execution_count": 85,
     "metadata": {},
     "output_type": "execute_result"
    }
   ],
   "source": [
    "#show logistic regression of dog vs retweet_count\n",
    "\n",
    "retweet = sm.add_constant(df.retweet_count)\n",
    "logit_mod_retweet = sm.Logit(df.dog.astype(int), retweet).fit()\n",
    "logit_mod_retweet.summary2()"
   ]
  },
  {
   "cell_type": "code",
   "execution_count": 86,
   "metadata": {},
   "outputs": [
    {
     "name": "stdout",
     "output_type": "stream",
     "text": [
      "Optimization terminated successfully.\n",
      "         Current function value: 0.428567\n",
      "         Iterations 6\n"
     ]
    },
    {
     "data": {
      "text/html": [
       "<table class=\"simpletable\">\n",
       "<tr>\n",
       "        <td>Model:</td>              <td>Logit</td>       <td>No. Iterations:</td>   <td>6.0000</td>  \n",
       "</tr>\n",
       "<tr>\n",
       "  <td>Dependent Variable:</td>        <td>dog</td>       <td>Pseudo R-squared:</td>   <td>0.006</td>  \n",
       "</tr>\n",
       "<tr>\n",
       "         <td>Date:</td>        <td>2020-05-25 00:35</td>       <td>AIC:</td>        <td>1708.8382</td>\n",
       "</tr>\n",
       "<tr>\n",
       "   <td>No. Observations:</td>        <td>1989</td>             <td>BIC:</td>        <td>1720.0290</td>\n",
       "</tr>\n",
       "<tr>\n",
       "       <td>Df Model:</td>              <td>1</td>         <td>Log-Likelihood:</td>   <td>-852.42</td> \n",
       "</tr>\n",
       "<tr>\n",
       "     <td>Df Residuals:</td>          <td>1987</td>           <td>LL-Null:</td>       <td>-857.33</td> \n",
       "</tr>\n",
       "<tr>\n",
       "      <td>Converged:</td>           <td>1.0000</td>           <td>Scale:</td>        <td>1.0000</td>  \n",
       "</tr>\n",
       "</table>\n",
       "<table class=\"simpletable\">\n",
       "<tr>\n",
       "         <td></td>         <th>Coef.</th> <th>Std.Err.</th>    <th>z</th>     <th>P>|z|</th> <th>[0.025</th> <th>0.975]</th>\n",
       "</tr>\n",
       "<tr>\n",
       "  <th>const</th>          <td>1.5431</td>  <td>0.0790</td>  <td>19.5305</td> <td>0.0000</td> <td>1.3883</td> <td>1.6980</td>\n",
       "</tr>\n",
       "<tr>\n",
       "  <th>favorite_count</th> <td>0.0000</td>  <td>0.0000</td>  <td>2.8560</td>  <td>0.0043</td> <td>0.0000</td> <td>0.0000</td>\n",
       "</tr>\n",
       "</table>"
      ],
      "text/plain": [
       "<class 'statsmodels.iolib.summary2.Summary'>\n",
       "\"\"\"\n",
       "                         Results: Logit\n",
       "================================================================\n",
       "Model:              Logit            No. Iterations:   6.0000   \n",
       "Dependent Variable: dog              Pseudo R-squared: 0.006    \n",
       "Date:               2020-05-25 00:35 AIC:              1708.8382\n",
       "No. Observations:   1989             BIC:              1720.0290\n",
       "Df Model:           1                Log-Likelihood:   -852.42  \n",
       "Df Residuals:       1987             LL-Null:          -857.33  \n",
       "Converged:          1.0000           Scale:            1.0000   \n",
       "-----------------------------------------------------------------\n",
       "                Coef.   Std.Err.     z     P>|z|   [0.025  0.975]\n",
       "-----------------------------------------------------------------\n",
       "const           1.5431    0.0790  19.5305  0.0000  1.3883  1.6980\n",
       "favorite_count  0.0000    0.0000   2.8560  0.0043  0.0000  0.0000\n",
       "================================================================\n",
       "\n",
       "\"\"\""
      ]
     },
     "execution_count": 86,
     "metadata": {},
     "output_type": "execute_result"
    }
   ],
   "source": [
    "# show logistic regression of dog vs favorite_count\n",
    "\n",
    "fav = sm.add_constant(df.favorite_count)\n",
    "logit_mod_fav = sm.Logit(df.dog.astype(int), fav).fit()\n",
    "logit_mod_fav.summary2()"
   ]
  }
 ],
 "metadata": {
  "kernelspec": {
   "display_name": "Python 3",
   "language": "python",
   "name": "python3"
  },
  "language_info": {
   "codemirror_mode": {
    "name": "ipython",
    "version": 3
   },
   "file_extension": ".py",
   "mimetype": "text/x-python",
   "name": "python",
   "nbconvert_exporter": "python",
   "pygments_lexer": "ipython3",
   "version": "3.6.3"
  }
 },
 "nbformat": 4,
 "nbformat_minor": 2
}
